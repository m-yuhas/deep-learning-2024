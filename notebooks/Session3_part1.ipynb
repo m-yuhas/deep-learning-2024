{
  "nbformat": 4,
  "nbformat_minor": 0,
  "metadata": {
    "colab": {
      "provenance": []
    },
    "kernelspec": {
      "name": "python3",
      "display_name": "Python 3"
    },
    "language_info": {
      "name": "python"
    }
  },
  "cells": [
    {
      "cell_type": "markdown",
      "source": [
        "# Image Processing with Deep Learning\n",
        "\n",
        "Welcome to the third session of deep learning bootcamp.  Today we are going to focus on using deep learning for image processing.  Feel free to jot down any notes you have from today's session in this notebook and please feel free to modify and experiment with the code during today's exercises."
      ],
      "metadata": {
        "id": "qi4D4Q7leC0a"
      }
    },
    {
      "cell_type": "markdown",
      "source": [
        "## What is Image Processing?"
      ],
      "metadata": {
        "id": "avWdnFiWe9Py"
      }
    },
    {
      "cell_type": "code",
      "source": [],
      "metadata": {
        "id": "ECo_5ZB37cmd"
      },
      "execution_count": null,
      "outputs": []
    },
    {
      "cell_type": "markdown",
      "source": [
        "## Image Classification and LeNet"
      ],
      "metadata": {
        "id": "9jwsESxPfalJ"
      }
    },
    {
      "cell_type": "code",
      "source": [
        "import torch\n",
        "import torchvision\n",
        "from matplotlib import pyplot as plt"
      ],
      "metadata": {
        "id": "m0Y5AHudCsFS"
      },
      "execution_count": 36,
      "outputs": []
    },
    {
      "cell_type": "code",
      "source": [
        "mnist = torchvision.datasets.MNIST(\n",
        "    root='sample_data',\n",
        "    download=True,\n",
        "    transform=torchvision.transforms.ToTensor()\n",
        ")\n",
        "print(f'Total No. Images: {len(mnist)}')\n",
        "\n",
        "print('Sample of images with ground truth class data:')\n",
        "fig, ax = plt.subplots(1,5)\n",
        "for i in range(5):\n",
        "  ax[i].imshow(mnist[i][0].squeeze())\n",
        "  ax[i].set_xlabel(mnist[i][1])\n",
        "  ax[i].get_xaxis().set_ticks([])\n",
        "  ax[i].get_yaxis().set_ticks([])\n"
      ],
      "metadata": {
        "colab": {
          "base_uri": "https://localhost:8080/",
          "height": 178
        },
        "id": "oZBk7AGMC_G2",
        "outputId": "485f8818-d7ad-40ab-c7df-21bcf445cf19"
      },
      "execution_count": 42,
      "outputs": [
        {
          "output_type": "stream",
          "name": "stdout",
          "text": [
            "Total No. Images: 60000\n",
            "Sample of images with ground truth class data:\n"
          ]
        },
        {
          "output_type": "display_data",
          "data": {
            "text/plain": [
              "<Figure size 640x480 with 5 Axes>"
            ],
            "image/png": "[encoded data removed]"
          },
          "metadata": {}
        }
      ]
    },
    {
      "cell_type": "code",
      "source": [
        "train_set, val_set, test_set = torch.utils.data.random_split(\n",
        "    mnist,\n",
        "    [int(0.8 * len(mnist)), int(0.1 * len(mnist)), int(0.1 * len(mnist))]\n",
        ")\n",
        "print(f'No. Train Images: {len(train_set)}')\n",
        "print(f'No. Val Images: {len(val_set)}')\n",
        "print(f'No. Test Images: {len(test_set)}')"
      ],
      "metadata": {
        "colab": {
          "base_uri": "https://localhost:8080/"
        },
        "id": "Mw4AXzYzGyPx",
        "outputId": "93b3ba30-e0a1-4f1a-8cf5-7dcdc363b305"
      },
      "execution_count": 43,
      "outputs": [
        {
          "output_type": "stream",
          "name": "stdout",
          "text": [
            "No. Train Images: 48000\n",
            "No. Val Images: 6000\n",
            "No. Test Images: 6000\n"
          ]
        }
      ]
    },
    {
      "cell_type": "code",
      "source": [
        "class LeNet(torch.nn.Module):\n",
        "\n",
        "  def __init__(self):\n",
        "    super().__init__()\n",
        "\n",
        "    # First Convolution\n",
        "    self.conv1 = torch.nn.Conv2d(\n",
        "        in_channels=1,\n",
        "        out_channels=4,\n",
        "        kernel_size=5,\n",
        "        stride=1,\n",
        "        padding=0\n",
        "    )\n",
        "    self.batch_norm1 = torch.nn.BatchNorm2d(4)\n",
        "    self.activation1 = torch.nn.ReLU()\n",
        "    self.pool1 = torch.nn.MaxPool2d(2)\n",
        "\n",
        "    # Second Convolution\n",
        "    self.conv2 = torch.nn.Conv2d(\n",
        "        in_channels=4,\n",
        "        out_channels=12,\n",
        "        kernel_size=5,\n",
        "        stride=1,\n",
        "        padding=0\n",
        "    )\n",
        "    self.batch_norm2 = torch.nn.BatchNorm2d(12)\n",
        "    self.activation2 = torch.nn.ReLU()\n",
        "    self.pool2 = torch.nn.MaxPool2d(2)\n",
        "\n",
        "    # Fully Connected Layers\n",
        "    self.fully_connected1 = torch.nn.Linear(\n",
        "        in_features=4 * 4 * 12,\n",
        "        out_features=10\n",
        "    )\n",
        "    self.softmax = torch.nn.LogSoftmax()\n",
        "\n",
        "  def forward(self, x: torch.Tensor) -> torch.Tensor:\n",
        "    # First Convolution\n",
        "    x = self.conv1(x)\n",
        "    x = self.batch_norm1(x)\n",
        "    x = self.activation1(x)\n",
        "    x = self.pool1(x)\n",
        "\n",
        "    # Second Convolution\n",
        "    x = self.conv2(x)\n",
        "    x = self.batch_norm2(x)\n",
        "    x = self.activation2(x)\n",
        "    x = self.pool2(x)\n",
        "\n",
        "    # Head\n",
        "    x = x.view(x.size(0), -1)\n",
        "    x = self.fully_connected1(x)\n",
        "    y_hat = self.softmax(x)\n",
        "    return y_hat"
      ],
      "metadata": {
        "id": "22DbhSvheAeb"
      },
      "execution_count": 44,
      "outputs": []
    },
    {
      "cell_type": "code",
      "source": [
        "# Training Loop\n",
        "device = torch.device('cuda' if torch.cuda.is_available() else 'cpu')\n",
        "print(f'Using device: {device}')\n",
        "\n",
        "model = LeNet()\n",
        "model.to(device)\n",
        "\n",
        "torch.manual_seed(0)\n",
        "torch.cuda.manual_seed(0)\n",
        "torch.use_deterministic_algorithms(True)\n",
        "torch.backends.cudnn.benchmark = False\n",
        "\n",
        "train_loader = torch.utils.data.DataLoader(\n",
        "    dataset=train_set,\n",
        "    batch_size=200,\n",
        "    shuffle=True,\n",
        "    drop_last=True\n",
        ")\n",
        "val_loader = torch.utils.data.DataLoader(\n",
        "    dataset=val_set,\n",
        "    batch_size=200,\n",
        "    shuffle=True,\n",
        "    drop_last=True,\n",
        ")\n",
        "\n",
        "loss_function = torch.nn.NLLLoss()\n",
        "\n",
        "optimizer = torch.optim.Adam(model.parameters(), lr=1e-4)\n",
        "train_loss = []\n",
        "val_loss = []\n",
        "for epoch in range(10):\n",
        "  train_loss.append(0)\n",
        "  val_loss.append(0)\n",
        "  for data in train_loader:\n",
        "    x, y = data\n",
        "    x.to(device)\n",
        "    y.to(device)\n",
        "    y_hat = model(x)\n",
        "    L = loss_function(y_hat, y)\n",
        "\n",
        "    optimizer.zero_grad()\n",
        "    L.backward()\n",
        "    optimizer.step()\n",
        "\n",
        "    train_loss[-1] += L\n",
        "\n",
        "  for data in val_loader:\n",
        "    x, y = data\n",
        "    x.to(device)\n",
        "    y.to(device)\n",
        "    with torch.no_grad():\n",
        "      y_hat = model(x)\n",
        "      L = loss_function(y_hat, y)\n",
        "      val_loss[-1] += L\n",
        "\n",
        "  print(f'Epoch: {epoch} --- Training Loss: {train_loss[-1]:.2f} --- Val Loss: {val_loss[-1]:.2f}')\n",
        "\n"
      ],
      "metadata": {
        "colab": {
          "base_uri": "https://localhost:8080/"
        },
        "id": "nxvsG0XbVtgb",
        "outputId": "183fb8a4-7075-4847-b8b9-605a2398343b"
      },
      "execution_count": 45,
      "outputs": [
        {
          "output_type": "stream",
          "name": "stdout",
          "text": [
            "Using device: cpu\n"
          ]
        },
        {
          "output_type": "stream",
          "name": "stderr",
          "text": [
            "/usr/local/lib/python3.10/dist-packages/torch/nn/modules/module.py:1518: UserWarning: Implicit dimension choice for log_softmax has been deprecated. Change the call to include dim=X as an argument.\n",
            "  return self._call_impl(*args, **kwargs)\n"
          ]
        },
        {
          "output_type": "stream",
          "name": "stdout",
          "text": [
            "Epoch: 0 --- Training Loss: 418.39 --- Val Loss: 36.75\n",
            "Epoch: 1 --- Training Loss: 225.00 --- Val Loss: 21.82\n",
            "Epoch: 2 --- Training Loss: 145.10 --- Val Loss: 15.28\n",
            "Epoch: 3 --- Training Loss: 105.86 --- Val Loss: 11.61\n",
            "Epoch: 4 --- Training Loss: 82.63 --- Val Loss: 9.34\n",
            "Epoch: 5 --- Training Loss: 67.75 --- Val Loss: 7.81\n",
            "Epoch: 6 --- Training Loss: 57.58 --- Val Loss: 6.76\n",
            "Epoch: 7 --- Training Loss: 50.18 --- Val Loss: 5.99\n",
            "Epoch: 8 --- Training Loss: 44.63 --- Val Loss: 5.39\n",
            "Epoch: 9 --- Training Loss: 40.30 --- Val Loss: 4.90\n"
          ]
        }
      ]
    },
    {
      "cell_type": "code",
      "source": [
        "# Predict with model\n",
        "test_loader = torch.utils.data.DataLoader(\n",
        "    dataset=test_set,\n",
        "    batch_size=200\n",
        ")\n",
        "\n",
        "loss_function = torch.nn.NLLLoss()\n",
        "\n",
        "total_predictions = 0\n",
        "total_correct = 0\n",
        "for data in train_loader:\n",
        "  x, y = data\n",
        "  x.to(device)\n",
        "  y.to(device)\n",
        "  with torch.no_grad():\n",
        "    y_hat = model(x)\n",
        "    total_correct += torch.sum(torch.argmax(y_hat, 1) == y)\n",
        "    total_predictions += y_hat.shape[0]\n",
        "\n",
        "print(f'Accuracy: {100 * total_correct/total_predictions:.2f}%')\n"
      ],
      "metadata": {
        "colab": {
          "base_uri": "https://localhost:8080/"
        },
        "id": "DXFWjWbhyhKX",
        "outputId": "72ed55b9-7f1d-429f-b2f0-c5c55dbe3d85"
      },
      "execution_count": 51,
      "outputs": [
        {
          "output_type": "stream",
          "name": "stdout",
          "text": [
            "Accuracy: 96.02%\n"
          ]
        }
      ]
    },
    {
      "cell_type": "code",
      "source": [
        "# Visualize Predictions\n",
        "fig, ax = plt.subplots(1,5)\n",
        "for i in range(5):\n",
        "  ax[i].imshow(mnist[i][0].squeeze())\n",
        "\n",
        "  with torch.no_grad():\n",
        "    y_hat = model(mnist[i][0].unsqueeze(0))\n",
        "    ax[i].set_xlabel(f'GT: {mnist[i][1]}, NN: {torch.argmax(y_hat, 1).item()}')\n",
        "\n",
        "  ax[i].get_xaxis().set_ticks([])\n",
        "  ax[i].get_yaxis().set_ticks([])"
      ],
      "metadata": {
        "colab": {
          "base_uri": "https://localhost:8080/",
          "height": 142
        },
        "id": "nGMyUOUk1DzZ",
        "outputId": "802f9cbf-0395-4001-ef66-8f29ff891a9c"
      },
      "execution_count": 58,
      "outputs": [
        {
          "output_type": "display_data",
          "data": {
            "text/plain": [
              "<Figure size 640x480 with 5 Axes>"
            ],
            "image/png": "[encoded data removed]"
          },
          "metadata": {}
        }
      ]
    },
    {
      "cell_type": "code",
      "source": [
        "# Feature Visualization\n",
        "fig, ax = plt.subplots(1,4)\n",
        "for i in range(4):\n",
        "  filter = model.conv1.weight[i,0,:,:].squeeze().detach().numpy()\n",
        "  ax[i].imshow(filter)\n",
        "  ax[i].get_xaxis().set_ticks([])\n",
        "  ax[i].get_yaxis().set_ticks([])\n",
        "\n"
      ],
      "metadata": {
        "colab": {
          "base_uri": "https://localhost:8080/",
          "height": 144
        },
        "id": "cnWwUJMv2cG5",
        "outputId": "3bec9ba0-b734-4be8-e2c6-5e035136757a"
      },
      "execution_count": 64,
      "outputs": [
        {
          "output_type": "display_data",
          "data": {
            "text/plain": [
              "<Figure size 640x480 with 4 Axes>"
            ],
            "image/png": "[encoded data removed]"
          },
          "metadata": {}
        }
      ]
    }
  ]
}