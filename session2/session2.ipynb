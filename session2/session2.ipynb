{
  "cells": [
    {
      "cell_type": "markdown",
      "metadata": {
        "id": "fgA4-lbqtGQ1"
      },
      "source": [
        "<a href=\"https://colab.research.google.com/github/ntu-dl-bootcamp/deep-learning-2024/blob/main/session2/session2.ipynb\" target=\"_blank\"><img alt=\"Open In Colab\" src=\"https://colab.research.google.com/assets/colab-badge.svg\"/></a>"
      ]
    },
    {
      "cell_type": "markdown",
      "metadata": {
        "id": "pgZqghvjtGQ-"
      },
      "source": [
        "# Deep Learning using PyTorch\n",
        "\n",
        "In last week's session, you learnt the basics of Python and looked at some popular libraries for working with data. In this session, you will learn to work with PyTorch, one of the most popular Python frameworks for Deep Learning.\n",
        "\n",
        "PyTorch is a Python-based Deep Learning platform that provides flexibility and speed for developing Deep Learning solutions. At its core, PyTorch provides the following key features:\n",
        "\n",
        "* A multidimensional **Tensor** object, similar to NumPy Array but with GPU acceleration.\n",
        "* An automatic differentiation engine called **Autograd** for efficiently and automatically computing derivatives needed for optimization.\n",
        "* A clean, modular API for building and deploying deep learning models."
      ]
    },
    {
      "cell_type": "markdown",
      "source": [
        "In this notebook, we'll first look at Tensors - what they are, how to create them, manipulate them and perform operations on them. In actual Deep Learning projects, we might be dealing with huge datasets. So we'll take a look at how we can manage them easily using PyTorch's features. We then go through the whole flow of building neural networks, training them, testing (as well as monitoring) their performance. We will look at all the components that go into a deep learning solution using the task of identifying hand written digits from the MNIST dataset as an example.\n",
        "\n",
        "\n",
        "We have a few exercises after each section that will help you apply the concepts discussed in the notebook as well as allow you to experiment with them. We also have some challenges for you at the end of the notebook, try them all out!\n",
        "\n",
        "**Copy the notebook to your drive to start working on it**"
      ],
      "metadata": {
        "id": "RrHok7zXwCgN"
      }
    },
    {
      "cell_type": "markdown",
      "metadata": {
        "id": "NaU3akAjtGQ_"
      },
      "source": [
        "A few shortcuts that might come in handy:\n",
        "\n",
        "*   Run a cell: Ctrl + Enter\n",
        "*   Run a cell and move to the next one: Shift + Enter\n",
        "*   Navigate between cells: Arrow keys"
      ]
    },
    {
      "cell_type": "markdown",
      "source": [
        "# PyTorch Basics\n",
        "\n"
      ],
      "metadata": {
        "id": "uP88YEyGElV3"
      }
    },
    {
      "cell_type": "markdown",
      "source": [
        "Let's first import some useful libraries - PyTorch (torch) and Numpy"
      ],
      "metadata": {
        "id": "7286aO-arTRx"
      }
    },
    {
      "cell_type": "code",
      "source": [
        "import torch\n",
        "import numpy as np"
      ],
      "metadata": {
        "id": "a-eJHUuPG_aR"
      },
      "execution_count": 1,
      "outputs": []
    },
    {
      "cell_type": "markdown",
      "source": [
        "## Tensors\n",
        "\n",
        "A PyTorch Tensor is a specialized data structure that is very similar to arrays and matrices. It is a multi-dimensional array with a uniform type (called a dtype), and can make use of GPUs or other hardware accelerators. Apart from the data a PyTorch tensor is supposed to store, when required, it stores additional information about its derivatives with respect to some other variables which might be necessary during the optimization step. In PyTorch, we use tensors to encode the inputs and outputs of a model, as well as the model’s parameters."
      ],
      "metadata": {
        "id": "uSVqqyYyGlzQ"
      }
    },
    {
      "cell_type": "markdown",
      "source": [
        "###Creating Tensors\n",
        "\n",
        "There are various ways of creating tensors, and when working on any real deep learning project, we will usually use more than one.\n",
        "\n"
      ],
      "metadata": {
        "id": "w3pGOUWFHFy4"
      }
    },
    {
      "cell_type": "code",
      "source": [
        "# From Python iterables such as lists and tuples\n",
        "\n",
        "# tensor from a list\n",
        "a = torch.tensor([0, 1, 2])\n",
        "\n",
        "#tensor from a tuple of tuples (nested iterables can also be handled as long as\n",
        "# the dimensions are compatible)\n",
        "b = ((1.0, 1.1), (1.2, 1.3))\n",
        "b = torch.tensor(b)\n",
        "\n",
        "# tensor from a numpy array\n",
        "c = np.ones([2, 3])   # numpy array\n",
        "c = torch.tensor(c)\n",
        "\n",
        "print(f\"a: {a}\")\n",
        "print(f\"b: {b}\")\n",
        "print(f\"c: {c}\")"
      ],
      "metadata": {
        "id": "KJ1UPRLcHgd6",
        "colab": {
          "base_uri": "https://localhost:8080/"
        },
        "outputId": "53ea8e18-ff64-4acf-c3f0-a254d4cd960d"
      },
      "execution_count": 2,
      "outputs": [
        {
          "output_type": "stream",
          "name": "stdout",
          "text": [
            "a: tensor([0, 1, 2])\n",
            "b: tensor([[1.0000, 1.1000],\n",
            "        [1.2000, 1.3000]])\n",
            "c: tensor([[1., 1., 1.],\n",
            "        [1., 1., 1.]], dtype=torch.float64)\n"
          ]
        }
      ]
    },
    {
      "cell_type": "code",
      "source": [
        "# Tensor constructors\n",
        "\n",
        "x = torch.ones(5, 3)        # creates a tensor with given dimensions and initilaizes all elements to 1\n",
        "y = torch.zeros(2)          # creates a tensor with given dimensions and initializes all elements to 0\n",
        "z = torch.empty(1, 1, 5)    # creates a tensor with given dimensions, without any initialization. This is faster than ones and zeros. (Elements have garbage values)\n",
        "\n",
        "print(f\"x: {x}\")\n",
        "print(f\"y: {y}\")\n",
        "print(f\"z: {z}\")\n",
        "\n",
        "a = torch.ones_like(y)      # creates a tensor of the same shape as the input to the function, and initializes all elements to 1\n",
        "b = torch.zeros_like(torch.tensor([4, 5, 6, 7]))     # creates a tensor of the same shape as the input to the function, and initializes all elements to 0\n",
        "\n",
        "print(f\"\\na: {a}\")\n",
        "print(f\"b: {b}\")"
      ],
      "metadata": {
        "id": "OjJUf_uTkcnv",
        "colab": {
          "base_uri": "https://localhost:8080/"
        },
        "outputId": "11ff7129-66ad-40b6-a316-50e9b85b427f"
      },
      "execution_count": 3,
      "outputs": [
        {
          "output_type": "stream",
          "name": "stdout",
          "text": [
            "x: tensor([[1., 1., 1.],\n",
            "        [1., 1., 1.],\n",
            "        [1., 1., 1.],\n",
            "        [1., 1., 1.],\n",
            "        [1., 1., 1.]])\n",
            "y: tensor([0., 0.])\n",
            "z: tensor([[[0., 0., 0., 0., 0.]]])\n",
            "\n",
            "a: tensor([1., 1.])\n",
            "b: tensor([0, 0, 0, 0])\n"
          ]
        }
      ]
    },
    {
      "cell_type": "code",
      "source": [
        "# Random tensors\n",
        "\n",
        "# Uniform distribution\n",
        "a = torch.rand(1, 3)\n",
        "\n",
        "# Normal distribution\n",
        "b = torch.randn(3, 4)\n",
        "\n",
        "print(f\"a: {a}\")\n",
        "print(f\"b: {b}\")"
      ],
      "metadata": {
        "id": "cru_2ReElz0K",
        "colab": {
          "base_uri": "https://localhost:8080/"
        },
        "outputId": "781a70dd-509c-4589-e5b6-ccdab0b8ff30"
      },
      "execution_count": 4,
      "outputs": [
        {
          "output_type": "stream",
          "name": "stdout",
          "text": [
            "a: tensor([[0.9833, 0.2373, 0.8128]])\n",
            "b: tensor([[-0.1013,  0.3722, -0.0977,  0.2938],\n",
            "        [ 1.2748,  2.3107, -0.7396, -0.9473],\n",
            "        [-0.0109, -0.1266, -0.4224, -0.0967]])\n"
          ]
        }
      ]
    },
    {
      "cell_type": "code",
      "source": [
        "# Number ranges\n",
        "\n",
        "a = torch.arange(0, 10, step=2)           # creates a tensor with elements from 0 (included) to 10 (excluded), with step size 2\n",
        "b = torch.linspace(0, 5, steps=11)        # creates a tensor with 11 equally spaced elements from 0 to 5 (both included)\n",
        "\n",
        "print(f\"a: {a}\\n\")\n",
        "print(f\"b: {b}\\n\")"
      ],
      "metadata": {
        "id": "p_KW4owJnQ2q",
        "colab": {
          "base_uri": "https://localhost:8080/"
        },
        "outputId": "8f7e8e4d-ddfc-4c1c-9c15-aff5a402f535"
      },
      "execution_count": 5,
      "outputs": [
        {
          "output_type": "stream",
          "name": "stdout",
          "text": [
            "a: tensor([0, 2, 4, 6, 8])\n",
            "\n",
            "b: tensor([0.0000, 0.5000, 1.0000, 1.5000, 2.0000, 2.5000, 3.0000, 3.5000, 4.0000,\n",
            "        4.5000, 5.0000])\n",
            "\n"
          ]
        }
      ]
    },
    {
      "cell_type": "markdown",
      "source": [
        "### Tensor Operations"
      ],
      "metadata": {
        "id": "SeyE2UnE4TAS"
      }
    },
    {
      "cell_type": "code",
      "source": [
        "# Pointwise tensor arithmetic using regular python operators\n",
        "\n",
        "x = torch.tensor([1, 2, 4, 8])\n",
        "y = torch.tensor([1, 2, 3, 4])\n",
        "\n",
        "x + y, x - y, x * y, x / y, x**y  # The `**` is the exponentiation operator"
      ],
      "metadata": {
        "colab": {
          "base_uri": "https://localhost:8080/"
        },
        "id": "q9bBOOQ95B4d",
        "outputId": "b559ed4a-e11d-4b4f-a40f-6483bb37e3c4"
      },
      "execution_count": 6,
      "outputs": [
        {
          "output_type": "execute_result",
          "data": {
            "text/plain": [
              "(tensor([ 2,  4,  7, 12]),\n",
              " tensor([0, 0, 1, 4]),\n",
              " tensor([ 1,  4, 12, 32]),\n",
              " tensor([1.0000, 1.0000, 1.3333, 2.0000]),\n",
              " tensor([   1,    4,   64, 4096]))"
            ]
          },
          "metadata": {},
          "execution_count": 6
        }
      ]
    },
    {
      "cell_type": "code",
      "source": [
        "# Pointwise tensor arithmetic using inbuilt functions\n",
        "\n",
        "# Adding tensors of the same shape\n",
        "z = torch.add(x, y)\n",
        "print(f\"Sum of x and y: {z}\\n\")\n",
        "\n",
        "# Pointwise multiplication of tensors\n",
        "torch.multiply(x, y, out=z)   # using the optional 'out' parameter to store the result (works only when z already exists)\n",
        "\n",
        "print(f\"Pointwise multiplication of x and y: {z}\")"
      ],
      "metadata": {
        "colab": {
          "base_uri": "https://localhost:8080/"
        },
        "id": "LXdBZPsO4lAt",
        "outputId": "705b6e10-e4dc-4198-f2a2-8321c505eae0"
      },
      "execution_count": 7,
      "outputs": [
        {
          "output_type": "stream",
          "name": "stdout",
          "text": [
            "Sum of x and y: tensor([ 2,  4,  7, 12])\n",
            "\n",
            "Pointwise multiplication of x and y: tensor([ 1,  4, 12, 32])\n"
          ]
        }
      ]
    },
    {
      "cell_type": "code",
      "source": [
        "# Operations on elements within a tensor\n",
        "\n",
        "x = torch.rand(3, 3)\n",
        "print(x)\n",
        "\n",
        "# sum() - note the axis is the axis you move across when summing\n",
        "print(f\"\\nSum of every element of x: {x.sum()}\")\n",
        "print(f\"Sum of the columns of x: {x.sum(axis=0)}\")\n",
        "print(f\"Sum of the rows of x: {x.sum(axis=1)}\")\n",
        "\n",
        "print(f\"\\nMean value of all elements of x {x.mean()}\")\n",
        "print(f\"Mean values of the columns of x {x.mean(axis=0)}\")\n",
        "print(f\"Mean values of the rows of x {x.mean(axis=1)}\")"
      ],
      "metadata": {
        "colab": {
          "base_uri": "https://localhost:8080/"
        },
        "id": "Yb47v4Og5JlD",
        "outputId": "3e08ed0a-6e60-49d0-ea05-52fafea1a309"
      },
      "execution_count": 8,
      "outputs": [
        {
          "output_type": "stream",
          "name": "stdout",
          "text": [
            "tensor([[0.4410, 0.4682, 0.7149],\n",
            "        [0.2056, 0.1425, 0.5082],\n",
            "        [0.4414, 0.2333, 0.8837]])\n",
            "\n",
            "Sum of every element of x: 4.038796901702881\n",
            "Sum of the columns of x: tensor([1.0880, 0.8441, 2.1068])\n",
            "Sum of the rows of x: tensor([1.6241, 0.8563, 1.5584])\n",
            "\n",
            "Mean value of all elements of x 0.4487552046775818\n",
            "Mean values of the columns of x tensor([0.3627, 0.2814, 0.7023])\n",
            "Mean values of the rows of x tensor([0.5414, 0.2854, 0.5195])\n"
          ]
        }
      ]
    },
    {
      "cell_type": "code",
      "source": [
        "# Performing matrix multiplication on Tensors\n",
        "\n",
        "x = torch.tensor([            # 3x2 matrix\n",
        "    [1, 2],\n",
        "    [3, 4],\n",
        "    [5, 6]\n",
        "])\n",
        "\n",
        "y = torch.tensor([            # 2x3 matrix\n",
        "    [1, 2, 3],\n",
        "    [4, 5, 6]\n",
        "])\n",
        "\n",
        "z1 = torch.matmul(x, y)       # (3x2)*(2x3)-->(3x3)\n",
        "z2 = torch.matmul(y, x)       # (2x3)*(3x2)-->(2x2)\n",
        "\n",
        "# torch.matmul is different from torch.mul - try what torch.mul does on a pair\n",
        "# of(1x3) and (3x1) tensors\n",
        "\n",
        "print(f\"z1: {z1}\")\n",
        "print(f\"z2: {z2}\")"
      ],
      "metadata": {
        "id": "1mg-lSTOF7uQ",
        "colab": {
          "base_uri": "https://localhost:8080/"
        },
        "outputId": "4f5e1d5b-8f41-4809-fddf-a62e630df0d5"
      },
      "execution_count": 9,
      "outputs": [
        {
          "output_type": "stream",
          "name": "stdout",
          "text": [
            "z1: tensor([[ 9, 12, 15],\n",
            "        [19, 26, 33],\n",
            "        [29, 40, 51]])\n",
            "z2: tensor([[22, 28],\n",
            "        [49, 64]])\n"
          ]
        }
      ]
    },
    {
      "cell_type": "markdown",
      "source": [
        "### Manipulating Tensors"
      ],
      "metadata": {
        "id": "5rfOg-buGF5U"
      }
    },
    {
      "cell_type": "markdown",
      "source": [
        "#### Indexing elements from the tensor"
      ],
      "metadata": {
        "id": "WTg6eyvX6m_c"
      }
    },
    {
      "cell_type": "code",
      "source": [
        "x = torch.tensor([\n",
        "    [1, 2, 3],\n",
        "    [4, 5, 6],\n",
        "    [7, 8, 9]\n",
        "])\n",
        "\n",
        "# Index the third element of the second row using the [_, _] format\n",
        "print(x[1, 2])\n",
        "\n",
        "# Indexing a single element returns a 1D tensor. 1DTensor.item() to get the item stored in the tensor\n",
        "print(type(x[1, 2]))\n",
        "print(type(x[1, 2].item()))\n",
        "print(\"\\n\")\n",
        "\n",
        "# Index the first row\n",
        "print(x[0])\n",
        "\n",
        "# Index a range of elements\n",
        "print(x[1:3, 0:2])\n",
        "\n",
        "# Changing the contents of a portion of the tensor\n",
        "\n",
        "print(f\"x = {x}\")\n",
        "x[0, 0] = -1\n",
        "x[1:, 2] = 0\n",
        "x[1:, 0:2] = torch.ones(2, 2)\n",
        "print(f\"\\nAfter assignment, x:\\n{x}\")"
      ],
      "metadata": {
        "id": "Tr4q3WfzGOi8",
        "colab": {
          "base_uri": "https://localhost:8080/"
        },
        "outputId": "d97a2306-bd83-4707-d11b-751cf91418ed"
      },
      "execution_count": 10,
      "outputs": [
        {
          "output_type": "stream",
          "name": "stdout",
          "text": [
            "tensor(6)\n",
            "<class 'torch.Tensor'>\n",
            "<class 'int'>\n",
            "\n",
            "\n",
            "tensor([1, 2, 3])\n",
            "tensor([[4, 5],\n",
            "        [7, 8]])\n",
            "x = tensor([[1, 2, 3],\n",
            "        [4, 5, 6],\n",
            "        [7, 8, 9]])\n",
            "\n",
            "After assignment, x:\n",
            "tensor([[-1,  2,  3],\n",
            "        [ 1,  1,  0],\n",
            "        [ 1,  1,  0]])\n"
          ]
        }
      ]
    },
    {
      "cell_type": "markdown",
      "source": [
        "#### Changing the shape of a tensor"
      ],
      "metadata": {
        "id": "l8ctLKuh6tNk"
      }
    },
    {
      "cell_type": "code",
      "source": [
        "x = torch.tensor([\n",
        "    [1, 2, 3, 4],\n",
        "    [5, 6, 7, 8],\n",
        "    [9, 10, 11, 12]\n",
        "])\n",
        "print(f\"x = {x}\")\n",
        "\n",
        "# flatten - lets you treat a multidimensional tensor as a single dimension one\n",
        "y = x.flatten()\n",
        "print(f\"y = {y}\")\n",
        "\n",
        "# reshape - lets you treat a tensor as one with the given shape (x.view() does\n",
        "# the same thing, but works only for contiguous tensors)\n",
        "z = x.reshape(4, 3)\n",
        "print(f\"z = {z}\\n\")\n",
        "\n",
        "# Important - flatten and reshape only give you a view of the original array\n",
        "# That means that they all share the same memory and any changes made to one\n",
        "# of reflect in the all of them\n",
        "\n",
        "x[0, 0] = 0\n",
        "print(\"After changing x:\")\n",
        "print(f\"y = {y}\")\n",
        "print(f\"z = {z}\")\n",
        "\n",
        "y[6:] = 0\n",
        "print(\"\\nAfter changing y:\")\n",
        "print(f\"x = {x}\")"
      ],
      "metadata": {
        "id": "394op-yxGX7F",
        "colab": {
          "base_uri": "https://localhost:8080/"
        },
        "outputId": "5aac74ae-4445-4c29-a6c0-a31dabb4922f"
      },
      "execution_count": 11,
      "outputs": [
        {
          "output_type": "stream",
          "name": "stdout",
          "text": [
            "x = tensor([[ 1,  2,  3,  4],\n",
            "        [ 5,  6,  7,  8],\n",
            "        [ 9, 10, 11, 12]])\n",
            "y = tensor([ 1,  2,  3,  4,  5,  6,  7,  8,  9, 10, 11, 12])\n",
            "z = tensor([[ 1,  2,  3],\n",
            "        [ 4,  5,  6],\n",
            "        [ 7,  8,  9],\n",
            "        [10, 11, 12]])\n",
            "\n",
            "After changing x:\n",
            "y = tensor([ 0,  2,  3,  4,  5,  6,  7,  8,  9, 10, 11, 12])\n",
            "z = tensor([[ 0,  2,  3],\n",
            "        [ 4,  5,  6],\n",
            "        [ 7,  8,  9],\n",
            "        [10, 11, 12]])\n",
            "\n",
            "After changing y:\n",
            "x = tensor([[0, 2, 3, 4],\n",
            "        [5, 6, 0, 0],\n",
            "        [0, 0, 0, 0]])\n"
          ]
        }
      ]
    },
    {
      "cell_type": "markdown",
      "source": [
        "#### Making copies of the tensor"
      ],
      "metadata": {
        "id": "oSReQcZh6z5B"
      }
    },
    {
      "cell_type": "code",
      "source": [
        "x = torch.tensor([\n",
        "    [1, 2, 3, 4],\n",
        "    [5, 6, 7, 8],\n",
        "    [9, 10, 11, 12]\n",
        "])\n",
        "\n",
        "y = torch.clone(x)\n",
        "\n",
        "x[:, 0] = 0\n",
        "y[0, :] = 0\n",
        "print(\"After making the changes to x and y:\")\n",
        "print(f\"x = {x}\")\n",
        "print(f\"y = {y}\")\n",
        "\n",
        "# Flatten and reshape can be used on a clone of the original tensor to keep each\n",
        "# of them unaffected by changes to the other"
      ],
      "metadata": {
        "colab": {
          "base_uri": "https://localhost:8080/"
        },
        "id": "doMPy4kt1YLg",
        "outputId": "08444a55-314c-44fd-b321-f93ac77db21c"
      },
      "execution_count": 12,
      "outputs": [
        {
          "output_type": "stream",
          "name": "stdout",
          "text": [
            "After making the changes to x and y:\n",
            "x = tensor([[ 0,  2,  3,  4],\n",
            "        [ 0,  6,  7,  8],\n",
            "        [ 0, 10, 11, 12]])\n",
            "y = tensor([[ 0,  0,  0,  0],\n",
            "        [ 5,  6,  7,  8],\n",
            "        [ 9, 10, 11, 12]])\n"
          ]
        }
      ]
    },
    {
      "cell_type": "markdown",
      "source": [
        "#### Adding elements to the tensor"
      ],
      "metadata": {
        "id": "x7Wz0TVc69qn"
      }
    },
    {
      "cell_type": "code",
      "source": [
        "# The append function does not exist in tensors as they have a fixed size, so we\n",
        "# make use of the concat function to get a new tensor with additional elements\n",
        "\n",
        "x = torch.tensor([\n",
        "    [1, 2],\n",
        "    [3, 4]\n",
        "])\n",
        "\n",
        "y = torch.tensor([\n",
        "    [5, 6],\n",
        "    [6, 7]\n",
        "])\n",
        "\n",
        "z = torch.tensor([\n",
        "    [5, 6, 7],\n",
        "    [8, 9, 0]\n",
        "])\n",
        "\n",
        "# torch.cat(tensors, dim=0) takes in a tuple of tensors to concatenate, and an\n",
        "# optional dim parameter to specify the dimension along which to concatenate\n",
        "print(torch.cat((x, y), dim=0))\n",
        "print(torch.cat((x, z), dim=1))     # try with dim=-1 and guess what that means\n",
        "\n",
        "# Note: cat(), concat() and concatenate() are all aliases of each other, they\n",
        "# work in the exact same manner"
      ],
      "metadata": {
        "id": "yejSF1msGj9_",
        "colab": {
          "base_uri": "https://localhost:8080/"
        },
        "outputId": "d27c39de-653b-45f6-ca40-a977c7f0fa34"
      },
      "execution_count": 13,
      "outputs": [
        {
          "output_type": "stream",
          "name": "stdout",
          "text": [
            "tensor([[1, 2],\n",
            "        [3, 4],\n",
            "        [5, 6],\n",
            "        [6, 7]])\n",
            "tensor([[1, 2, 5, 6, 7],\n",
            "        [3, 4, 8, 9, 0]])\n"
          ]
        }
      ]
    },
    {
      "cell_type": "markdown",
      "source": [
        "### Exercises\n",
        "\n",
        "Practice the things learnt above using the following exercises:"
      ],
      "metadata": {
        "id": "03Z3nXkzD2C5"
      }
    },
    {
      "cell_type": "code",
      "source": [
        "x = torch.zeros(3, 3)\n",
        "print(x)\n",
        "\n",
        "# 1. Populate x with values ranging from 0 to 8.\n",
        "\n",
        "# 2. Print out the element at the second row and third column.\n",
        "\n",
        "# 3. Change the value of the element at the first row and second column to 10.\n",
        "\n",
        "# 4. Flatten the tensor and print the result.\n",
        "\n",
        "# 5. Concatenate the tensor with another 1x3 tensor with values ranging from 9 to 11.\n",
        "\n",
        "# 6. Reshape the tensor to a 2x6 tensor and print the result.\n",
        "\n",
        "# 7. First make a copy of the tensor, and then in the copy, have the elements appear in the reverse order.\n"
      ],
      "metadata": {
        "id": "TuUPgy71DPoT",
        "colab": {
          "base_uri": "https://localhost:8080/"
        },
        "outputId": "30167db2-9d5a-4f12-8bbe-dd7b30279102"
      },
      "execution_count": 14,
      "outputs": [
        {
          "output_type": "stream",
          "name": "stdout",
          "text": [
            "tensor([[0., 0., 0.],\n",
            "        [0., 0., 0.],\n",
            "        [0., 0., 0.]])\n"
          ]
        }
      ]
    },
    {
      "cell_type": "markdown",
      "source": [
        "## GPU vs CPU Execution\n",
        "\n"
      ],
      "metadata": {
        "id": "2Kcin1IJiP6W"
      }
    },
    {
      "cell_type": "markdown",
      "source": [
        "Colab gives you the option of running the notebook on a CPU or a GPU (with a limited session time). Here is how you can check whether you have a GPU available with you or not:"
      ],
      "metadata": {
        "id": "hFA6lhjniiEu"
      }
    },
    {
      "cell_type": "code",
      "source": [
        "import torch\n",
        "import numpy as np\n",
        "\n",
        "print(torch.cuda.is_available())"
      ],
      "metadata": {
        "colab": {
          "base_uri": "https://localhost:8080/"
        },
        "id": "5LiD0Ju13t-y",
        "outputId": "a3798a30-e670-4f9b-b982-955e007451a8"
      },
      "execution_count": 15,
      "outputs": [
        {
          "output_type": "stream",
          "name": "stdout",
          "text": [
            "True\n"
          ]
        }
      ]
    },
    {
      "cell_type": "markdown",
      "source": [
        "\n",
        "Go to the Runtime tab → Change runtime type and try switching between the T4 GPU and CPU options from the Hardware Accelerator list and rerun the above cell. Switch back to GPU and rerun the cell before moving on.\n",
        "\n",
        "*Once you change the runtime you will need to import necessary libraries again, that is the reason for the import statements repeating in the above cell.*"
      ],
      "metadata": {
        "id": "vELyhJuXITm9"
      }
    },
    {
      "cell_type": "markdown",
      "source": [
        "Let's store the information about availability of GPU inside a variable called DEVICE which we shall use later. If we want to make use of the GPU resource, when it is available, we will need to move the tensors and the model onto the GPU. We do this using the following methods:"
      ],
      "metadata": {
        "id": "wbWNz4OtJVZx"
      }
    },
    {
      "cell_type": "code",
      "source": [
        "DEVICE = \"cuda\" if torch.cuda.is_available() else \"cpu\"\n",
        "\n",
        "# we can specify a device when we first create our tensor\n",
        "x = torch.randn(2, 2, device=DEVICE)\n",
        "print(\"dtype of x:\", x.dtype)\n",
        "print(\"device on which x is stored:\", x.device)\n",
        "\n",
        "# we can also use the .to() method to change the device a tensor lives on\n",
        "y = torch.randn(2, 2)\n",
        "print(f\"y before calling to() | device: {y.device} | dtype: {y.type()}\")\n",
        "\n",
        "y = y.to(DEVICE)\n",
        "print(f\"y after calling to() | device: {y.device} | dtype: {y.type()}\")"
      ],
      "metadata": {
        "colab": {
          "base_uri": "https://localhost:8080/"
        },
        "id": "fGa-HmE7jE6-",
        "outputId": "1ae84358-c3e6-493b-bc84-be0578445e49"
      },
      "execution_count": 16,
      "outputs": [
        {
          "output_type": "stream",
          "name": "stdout",
          "text": [
            "dtype of x: torch.float32\n",
            "device on which x is stored: cuda:0\n",
            "y before calling to() | device: cpu | dtype: torch.FloatTensor\n",
            "y after calling to() | device: cuda:0 | dtype: torch.cuda.FloatTensor\n"
          ]
        }
      ]
    },
    {
      "cell_type": "markdown",
      "source": [
        "#Datasets and Data Loader\n",
        "\n",
        "Deep Learning projects usually involve large datasets. It is important to follow some good data handling practices to operate on the data in an effecient manner. PyTorch presents us with a couple of libraries to help us with things like fetching datasets from its library, managing the train, validate and test splits, loading data in batches to present to the model for training/testing etc.\n",
        "\n",
        "In the following sections, we look at:\n",
        "1. How to load/download standard Datasets into your program using torchvision's dataset module\n",
        "2. How to access the loaded data in small batches that you can feed to your model for training\n",
        "\n",
        "We shall use the example of the MNIST dataset, which consists of a large number of b/w images (28x28 pixels) of handwritten digits (0-9). We'll use it to learn how to design and train a neural network to solve an image classification problem.\n",
        "<!-- * TorchVision datasets have a parameter - *transform* to modify the features -->\n",
        "\n",
        "<!---\n",
        "and *target_transform* to modify the labels\n",
        "-->\n"
      ],
      "metadata": {
        "id": "qdc0_nTQbFpf"
      }
    },
    {
      "cell_type": "markdown",
      "source": [
        "### Dataset"
      ],
      "metadata": {
        "id": "YWFXkDqGHbkz"
      }
    },
    {
      "cell_type": "code",
      "source": [
        "from torchvision import datasets\n",
        "from torchvision.transforms import ToTensor\n",
        "\n",
        "training_data = datasets.MNIST(\n",
        "    root=\"data\",                  # gets the data from the local folder specified by root, if available\n",
        "    train=True,                   # specifies the split to fetch (train if True/test if False)\n",
        "    download=True,                # downloads the data from the internet if dataset is not present in root\n",
        "    transform=ToTensor()          # can be used to transform the features if necessary (not really relevant for MNIST)\n",
        ")\n",
        "\n",
        "test_data = datasets.MNIST(\n",
        "    root=\"data\",\n",
        "    train=False,\n",
        "    download=True,\n",
        "    transform=ToTensor()\n",
        ")"
      ],
      "metadata": {
        "id": "5gjGT5JqatIw",
        "colab": {
          "base_uri": "https://localhost:8080/"
        },
        "outputId": "e37d5f2c-6e16-43d6-9064-cf080b5f0803"
      },
      "execution_count": 17,
      "outputs": [
        {
          "output_type": "stream",
          "name": "stdout",
          "text": [
            "Downloading http://yann.lecun.com/exdb/mnist/train-images-idx3-ubyte.gz\n",
            "Downloading http://yann.lecun.com/exdb/mnist/train-images-idx3-ubyte.gz to data/MNIST/raw/train-images-idx3-ubyte.gz\n"
          ]
        },
        {
          "output_type": "stream",
          "name": "stderr",
          "text": [
            "100%|██████████| 9912422/9912422 [00:00<00:00, 444921731.97it/s]"
          ]
        },
        {
          "output_type": "stream",
          "name": "stdout",
          "text": [
            "Extracting data/MNIST/raw/train-images-idx3-ubyte.gz to data/MNIST/raw\n"
          ]
        },
        {
          "output_type": "stream",
          "name": "stderr",
          "text": [
            "\n"
          ]
        },
        {
          "output_type": "stream",
          "name": "stdout",
          "text": [
            "\n",
            "Downloading http://yann.lecun.com/exdb/mnist/train-labels-idx1-ubyte.gz\n",
            "Downloading http://yann.lecun.com/exdb/mnist/train-labels-idx1-ubyte.gz to data/MNIST/raw/train-labels-idx1-ubyte.gz\n"
          ]
        },
        {
          "output_type": "stream",
          "name": "stderr",
          "text": [
            "100%|██████████| 28881/28881 [00:00<00:00, 56211458.85it/s]\n"
          ]
        },
        {
          "output_type": "stream",
          "name": "stdout",
          "text": [
            "Extracting data/MNIST/raw/train-labels-idx1-ubyte.gz to data/MNIST/raw\n",
            "\n",
            "Downloading http://yann.lecun.com/exdb/mnist/t10k-images-idx3-ubyte.gz\n",
            "Downloading http://yann.lecun.com/exdb/mnist/t10k-images-idx3-ubyte.gz to data/MNIST/raw/t10k-images-idx3-ubyte.gz\n"
          ]
        },
        {
          "output_type": "stream",
          "name": "stderr",
          "text": [
            "100%|██████████| 1648877/1648877 [00:00<00:00, 154420832.33it/s]\n"
          ]
        },
        {
          "output_type": "stream",
          "name": "stdout",
          "text": [
            "Extracting data/MNIST/raw/t10k-images-idx3-ubyte.gz to data/MNIST/raw\n",
            "\n",
            "Downloading http://yann.lecun.com/exdb/mnist/t10k-labels-idx1-ubyte.gz\n",
            "Downloading http://yann.lecun.com/exdb/mnist/t10k-labels-idx1-ubyte.gz to data/MNIST/raw/t10k-labels-idx1-ubyte.gz\n"
          ]
        },
        {
          "output_type": "stream",
          "name": "stderr",
          "text": [
            "100%|██████████| 4542/4542 [00:00<00:00, 21821911.53it/s]"
          ]
        },
        {
          "output_type": "stream",
          "name": "stdout",
          "text": [
            "Extracting data/MNIST/raw/t10k-labels-idx1-ubyte.gz to data/MNIST/raw\n",
            "\n"
          ]
        },
        {
          "output_type": "stream",
          "name": "stderr",
          "text": [
            "\n"
          ]
        }
      ]
    },
    {
      "cell_type": "code",
      "source": [
        "print (\"Number of samples in training data \", len(training_data))\n",
        "print (\"Number of samples in test data \", len(test_data))"
      ],
      "metadata": {
        "colab": {
          "base_uri": "https://localhost:8080/"
        },
        "id": "DwBC7CNflQuW",
        "outputId": "7184961c-10bf-43c9-cbcc-a29ea3cd34ad"
      },
      "execution_count": 18,
      "outputs": [
        {
          "output_type": "stream",
          "name": "stdout",
          "text": [
            "Number of samples in training data  60000\n",
            "Number of samples in test data  10000\n"
          ]
        }
      ]
    },
    {
      "cell_type": "markdown",
      "source": [
        "Let's look at some of the images that we've loaded"
      ],
      "metadata": {
        "id": "A82nCAUurLzY"
      }
    },
    {
      "cell_type": "code",
      "source": [
        "import matplotlib.pyplot as plt\n",
        "\n",
        "figure = plt.figure(figsize=(8, 8))\n",
        "cols, rows = 3, 3\n",
        "for i in range(1, cols * rows + 1):\n",
        "    sample_idx = torch.randint(len(training_data), size=(1,)).item()\n",
        "    img, label = training_data[sample_idx]\n",
        "    figure.add_subplot(rows, cols, i)\n",
        "    plt.title(f\"Digit {label}\")\n",
        "    plt.axis(\"off\")\n",
        "    plt.imshow(img.squeeze(), cmap=\"gray\")\n",
        "plt.show()"
      ],
      "metadata": {
        "colab": {
          "base_uri": "https://localhost:8080/",
          "height": 675
        },
        "id": "LJsS0gkfcHL_",
        "outputId": "2d48d8b6-c8c7-4f37-b490-0d865bb73f77"
      },
      "execution_count": 19,
      "outputs": [
        {
          "output_type": "display_data",
          "data": {
            "text/plain": [
              "<Figure size 800x800 with 9 Axes>"
            ],
            "image/png": "[encoded data removed]"
          },
          "metadata": {}
        }
      ]
    },
    {
      "cell_type": "markdown",
      "source": [
        "###Dataloaders"
      ],
      "metadata": {
        "id": "pzAZR8UwHgdn"
      }
    },
    {
      "cell_type": "markdown",
      "source": [
        "The Dataloader class wraps an iterable around the dataset to enable easy access to the data. Using the dataloader, you can specify the batch size you want to set and interate through it batchwise as follows:"
      ],
      "metadata": {
        "id": "62ZLUTZ_teWw"
      }
    },
    {
      "cell_type": "code",
      "source": [
        "from torch.utils.data import DataLoader\n",
        "\n",
        "train_dataloader = DataLoader(training_data, batch_size=64, shuffle=True)\n",
        "test_dataloader = DataLoader(test_data, batch_size=64, shuffle=True)"
      ],
      "metadata": {
        "id": "WbHyc4uNctka"
      },
      "execution_count": 20,
      "outputs": []
    },
    {
      "cell_type": "code",
      "source": [
        "# Iterate through the DataLoader\n",
        "train_features, train_labels = next(iter(train_dataloader))   # can use this in a loop to feed this data to your model\n",
        "print(f\"Feature batch shape: {train_features.size()}\")\n",
        "print(f\"Labels batch shape: {train_labels.size()}\")\n",
        "\n",
        "# First sample of the batch\n",
        "img = train_features[0].squeeze()\n",
        "label = train_labels[0]\n",
        "plt.imshow(img, cmap=\"gray\")\n",
        "plt.show()\n",
        "print(f\"Label: {label}\")"
      ],
      "metadata": {
        "colab": {
          "base_uri": "https://localhost:8080/",
          "height": 482
        },
        "id": "eIQwD_dpfgh3",
        "outputId": "daf2c69a-7f8c-437f-b83a-104947db5141"
      },
      "execution_count": 21,
      "outputs": [
        {
          "output_type": "stream",
          "name": "stdout",
          "text": [
            "Feature batch shape: torch.Size([64, 1, 28, 28])\n",
            "Labels batch shape: torch.Size([64])\n"
          ]
        },
        {
          "output_type": "display_data",
          "data": {
            "text/plain": [
              "<Figure size 640x480 with 1 Axes>"
            ],
            "image/png": "[encoded data removed]"
          },
          "metadata": {}
        },
        {
          "output_type": "stream",
          "name": "stdout",
          "text": [
            "Label: 8\n"
          ]
        }
      ]
    },
    {
      "cell_type": "markdown",
      "source": [
        "# Building Neural Networks\n",
        "\n",
        "Now that we know how to get data from the dataset and get ready to feed it in batches to the model for training, let's look at how we build the model itself!\n",
        "\n",
        "We'll look at the most basic kind of neural networks in this notebook called the Multi Layer Perceptron (MLP). An MLP, as its name suggests is made up of layers. The first layer takes the training data as input and processes it. Each subsequent layer takes in the output of the previous one, processes it and sends it to the next one. The output of the last layer is considered as the output of the model.\n",
        "\n",
        "Let's first look at how to create the individual layers and then at how to combine all of them into a container that we can use to build our model."
      ],
      "metadata": {
        "id": "MwF7xaTllvUd"
      }
    },
    {
      "cell_type": "markdown",
      "source": [
        "Let's create a batch of (input, output) pairs that we can pass through our network and compare the result with."
      ],
      "metadata": {
        "id": "t8KZcznJA-Z2"
      }
    },
    {
      "cell_type": "code",
      "source": [
        "batch_size = 4\n",
        "input_dim = 6\n",
        "output_dim = 1\n",
        "input_tensor = torch.rand(batch_size, input_dim)      # 2 samples of dimension 6\n",
        "target_tensor = torch.rand(batch_size, output_dim)    # 2 samples of dimension 1\n",
        "\n",
        "print(input_tensor)\n",
        "print(target_tensor)"
      ],
      "metadata": {
        "colab": {
          "base_uri": "https://localhost:8080/"
        },
        "id": "CO4UFsxMBD7l",
        "outputId": "21f651a2-f9eb-421b-c332-32c28c548d93"
      },
      "execution_count": 22,
      "outputs": [
        {
          "output_type": "stream",
          "name": "stdout",
          "text": [
            "tensor([[0.3221, 0.3278, 0.3299, 0.6387, 0.3795, 0.8722],\n",
            "        [0.4556, 0.8951, 0.2413, 0.3057, 0.6252, 0.0307],\n",
            "        [0.5234, 0.8741, 0.5400, 0.9685, 0.7416, 0.9292],\n",
            "        [0.2696, 0.0284, 0.7086, 0.4757, 0.9425, 0.7322]])\n",
            "tensor([[0.1418],\n",
            "        [0.1633],\n",
            "        [0.6520],\n",
            "        [0.3452]])\n"
          ]
        }
      ]
    },
    {
      "cell_type": "markdown",
      "source": [
        "We can build individual layers of the neural network using PyTorch's nn module."
      ],
      "metadata": {
        "id": "V5QppVJjChgc"
      }
    },
    {
      "cell_type": "markdown",
      "source": [
        "### Linear Layer\n",
        "\n",
        "The most basic type of neural network layer is a linear or fully connected layer. This is a layer where every input influences every output of the layer to a degree specified by the layer’s weights. If the layer has m inputs and n outputs, the weights will be an m x n matrix.\n",
        "\n",
        "Let's use a linear layer with 6 inputs and 3 outputs as the first layer of the network, send an input through it and observe the output."
      ],
      "metadata": {
        "id": "7Lrq47xZAjhp"
      }
    },
    {
      "cell_type": "code",
      "source": [
        "import torch.nn as nn\n",
        "\n",
        "layer1 = torch.nn.Linear(in_features=input_dim, out_features=3, bias=True)        # parameters of the layer are initialized to random values\n",
        "print(layer1)\n",
        "\n",
        "output_tensor = layer1(input_tensor)\n",
        "print(output_tensor)"
      ],
      "metadata": {
        "colab": {
          "base_uri": "https://localhost:8080/"
        },
        "id": "CTAEqgxTB-rV",
        "outputId": "b11aaecd-a84c-4a70-d2a7-5def641b051b"
      },
      "execution_count": 23,
      "outputs": [
        {
          "output_type": "stream",
          "name": "stdout",
          "text": [
            "Linear(in_features=6, out_features=3, bias=True)\n",
            "tensor([[-0.0168, -0.1336, -0.2541],\n",
            "        [ 0.2453, -0.1089, -0.5208],\n",
            "        [-0.0752, -0.2744, -0.4347],\n",
            "        [ 0.3571, -0.0186, -0.1849]], grad_fn=<AddmmBackward0>)\n"
          ]
        }
      ]
    },
    {
      "cell_type": "markdown",
      "source": [
        "### Activation Function\n",
        "\n",
        "*An activation function is a function used on the neuron and it governs how much a neuron gets activated (how big its output should be) depending on its inputs.*\n",
        "\n",
        "Given below is a list of commonly used activation functions and their graphs. Check this [link](https://pytorch.org/docs/stable/nn.html#non-linear-activations-weighted-sum-nonlinearity) out for more about activation functions."
      ],
      "metadata": {
        "id": "Mchx0D8qKH19"
      }
    },
    {
      "cell_type": "markdown",
      "source": [
        "![image.png](data:image/png;base64,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)"
      ],
      "metadata": {
        "id": "CTXG49aA7M8M"
      }
    },
    {
      "cell_type": "markdown",
      "source": [
        "Let's propagate the output we received from the layer we defined earlier through a Rectified Linear Unit (ReLU) activation function.\n",
        "\n",
        "Try out other activation functions and observe their behaviour!"
      ],
      "metadata": {
        "id": "vJrXE-rUG9iG"
      }
    },
    {
      "cell_type": "code",
      "source": [
        "act_function = torch.nn.ReLU()\n",
        "print(act_function)\n",
        "\n",
        "output_tensor = act_function(output_tensor) # output_tensor is overwritten\n",
        "print(output_tensor)"
      ],
      "metadata": {
        "colab": {
          "base_uri": "https://localhost:8080/"
        },
        "id": "zR7V8XhEKQzB",
        "outputId": "ee35f3ce-09c4-4378-866c-991c4de5b413"
      },
      "execution_count": 24,
      "outputs": [
        {
          "output_type": "stream",
          "name": "stdout",
          "text": [
            "ReLU()\n",
            "tensor([[0.0000, 0.0000, 0.0000],\n",
            "        [0.2453, 0.0000, 0.0000],\n",
            "        [0.0000, 0.0000, 0.0000],\n",
            "        [0.3571, 0.0000, 0.0000]], grad_fn=<ReluBackward0>)\n"
          ]
        }
      ]
    },
    {
      "cell_type": "markdown",
      "source": [
        "### Second Linear Layer\n",
        "Now let's create another layer and pass the output of the previous layer through it."
      ],
      "metadata": {
        "id": "xRWzKfW6EnCt"
      }
    },
    {
      "cell_type": "code",
      "source": [
        "layer2 = torch.nn.Linear(in_features=3, out_features=output_dim, bias=True)\n",
        "print(layer2)\n",
        "\n",
        "output_tensor = layer2(output_tensor)\n",
        "print(output_tensor)"
      ],
      "metadata": {
        "colab": {
          "base_uri": "https://localhost:8080/"
        },
        "id": "R9Y-ouXGC546",
        "outputId": "e7ac93d7-8bf9-4dd0-ccc2-3bcffdb0bdd9"
      },
      "execution_count": 25,
      "outputs": [
        {
          "output_type": "stream",
          "name": "stdout",
          "text": [
            "Linear(in_features=3, out_features=1, bias=True)\n",
            "tensor([[-0.3106],\n",
            "        [-0.2880],\n",
            "        [-0.3106],\n",
            "        [-0.2776]], grad_fn=<AddmmBackward0>)\n"
          ]
        }
      ]
    },
    {
      "cell_type": "markdown",
      "source": [
        "### nn.Sequential\n",
        "\n",
        "All the layers defined above can be chained together into a single container using the nn.Sequential module. We can pass the input through the series of layers by simply passing it through a nn.Sequential module."
      ],
      "metadata": {
        "id": "DjNrdLplEKJ6"
      }
    },
    {
      "cell_type": "code",
      "source": [
        "layer_chain = torch.nn.Sequential(\n",
        "    torch.nn.Linear(input_dim, 3),\n",
        "    torch.nn.ReLU(),\n",
        "    torch.nn.Linear(3, output_dim)\n",
        ")\n",
        "\n",
        "print(layer_chain)\n",
        "output_tensor = layer_chain(input_tensor)\n",
        "print(output_tensor)                      # compare the output with the one printed earlier, why do you think they are different?"
      ],
      "metadata": {
        "colab": {
          "base_uri": "https://localhost:8080/"
        },
        "id": "PvzMDOqTJDaE",
        "outputId": "654d65ae-f633-4ae8-c541-d7629967e63f"
      },
      "execution_count": 26,
      "outputs": [
        {
          "output_type": "stream",
          "name": "stdout",
          "text": [
            "Sequential(\n",
            "  (0): Linear(in_features=6, out_features=3, bias=True)\n",
            "  (1): ReLU()\n",
            "  (2): Linear(in_features=3, out_features=1, bias=True)\n",
            ")\n",
            "tensor([[ 0.0258],\n",
            "        [-0.0648],\n",
            "        [-0.0113],\n",
            "        [-0.0323]], grad_fn=<AddmmBackward0>)\n"
          ]
        }
      ]
    },
    {
      "cell_type": "markdown",
      "source": [
        "### Exercise\n",
        "\n",
        "Try to construct a stack of layers on your own according to the specification given below. Given an input tensor, run it through your network and print out the output."
      ],
      "metadata": {
        "id": "L2cObWMfK3-Y"
      }
    },
    {
      "cell_type": "code",
      "source": [
        "x = torch.rand(1, 10)\n",
        "\n",
        "sequential_stack = nn.Sequential(       # create your stack of layers here using the nn.Sequential module\n",
        "                                        # it needs to have 4 layers, with the input dimension decreasing evenly from 10 to 2\n",
        "#\"\"\" Write you code here \"\"\"            # after each layer, add an activation function of your choice\n",
        "\n",
        ")\n",
        "\n",
        "print(sequential_stack(x))\n"
      ],
      "metadata": {
        "colab": {
          "base_uri": "https://localhost:8080/"
        },
        "id": "4nPBBWy6L6FU",
        "outputId": "d6eb1330-9bf3-484b-bdc4-af2532811240"
      },
      "execution_count": 27,
      "outputs": [
        {
          "output_type": "stream",
          "name": "stdout",
          "text": [
            "tensor([[0.5545, 0.2465, 0.3677, 0.6493, 0.2304, 0.4671, 0.9216, 0.7323, 0.8967,\n",
            "         0.2460]])\n"
          ]
        }
      ]
    },
    {
      "cell_type": "markdown",
      "source": [
        "## The NeuralNetwork Class\n",
        "\n",
        "Let's now go from individual layers to a full fledged model using the PyTorch NeuralNetwork class. It has an **\\_\\_init\\_\\_()** where we define the layers and other components of a model, and a **forward()** method where the computation gets done.\n",
        "<!-- **Architecture of our neural network**\n",
        "\n",
        "`def forward():\n",
        "  ...\n",
        "`\n",
        "is implicitly defined in the nn.Sequence for for forward propagation. However, if we want to have more flexibility or when the architecture is nor purely sequential we need to write our own custom `forward` -->"
      ],
      "metadata": {
        "id": "0ecJJGYdmyJ1"
      }
    },
    {
      "cell_type": "code",
      "source": [
        "from torch import nn\n",
        "\n",
        "class NeuralNetwork(nn.Module): # Inherit from nn.Module\n",
        "    def __init__(self):\n",
        "        super().__init__()\n",
        "        self.flatten = nn.Flatten()  # converts the input into 1D if it is a higher dimensional one\n",
        "\n",
        "        # Sequential container explained previously\n",
        "        self.layer_stack = nn.Sequential(\n",
        "            nn.Linear(28*28, 512),\n",
        "            nn.ReLU(),\n",
        "            nn.Linear(512, 512),\n",
        "            nn.ReLU(),\n",
        "            nn.Linear(512, 10),\n",
        "        )\n",
        "\n",
        "    def forward(self, x):\n",
        "        x = self.flatten(x)\n",
        "        logits = self.layer_stack(x)\n",
        "        return logits\n",
        "\n",
        "    def predict(self, x):\n",
        "\n",
        "      # Pass the data through the networks\n",
        "      logits = self.forward(x)\n",
        "      pred_probab = nn.Softmax(dim=1)(logits)      # dim: the dimension along which softmax is to be applied\n",
        "\n",
        "      # Choose the label with the highest score\n",
        "      output = pred_probab.argmax(1)\n",
        "      return output"
      ],
      "metadata": {
        "id": "AWdrt6bEh9CH"
      },
      "execution_count": 28,
      "outputs": []
    },
    {
      "cell_type": "code",
      "source": [
        "model = NeuralNetwork().to(DEVICE)              # initializing the model and moving it to the GPU, if one exists\n",
        "print(f\"Model structure: {model}\\n\")\n",
        "\n",
        "# # Uncomment this section to inspect the parameters of the model:\n",
        "# for name, param in model.named_parameters():\n",
        "#     print(f\"Layer: {name} | Size: {param.size()} | Values : {param} \\n\")"
      ],
      "metadata": {
        "colab": {
          "base_uri": "https://localhost:8080/"
        },
        "id": "KOpJaVDGmnkl",
        "outputId": "ad47d95a-adee-40ec-f556-11335c7560cc"
      },
      "execution_count": 29,
      "outputs": [
        {
          "output_type": "stream",
          "name": "stdout",
          "text": [
            "Model structure: NeuralNetwork(\n",
            "  (flatten): Flatten(start_dim=1, end_dim=-1)\n",
            "  (layer_stack): Sequential(\n",
            "    (0): Linear(in_features=784, out_features=512, bias=True)\n",
            "    (1): ReLU()\n",
            "    (2): Linear(in_features=512, out_features=512, bias=True)\n",
            "    (3): ReLU()\n",
            "    (4): Linear(in_features=512, out_features=10, bias=True)\n",
            "  )\n",
            ")\n",
            "\n"
          ]
        }
      ]
    },
    {
      "cell_type": "markdown",
      "source": [
        "Let's see if our network works:"
      ],
      "metadata": {
        "id": "oAYyxwwNnVgX"
      }
    },
    {
      "cell_type": "code",
      "source": [
        "def test_a_sample(model):   # input a model which is already on device\n",
        "  sample_test_img_batch, sample_test_label_batch = next(iter(test_dataloader))\n",
        "  print(f\"Image batch shape: {sample_test_img_batch.size()}\")\n",
        "  print(f\"Labels batch shape: {sample_test_label_batch.size()}\")\n",
        "\n",
        "  # Let's check model for one image (there a 10% chance you get the correct prediction by chance, try again if that happens :P)\n",
        "  img, y_gt= sample_test_img_batch[0],  sample_test_label_batch[0]\n",
        "  print(\"\\nSample Image : \")\n",
        "  plt.imshow(img.squeeze(), cmap=\"gray\")\n",
        "  plt.show()\n",
        "  print(\"Sample image is on \", img.device , \" device \")\n",
        "  img = img.to(DEVICE)\n",
        "  print(\"Moved it to \", img.device)     # now, both the model and the input are on the same device\n",
        "\n",
        "  pred_probab = nn.Softmax(dim=1)(model(img))\n",
        "  y_pred = pred_probab.argmax(1)\n",
        "  print(f\"Predicted class: {y_pred.item()}\")\n",
        "  print(f\"Ground Truth / True class: {y_gt}\")\n",
        "\n",
        "  print(\"Predicted class using model.predict() : \", model.predict(img))\n",
        "\n",
        "# call the function\n",
        "test_a_sample(model)"
      ],
      "metadata": {
        "colab": {
          "base_uri": "https://localhost:8080/",
          "height": 586
        },
        "id": "I_T-7eYAm_CN",
        "outputId": "586c3cb0-aab3-4108-a8e5-9bc1e3a55db6"
      },
      "execution_count": 30,
      "outputs": [
        {
          "output_type": "stream",
          "name": "stdout",
          "text": [
            "Image batch shape: torch.Size([64, 1, 28, 28])\n",
            "Labels batch shape: torch.Size([64])\n",
            "\n",
            "Sample Image : \n"
          ]
        },
        {
          "output_type": "display_data",
          "data": {
            "text/plain": [
              "<Figure size 640x480 with 1 Axes>"
            ],
            "image/png": "[encoded data removed]"
          },
          "metadata": {}
        },
        {
          "output_type": "stream",
          "name": "stdout",
          "text": [
            "Sample image is on  cpu  device \n",
            "Moved it to  cuda:0\n",
            "Predicted class: 7\n",
            "Ground Truth / True class: 4\n",
            "Predicted class using model.predict() :  tensor([7], device='cuda:0')\n"
          ]
        }
      ]
    },
    {
      "cell_type": "markdown",
      "source": [
        "Why does it predict incorrectly? Because we did not train our network yet!\n",
        "\n",
        "In order to train our network on the training data, we need to give it a loss function that it can aim to minimize, and an optimization algorithm that it can use to carry out that minimization."
      ],
      "metadata": {
        "id": "lniuW1kglA_O"
      }
    },
    {
      "cell_type": "markdown",
      "source": [
        "# Loss Function\n",
        "\n",
        "A loss function measures the degree of dissimilarity between the output obtained from our model and the target value. It is this loss function that we want to minimize during by training the model on the training data.\n",
        "\n",
        "PyTorch provides predefined modules for common loss functions like nn.MSELoss (Mean Square Error) for regression tasks, and nn.CrossEntropyLoss for classification tasks."
      ],
      "metadata": {
        "id": "LK3J7Y9v93qg"
      }
    },
    {
      "cell_type": "code",
      "source": [
        "output_tensor = torch.tensor([0.0, 1, 2, 3, 4, 5])    # assume that this is the output of a model for a given input\n",
        "target_tensor = torch.tensor([0.0, 0.5, 1, 1.5, 2, 2.5])    # and this is its actual label\n",
        "print('model output:', output_tensor)\n",
        "print('target:', target_tensor)\n",
        "\n",
        "mse_loss = nn.MSELoss()\n",
        "\n",
        "print('\\nMSE Loss:', mse_loss(output_tensor , target_tensor))"
      ],
      "metadata": {
        "colab": {
          "base_uri": "https://localhost:8080/"
        },
        "id": "I6Tl07fxthnb",
        "outputId": "0123fc08-2315-49b4-b7b9-61d82398cec4"
      },
      "execution_count": 31,
      "outputs": [
        {
          "output_type": "stream",
          "name": "stdout",
          "text": [
            "model output: tensor([0., 1., 2., 3., 4., 5.])\n",
            "target: tensor([0.0000, 0.5000, 1.0000, 1.5000, 2.0000, 2.5000])\n",
            "\n",
            "MSE Loss: tensor(2.2917)\n"
          ]
        }
      ]
    },
    {
      "cell_type": "markdown",
      "source": [
        "**Remember to use the cross entropy loss later for our MNIST classification task!**\n",
        "\n",
        "Have a look at this link for more about the [Cross Entropy Loss](https://pytorch.org/docs/stable/generated/torch.nn.CrossEntropyLoss.html)."
      ],
      "metadata": {
        "id": "ckpDAPD7zPj1"
      }
    },
    {
      "cell_type": "markdown",
      "source": [
        "### Exercise\n",
        "\n",
        "Go through the [loss functions](https://pytorch.org/docs/stable/nn.html#loss-functions) mentioned in the PyTorch docs and construct one of your choice. Observe how it compares to the MSE loss."
      ],
      "metadata": {
        "id": "bB1FCT0QuSPO"
      }
    },
    {
      "cell_type": "code",
      "source": [
        "your_loss_fn = nn.MSELoss() # replace this your favourite loss function (Try L1 loss and Huber loss)\n",
        "your_loss = your_loss_fn(output_tensor, target_tensor)\n",
        "print(your_loss)"
      ],
      "metadata": {
        "id": "qRs48nTdrPaC",
        "colab": {
          "base_uri": "https://localhost:8080/"
        },
        "outputId": "ca95c5f5-a980-40a4-9b29-efd25d512e3a"
      },
      "execution_count": 32,
      "outputs": [
        {
          "output_type": "stream",
          "name": "stdout",
          "text": [
            "tensor(2.2917)\n"
          ]
        }
      ]
    },
    {
      "cell_type": "markdown",
      "source": [
        "# Optimizers\n",
        "\n",
        "When presented with some input data, our untrained network, whose parameters have been initialized randomly, cannot be expected to give the correct answer. Optimization is the process of adjusting the model parameters in a series of steps to reduce the error in prediction. Optimization algorithms define how this process is carried out.\n",
        "\n",
        "We use the Stochastic Gradient Descent (SGD) optimization algorithm for our example. Check out the official [PyTorch docs](https://pytorch.org/docs/stable/optim.html#algorithms) for more examples of optimization algorithms."
      ],
      "metadata": {
        "id": "RKPCPDHRu2qG"
      }
    },
    {
      "cell_type": "code",
      "source": [
        "import torch.optim as optim\n",
        "\n",
        "sgd_opti = optim.SGD(model.parameters(), lr=0.01)"
      ],
      "metadata": {
        "id": "soeX7S-ru5Qp"
      },
      "execution_count": 33,
      "outputs": []
    },
    {
      "cell_type": "markdown",
      "source": [
        "In the context of standard gradient descent optimization, the parameters are updated using the following equation:\n",
        "\n",
        "\n",
        "$$\\theta_{t+1} = \\theta_t - \\eta \\cdot \\nabla L(\\theta_t)$$\n",
        "\n",
        "\n",
        "Here, $\\theta_{t}$ represents the parameters at iteration $t$, $\\eta$ is the learning rate, and $\\nabla L(\\theta_t)$ is the gradient of the loss function L with respect to the parameters $\\theta_t$​ . This equation guides the update of parameters in the direction opposite to the gradient, with the step size controlled by the learning rate."
      ],
      "metadata": {
        "id": "yNExEht1ynXI"
      }
    },
    {
      "cell_type": "markdown",
      "source": [
        "### Optimization Step\n",
        "\n",
        "A single step of optimization consists of the following parts:\n",
        "\n",
        "1. Forward pass\n",
        "2. Loss calculation\n",
        "3. Backward pass\n",
        "4. Weight update\n",
        "\n",
        "Check this [3Blue1Brown video](https://www.youtube.com/watch?v=tIeHLnjs5U8) out later, for a deep dive into the optimization process."
      ],
      "metadata": {
        "id": "ZhBQ7TMBqMfI"
      }
    },
    {
      "cell_type": "code",
      "source": [
        "input_tensor = torch.rand(1, 28, 28).to(DEVICE)  # dummy sample image\n",
        "target_tensor = torch.tensor([[0.0, 0, 0, 0, 1, 0, 0, 0, 0, 0]]).to(DEVICE)  # dummy target indicating that the fifth element is the correct label\n",
        "\n",
        "# Print network weights before weights update:\n",
        "print('Model Weight Before Weight Update:')\n",
        "# Assuming 'model' is your PyTorch model\n",
        "model_state_dict = model.state_dict()\n",
        "\n",
        "# Print the weights of the first layer\n",
        "for layer, weights in model_state_dict.items():\n",
        "    print(f\"{layer}: {weights}\")\n",
        "    break"
      ],
      "metadata": {
        "colab": {
          "base_uri": "https://localhost:8080/"
        },
        "id": "l_lmFuyMvkk6",
        "outputId": "1d1075ff-df08-495a-f941-c1a29e1723a3"
      },
      "execution_count": 34,
      "outputs": [
        {
          "output_type": "stream",
          "name": "stdout",
          "text": [
            "Model Weight Before Weight Update:\n",
            "layer_stack.0.weight: tensor([[ 0.0266, -0.0193, -0.0218,  ..., -0.0200,  0.0020, -0.0069],\n",
            "        [-0.0312, -0.0256,  0.0325,  ..., -0.0320, -0.0003, -0.0067],\n",
            "        [ 0.0097, -0.0065, -0.0320,  ..., -0.0287,  0.0128, -0.0038],\n",
            "        ...,\n",
            "        [ 0.0006, -0.0019,  0.0267,  ...,  0.0017, -0.0168,  0.0332],\n",
            "        [ 0.0098, -0.0178,  0.0083,  ..., -0.0072, -0.0261,  0.0044],\n",
            "        [ 0.0292,  0.0253,  0.0215,  ..., -0.0291, -0.0195, -0.0313]],\n",
            "       device='cuda:0')\n"
          ]
        }
      ]
    },
    {
      "cell_type": "markdown",
      "source": [
        "Let's perform one step of optimization. Rerun the cell a couple of times and observe the changes in the values of the weights compared to those before the optimization step."
      ],
      "metadata": {
        "id": "MUZI_l950wAt"
      }
    },
    {
      "cell_type": "code",
      "source": [
        "## 1. Forward Propagation\n",
        "output_tensor = model(input_tensor)\n",
        "\n",
        "# 2. Compute loss\n",
        "loss = mse_loss(output_tensor, target_tensor)\n",
        "\n",
        "# 3. Backward pass\n",
        "sgd_opti.zero_grad()\n",
        "loss.backward()\n",
        "\n",
        "# 4. Weight Update\n",
        "sgd_opti.step()\n",
        "\n",
        "# Print network weights before weights update:\n",
        "print('Model Weight After Weight Update:')\n",
        "# Assuming 'model' is your PyTorch model\n",
        "model_state_dict = model.state_dict()\n",
        "\n",
        "# Print the weights of the first layer\n",
        "for layer, weights in model_state_dict.items():\n",
        "    print(f\"{layer}: {weights}\")\n",
        "    break"
      ],
      "metadata": {
        "id": "HdU5FBhtx3TD",
        "colab": {
          "base_uri": "https://localhost:8080/"
        },
        "outputId": "de08e530-97b2-4ea3-d7e4-d9112b72024e"
      },
      "execution_count": 35,
      "outputs": [
        {
          "output_type": "stream",
          "name": "stdout",
          "text": [
            "Model Weight After Weight Update:\n",
            "layer_stack.0.weight: tensor([[ 0.0266, -0.0193, -0.0218,  ..., -0.0200,  0.0020, -0.0069],\n",
            "        [-0.0312, -0.0256,  0.0325,  ..., -0.0320, -0.0003, -0.0067],\n",
            "        [ 0.0097, -0.0065, -0.0320,  ..., -0.0287,  0.0128, -0.0038],\n",
            "        ...,\n",
            "        [ 0.0006, -0.0019,  0.0267,  ...,  0.0017, -0.0168,  0.0332],\n",
            "        [ 0.0098, -0.0178,  0.0083,  ..., -0.0072, -0.0261,  0.0044],\n",
            "        [ 0.0292,  0.0253,  0.0215,  ..., -0.0291, -0.0195, -0.0313]],\n",
            "       device='cuda:0')\n"
          ]
        }
      ]
    },
    {
      "cell_type": "markdown",
      "source": [
        "### Exercise\n",
        "Go through the [PyTorch docs](https://pytorch.org/docs/stable/optim.html#algorithms) to see what other optimization algorithms apart from SGD are used commonly.\n",
        "<!-- Try [this](https://emiliendupont.github.io/2018/01/24/optimization-visualization/) interactive demonstration to get a feel for what the optimization process looks like with different optimizers. -->"
      ],
      "metadata": {
        "id": "QYea1Pilp9HE"
      }
    },
    {
      "cell_type": "markdown",
      "source": [
        "### Hyperparameters\n",
        "\n",
        "Hyperparameters are adjustable parameters that let you control the model optimization process. Unlike the parameters of the model which are learnt by the model using training examples, these are going to be set by you. Examples of hyperparameters include:\n",
        "\n",
        "* Number of epochs - the number of times to iterate over the dataset during the training process\n",
        "\n",
        "* Batch size - the number of data samples propagated through the network before the parameters are updated\n",
        "\n",
        "* Learning Rate - how much to update models parameters after processing each batch of data\n",
        "\n",
        "Check this [tool](https://losslandscape.com/explorer) out using which you can get an idea of how gradient descent happens on different loss landscape and how the value of learning rate affects the optimization process."
      ],
      "metadata": {
        "id": "xWixoek487Ch"
      }
    },
    {
      "cell_type": "code",
      "source": [
        "# Setting the values of hyperparameters\n",
        "\n",
        "learning_rate = 1e-3\n",
        "batch_size = 64\n",
        "epochs = 5"
      ],
      "metadata": {
        "id": "5DODSin89UbC"
      },
      "execution_count": 36,
      "outputs": []
    },
    {
      "cell_type": "markdown",
      "source": [
        "# Optimization Loop\n",
        "\n",
        "Once we decide on a set of hyperparameters, we can go ahead with training our model in an optimization loop. Each iteration of the optimization loop, called an epoch, has two main parts:\n",
        "\n",
        " *  Train Loop - iterate over the training dataset and try to converge to optimal parameters.\n",
        "\n",
        " * Validation/Test Loop - iterate over the test dataset to check if the model performance is improving."
      ],
      "metadata": {
        "id": "lW8wAxDs8-wE"
      }
    },
    {
      "cell_type": "code",
      "source": [
        "model"
      ],
      "metadata": {
        "colab": {
          "base_uri": "https://localhost:8080/"
        },
        "id": "urtZYLMyqoAM",
        "outputId": "6e272add-41c5-454c-9ffa-2c8ff6643407"
      },
      "execution_count": 37,
      "outputs": [
        {
          "output_type": "execute_result",
          "data": {
            "text/plain": [
              "NeuralNetwork(\n",
              "  (flatten): Flatten(start_dim=1, end_dim=-1)\n",
              "  (layer_stack): Sequential(\n",
              "    (0): Linear(in_features=784, out_features=512, bias=True)\n",
              "    (1): ReLU()\n",
              "    (2): Linear(in_features=512, out_features=512, bias=True)\n",
              "    (3): ReLU()\n",
              "    (4): Linear(in_features=512, out_features=10, bias=True)\n",
              "  )\n",
              ")"
            ]
          },
          "metadata": {},
          "execution_count": 37
        }
      ]
    },
    {
      "cell_type": "markdown",
      "source": [
        "##  Train Loop"
      ],
      "metadata": {
        "id": "FTszvz6M8-r5"
      }
    },
    {
      "cell_type": "code",
      "source": [
        "def train_loop(dataloader, model, loss_fn, optimizer):\n",
        "    size = len(dataloader.dataset)\n",
        "    # Set the model to training mode - important for batch normalization and dropout layers\n",
        "    # Unnecessary in this situation but added for best practices\n",
        "    model.train()\n",
        "    loss = 0\n",
        "    for batch, (X, y) in enumerate(dataloader):\n",
        "        # Compute prediction and loss\n",
        "        X=X.to(DEVICE)\n",
        "        y=y.to(DEVICE)\n",
        "        pred = model(X)\n",
        "        loss = loss_fn(pred, y)\n",
        "\n",
        "        # Backpropagation\n",
        "        optimizer.zero_grad()\n",
        "\n",
        "        loss.backward()\n",
        "        optimizer.step()\n",
        "\n",
        "\n",
        "        if batch % 100 == 0:\n",
        "            loss, current = loss.item(), (batch + 1) * len(X)\n",
        "\n",
        "            print(f\"Train loss: {loss:>7f}  [{current:>5d}/{size:>5d}]\")\n",
        "\n",
        "    return loss\n",
        "\n"
      ],
      "metadata": {
        "id": "LVkA4EXaAuZI"
      },
      "execution_count": 38,
      "outputs": []
    },
    {
      "cell_type": "markdown",
      "source": [
        "## Test Loop"
      ],
      "metadata": {
        "id": "KdMQ5nTgAx04"
      }
    },
    {
      "cell_type": "code",
      "source": [
        "def test_loop(dataloader, model, loss_fn):\n",
        "    # Set the model to evaluation mode - important for batch normalization and dropout layers\n",
        "    # Unnecessary in this situation but added for best practices\n",
        "    model.eval()\n",
        "    size = len(dataloader.dataset)\n",
        "    num_batches = len(dataloader)\n",
        "    test_loss, correct = 0, 0\n",
        "\n",
        "    # Evaluating the model with torch.no_grad() ensures that no gradients are computed during test mode\n",
        "    # also serves to reduce unnecessary gradient computations and memory usage for tensors with requires_grad=True\n",
        "    with torch.no_grad():\n",
        "        for X, y in dataloader:\n",
        "            X=X.to(DEVICE)\n",
        "            y=y.to(DEVICE)\n",
        "            pred = model(X)\n",
        "            test_loss += loss_fn(pred, y).item()\n",
        "            correct += (pred.argmax(1) == y).type(torch.float).sum().item()\n",
        "\n",
        "    test_loss /= num_batches\n",
        "    correct /= size\n",
        "\n",
        "    print(f\"Test Accuracy: {(100*correct):>0.1f}%, Test loss (avg): {test_loss:>8f} \\n\")\n",
        "\n",
        "    return test_loss , 100*correct"
      ],
      "metadata": {
        "id": "Cq00c8KeAwwI"
      },
      "execution_count": 39,
      "outputs": []
    },
    {
      "cell_type": "markdown",
      "source": [
        "Putting them together:"
      ],
      "metadata": {
        "id": "abEeWMCp9DPh"
      }
    },
    {
      "cell_type": "code",
      "source": [
        "# Run this section 2-3 times and observe what is happening to the train/test loss and test accuracy\n",
        "# Observe that the model is not reinstantiated. Rerunning this code continues the training process from where you stopped earlier\n",
        "\n",
        "from torch.utils.tensorboard import SummaryWriter\n",
        "writer = SummaryWriter()\n",
        "\n",
        "optimizer = torch.optim.SGD(model.parameters(), lr=learning_rate)\n",
        "cross_entropy_loss = nn.CrossEntropyLoss()\n",
        "\n",
        "for epoch in range(epochs):\n",
        "    print(f\"Epoch {epoch+1}\\n-------------------------------\")\n",
        "    train_loss = train_loop(train_dataloader, model, cross_entropy_loss, optimizer)\n",
        "    test_loss, test_accuracy = test_loop(test_dataloader, model, cross_entropy_loss)\n",
        "\n",
        "    writer.add_scalar(\"Loss/train\", train_loss,epoch)\n",
        "    writer.add_scalar(\"Loss/test\", test_loss, epoch)\n",
        "    writer.add_scalar(\"Accuracy/test\", test_accuracy, epoch)\n",
        "\n",
        "writer.flush()\n",
        "writer.close()\n",
        "print(\"Done!\")"
      ],
      "metadata": {
        "colab": {
          "base_uri": "https://localhost:8080/"
        },
        "id": "R1DNMScSBY7Y",
        "outputId": "89d9ed55-812e-4e52-d3d3-938d25258660"
      },
      "execution_count": 40,
      "outputs": [
        {
          "output_type": "stream",
          "name": "stdout",
          "text": [
            "Epoch 1\n",
            "-------------------------------\n",
            "Train loss: 2.307795  [   64/60000]\n",
            "Train loss: 2.305540  [ 6464/60000]\n",
            "Train loss: 2.294282  [12864/60000]\n",
            "Train loss: 2.291154  [19264/60000]\n",
            "Train loss: 2.277656  [25664/60000]\n",
            "Train loss: 2.287415  [32064/60000]\n",
            "Train loss: 2.278663  [38464/60000]\n",
            "Train loss: 2.273568  [44864/60000]\n",
            "Train loss: 2.261936  [51264/60000]\n",
            "Train loss: 2.257267  [57664/60000]\n",
            "Test Accuracy: 39.9%, Test loss (avg): 2.259454 \n",
            "\n",
            "Epoch 2\n",
            "-------------------------------\n",
            "Train loss: 2.271975  [   64/60000]\n",
            "Train loss: 2.248998  [ 6464/60000]\n",
            "Train loss: 2.248823  [12864/60000]\n",
            "Train loss: 2.230562  [19264/60000]\n",
            "Train loss: 2.248625  [25664/60000]\n",
            "Train loss: 2.232269  [32064/60000]\n",
            "Train loss: 2.215694  [38464/60000]\n",
            "Train loss: 2.212363  [44864/60000]\n",
            "Train loss: 2.201389  [51264/60000]\n",
            "Train loss: 2.212570  [57664/60000]\n",
            "Test Accuracy: 57.0%, Test loss (avg): 2.194765 \n",
            "\n",
            "Epoch 3\n",
            "-------------------------------\n",
            "Train loss: 2.179413  [   64/60000]\n",
            "Train loss: 2.194415  [ 6464/60000]\n",
            "Train loss: 2.187948  [12864/60000]\n",
            "Train loss: 2.157441  [19264/60000]\n",
            "Train loss: 2.170209  [25664/60000]\n",
            "Train loss: 2.151731  [32064/60000]\n",
            "Train loss: 2.132637  [38464/60000]\n",
            "Train loss: 2.122814  [44864/60000]\n",
            "Train loss: 2.089633  [51264/60000]\n",
            "Train loss: 2.113483  [57664/60000]\n",
            "Test Accuracy: 63.3%, Test loss (avg): 2.084833 \n",
            "\n",
            "Epoch 4\n",
            "-------------------------------\n",
            "Train loss: 2.098837  [   64/60000]\n",
            "Train loss: 2.072685  [ 6464/60000]\n",
            "Train loss: 2.064157  [12864/60000]\n",
            "Train loss: 2.042230  [19264/60000]\n",
            "Train loss: 2.077363  [25664/60000]\n",
            "Train loss: 2.001173  [32064/60000]\n",
            "Train loss: 2.006601  [38464/60000]\n",
            "Train loss: 1.948681  [44864/60000]\n",
            "Train loss: 1.842682  [51264/60000]\n",
            "Train loss: 1.850244  [57664/60000]\n",
            "Test Accuracy: 66.3%, Test loss (avg): 1.893110 \n",
            "\n",
            "Epoch 5\n",
            "-------------------------------\n",
            "Train loss: 1.902430  [   64/60000]\n",
            "Train loss: 1.868129  [ 6464/60000]\n",
            "Train loss: 1.818005  [12864/60000]\n",
            "Train loss: 1.873661  [19264/60000]\n",
            "Train loss: 1.858293  [25664/60000]\n",
            "Train loss: 1.752008  [32064/60000]\n",
            "Train loss: 1.772442  [38464/60000]\n",
            "Train loss: 1.694981  [44864/60000]\n",
            "Train loss: 1.624122  [51264/60000]\n",
            "Train loss: 1.604052  [57664/60000]\n",
            "Test Accuracy: 70.9%, Test loss (avg): 1.604285 \n",
            "\n",
            "Done!\n"
          ]
        }
      ]
    },
    {
      "cell_type": "markdown",
      "source": [
        "Let's now try to see if our model predicts correctly"
      ],
      "metadata": {
        "id": "802zDn_uBdse"
      }
    },
    {
      "cell_type": "code",
      "source": [
        "test_a_sample(model)"
      ],
      "metadata": {
        "id": "sLs5A7MIGpsx",
        "colab": {
          "base_uri": "https://localhost:8080/",
          "height": 586
        },
        "outputId": "db9a2347-cad1-4e47-8adb-2d9958a3436a"
      },
      "execution_count": 41,
      "outputs": [
        {
          "output_type": "stream",
          "name": "stdout",
          "text": [
            "Image batch shape: torch.Size([64, 1, 28, 28])\n",
            "Labels batch shape: torch.Size([64])\n",
            "\n",
            "Sample Image : \n"
          ]
        },
        {
          "output_type": "display_data",
          "data": {
            "text/plain": [
              "<Figure size 640x480 with 1 Axes>"
            ],
            "image/png": "[encoded data removed]"
          },
          "metadata": {}
        },
        {
          "output_type": "stream",
          "name": "stdout",
          "text": [
            "Sample image is on  cpu  device \n",
            "Moved it to  cuda:0\n",
            "Predicted class: 7\n",
            "Ground Truth / True class: 7\n",
            "Predicted class using model.predict() :  tensor([7], device='cuda:0')\n"
          ]
        }
      ]
    },
    {
      "cell_type": "markdown",
      "source": [
        "# Saving/Loading the model\n",
        "\n",
        "Once you have trained the model, you can save the parameters in a place of your choice using the torch.save() method."
      ],
      "metadata": {
        "id": "JuSni06JCzT3"
      }
    },
    {
      "cell_type": "code",
      "source": [
        "torch.save(model.state_dict(), 'model_weights.pth')"
      ],
      "metadata": {
        "id": "BPIXXvKNvLL-"
      },
      "execution_count": 42,
      "outputs": []
    },
    {
      "cell_type": "markdown",
      "source": [
        "When you want to load the model and use it again, you need to create an untrained model and load the saved weights into it."
      ],
      "metadata": {
        "id": "-rnsZG7XC5Y5"
      }
    },
    {
      "cell_type": "code",
      "source": [
        "model_new = NeuralNetwork().to(DEVICE) # we do not specify ``weights``, i.e. create untrained model\n",
        "# try testing a sample on \"model_new\" before you load the trained model in it\n",
        "\n",
        "model_new.load_state_dict(torch.load('model_weights.pth'))\n",
        "test_a_sample(model_new)"
      ],
      "metadata": {
        "id": "S8-rBRpgvajL",
        "colab": {
          "base_uri": "https://localhost:8080/",
          "height": 586
        },
        "outputId": "a8aebd02-c20e-4be2-c668-68ce3d474e0c"
      },
      "execution_count": 43,
      "outputs": [
        {
          "output_type": "stream",
          "name": "stdout",
          "text": [
            "Image batch shape: torch.Size([64, 1, 28, 28])\n",
            "Labels batch shape: torch.Size([64])\n",
            "\n",
            "Sample Image : \n"
          ]
        },
        {
          "output_type": "display_data",
          "data": {
            "text/plain": [
              "<Figure size 640x480 with 1 Axes>"
            ],
            "image/png": "[encoded data removed]"
          },
          "metadata": {}
        },
        {
          "output_type": "stream",
          "name": "stdout",
          "text": [
            "Sample image is on  cpu  device \n",
            "Moved it to  cuda:0\n",
            "Predicted class: 7\n",
            "Ground Truth / True class: 7\n",
            "Predicted class using model.predict() :  tensor([7], device='cuda:0')\n"
          ]
        }
      ]
    },
    {
      "cell_type": "code",
      "source": [],
      "metadata": {
        "id": "ho75Pw4PKwx2"
      },
      "execution_count": 43,
      "outputs": []
    },
    {
      "cell_type": "code",
      "source": [],
      "metadata": {
        "id": "jg7mDS55Kwue"
      },
      "execution_count": 43,
      "outputs": []
    },
    {
      "cell_type": "code",
      "source": [],
      "metadata": {
        "id": "mDyKCF9wKwq-"
      },
      "execution_count": 43,
      "outputs": []
    },
    {
      "cell_type": "markdown",
      "source": [
        "#Challenge - House Price Prediction Using Neural Network\n"
      ],
      "metadata": {
        "id": "drR7rvGbKxM2"
      }
    },
    {
      "cell_type": "code",
      "source": [
        "#@title Set Device\n",
        "\n",
        "DEVICE = \"cuda\" if torch.cuda.is_available() else \"cpu\"\n",
        "print(DEVICE)"
      ],
      "metadata": {
        "colab": {
          "base_uri": "https://localhost:8080/"
        },
        "id": "DiB79aiuO954",
        "outputId": "0064073c-3bcc-4961-a056-83446cd12d62"
      },
      "execution_count": 44,
      "outputs": [
        {
          "output_type": "stream",
          "name": "stdout",
          "text": [
            "cuda\n"
          ]
        }
      ]
    },
    {
      "cell_type": "code",
      "source": [
        "#@title Imports\n",
        "import torch\n",
        "from torch.utils.data import Dataset, DataLoader\n",
        "import pandas as pd\n",
        "from torch import nn\n"
      ],
      "metadata": {
        "id": "_zoDQF36RAjA"
      },
      "execution_count": 45,
      "outputs": []
    },
    {
      "cell_type": "markdown",
      "source": [
        "## Challenge 1: Dataset and DataLoader"
      ],
      "metadata": {
        "id": "zOZ-jPOGTZ0t"
      }
    },
    {
      "cell_type": "code",
      "source": [
        "#@title Loading Data\n",
        "\n",
        "from sklearn.datasets import fetch_california_housing\n",
        "from sklearn.model_selection import train_test_split\n",
        "\n",
        "housing_data = fetch_california_housing()\n",
        "# print(housing_data)\n",
        "print(\"Number of Features: \", len(housing_data.data[0]))\n",
        "print(\"Number of Data Samples: \", len(housing_data.data))\n",
        "\n"
      ],
      "metadata": {
        "colab": {
          "base_uri": "https://localhost:8080/"
        },
        "id": "oKwhPz1zEN1i",
        "outputId": "0203fcb6-663b-45c5-ab7f-8dab7c1d1aff"
      },
      "execution_count": 46,
      "outputs": [
        {
          "output_type": "stream",
          "name": "stdout",
          "text": [
            "Number of Features:  8\n",
            "Number of Data Samples:  20640\n"
          ]
        }
      ]
    },
    {
      "cell_type": "code",
      "source": [
        "#@title Complete Custom Dataset Class\n",
        "# Refer: https://pytorch.org/tutorials/beginner/data_loading_tutorial.html\n",
        "\n",
        "class CustomDataset(Dataset):\n",
        "    def __init__(self, data_source):\n",
        "        self.data_source =data_source\n",
        "        self.features = torch.tensor(self.data_source.data, dtype=torch.float32)\n",
        "        self.labels = torch.tensor(self.data_source.target, dtype=torch.float32)\n",
        "\n",
        "\n",
        "    def __len__(self):\n",
        "        return len(self.data_source.data)\n",
        "\n",
        "    def __getitem__(self, idx):\n",
        "        feature, label = ...  # Use idx (index) to reference each input row in the dataset\n",
        "        return feature, label\n"
      ],
      "metadata": {
        "id": "zNNqLOmFKwk3"
      },
      "execution_count": 47,
      "outputs": []
    },
    {
      "cell_type": "code",
      "source": [
        "#@title Specify the batch_size\n",
        "batch_size = ..."
      ],
      "metadata": {
        "id": "KKVPf-cJSGS9"
      },
      "execution_count": 48,
      "outputs": []
    },
    {
      "cell_type": "code",
      "source": [
        "#@title Declare Custom Dataset Class Object\n",
        "custom_dataset = ...\n",
        "\n"
      ],
      "metadata": {
        "id": "zvQO8WGeRlRs"
      },
      "execution_count": 49,
      "outputs": []
    },
    {
      "cell_type": "code",
      "source": [
        "# #@title Split the dataset into train and test\n",
        "split_ratio =...\n",
        "train_size = int(split_ratio * len(custom_dataset))\n",
        "test_size = len(custom_dataset) - train_size\n",
        "\n",
        "#Refer to torch.utils.data.random_split() in https://pytorch.org/docs/stable/data.html\n",
        "\n",
        "housing_train_dataset, housing_test_dataset = ...\n",
        "\n",
        "print(len(housing_train_dataset))\n",
        "print(len(housing_test_dataset))\n"
      ],
      "metadata": {
        "id": "LMpeO5g4NUiR"
      },
      "execution_count": 51,
      "outputs": []
    },
    {
      "cell_type": "code",
      "source": [
        "#@title Intialize the data loader\n",
        "train_housing_data_loader = ...\n",
        "test_housing_data_loader = ..."
      ],
      "metadata": {
        "id": "R6kaEuuFS20V"
      },
      "execution_count": null,
      "outputs": []
    },
    {
      "cell_type": "code",
      "source": [
        "#@title Execute the below code to check Dataloader  - Try changing the batch_size!\n",
        "\n",
        "for  id, batch_data in enumerate(train_housing_data_loader):\n",
        "\n",
        "    batch_features, batch_labels = batch_data[0], batch_data[1]\n",
        "    print(\"batch_features: \",  batch_features)\n",
        "    print(\"batch_labels: \", batch_labels)\n",
        "\n",
        "    break"
      ],
      "metadata": {
        "id": "FpGJHLUESbkW"
      },
      "execution_count": null,
      "outputs": []
    },
    {
      "cell_type": "markdown",
      "source": [
        "## Challenge 2: Building Neural Network"
      ],
      "metadata": {
        "id": "nQ9Wx42GTscs"
      }
    },
    {
      "cell_type": "code",
      "source": [
        "#@title Complete Code for NeuralNetwork class below\n",
        "class HousingNueralNetwork(nn.Module): # Inherit from nn.Module\n",
        "    def __init__(self):\n",
        "        super().__init__()\n",
        "\n",
        "\n",
        "        # Define a sequential container of layers in network\n",
        "        #You are free to choose number of layers and number of neurons in each layer\n",
        "        self.layer_stack = nn.Sequential(\n",
        "            nn.Linear(8, ...), # number of neuron in first layer depend upon number of features\n",
        "            ....\n",
        "            nn.Linear(..., 1) # 1 neuron  in the output\n",
        "        )\n",
        "\n",
        "    def forward(self, x):\n",
        "\n",
        "        output = ... # call layer_stack\n",
        "        return output\n",
        "\n",
        "#Create Object of HousingNueralNetwork class\n",
        "housing_model = ...\n",
        "\n",
        "#Send model to DEVICE\n",
        "housing_model = ...\n",
        "\n",
        "#print model\n",
        "print(housing_model)\n",
        "\n"
      ],
      "metadata": {
        "id": "vnapUV5sT2lM"
      },
      "execution_count": null,
      "outputs": []
    },
    {
      "cell_type": "code",
      "source": [],
      "metadata": {
        "id": "6o5n9g5CW-4-"
      },
      "execution_count": null,
      "outputs": []
    },
    {
      "cell_type": "markdown",
      "source": [
        "## Challenge 3 - Network Training"
      ],
      "metadata": {
        "id": "bRrVymyXW_k9"
      }
    },
    {
      "cell_type": "code",
      "source": [
        "#@title Specify Hyperparameter - learning rate and number of epochs\n",
        "learning_rate = ... # Try different values like 0.01 , 0.002. etc\n",
        "epochs = ..."
      ],
      "metadata": {
        "id": "cgNWCgkdT2a4"
      },
      "execution_count": null,
      "outputs": []
    },
    {
      "cell_type": "code",
      "source": [
        "#@title Specify the loss function\n",
        "\n",
        "housing_loss_fn = ..."
      ],
      "metadata": {
        "id": "u8ZDv3LkT2X0"
      },
      "execution_count": null,
      "outputs": []
    },
    {
      "cell_type": "code",
      "source": [
        "#@title Specify Optimizer\n",
        "housing_optimizer =  ...."
      ],
      "metadata": {
        "id": "XCKiRvkzYGeE"
      },
      "execution_count": null,
      "outputs": []
    },
    {
      "cell_type": "code",
      "source": [
        "#@title Complete code for Train loop\n",
        "\n",
        "def housing_train_loop(dataloader, model, loss_fn, optimizer):\n",
        "    size = len(dataloader.dataset)\n",
        "    # Set the model to training mode - important for batch normalization and dropout layers\n",
        "    # Unnecessary in this situation but added for best practices\n",
        "    model.train()\n",
        "    loss = 0\n",
        "    for batch, (X, y) in enumerate(dataloader):\n",
        "        #Transfer X and y to DEVICE\n",
        "        X=...\n",
        "        y=...\n",
        "        # Compute prediction and loss\n",
        "        pred =...\n",
        "        loss = ...\n",
        "\n",
        "\n",
        "        # set gradients to zero\n",
        "        ...\n",
        "\n",
        "        # Backpropagation of loss\n",
        "        ...\n",
        "\n",
        "        #Update weights\n",
        "        ...\n",
        "\n",
        "\n",
        "        if batch % 100 == 0:\n",
        "            loss, current = loss.item(), (batch + 1) * len(X)\n",
        "\n",
        "            print(f\"Train loss: {loss:>7f}  [{current:>5d}/{size:>5d}]\")\n",
        "\n",
        "    return loss\n"
      ],
      "metadata": {
        "id": "DAVabgU1ZR2L"
      },
      "execution_count": null,
      "outputs": []
    },
    {
      "cell_type": "code",
      "source": [
        "#@title Complete code for Test loop\n",
        "def housing_test_loop(dataloader, model, loss_fn):\n",
        "    # Set the model to evaluation mode - important for batch normalization and dropout layers\n",
        "    # Unnecessary in this situation but added for best practices\n",
        "    model.eval()\n",
        "    size = len(dataloader.dataset)\n",
        "    num_batches = len(dataloader)\n",
        "    test_loss, correct = 0, 0\n",
        "\n",
        "    # Evaluating the model with torch.no_grad() ensures that no gradients are computed during test mode\n",
        "    # also serves to reduce unnecessary gradient computations and memory usage for tensors with requires_grad=True\n",
        "    with ...\n",
        "        for X, y in dataloader:\n",
        "            #Transfer X and y to DEVICE\n",
        "            X=...\n",
        "            y=...\n",
        "            # Compute prediction and loss\n",
        "            pred =...\n",
        "            loss = ...\n",
        "    print(\"Test loss (avg):\",  test_loss)\n",
        "\n",
        "    test_loss /= num_batches\n",
        "\n",
        "    return test_loss"
      ],
      "metadata": {
        "id": "ZStPcAj_YGXr"
      },
      "execution_count": null,
      "outputs": []
    },
    {
      "cell_type": "code",
      "source": [
        "#@title Optimization Process\n",
        "\n",
        "from torch.utils.tensorboard import SummaryWriter\n",
        "writer = SummaryWriter()\n",
        "\n",
        "\n",
        "for epoch in ...: #loop should run \"epochs\" number  of times\n",
        "    print(f\"Epoch {epoch+1}\\n-------------------------------\")\n",
        "    #call housing_train_loop and housing_test_loop\n",
        "    train_loss = ...\n",
        "    test_loss = ...\n",
        "\n",
        "    writer.add_scalar(\"Housing_Loss/train\", train_loss,epoch)\n",
        "    writer.add_scalar(\"Housing_Loss/test\", test_loss, epoch)\n",
        "\n",
        "\n",
        "\n",
        "\n",
        "writer.flush()\n",
        "writer.close()\n",
        "print(\"Done!\")"
      ],
      "metadata": {
        "id": "eV6hhqUIZ4CM"
      },
      "execution_count": null,
      "outputs": []
    },
    {
      "cell_type": "code",
      "source": [],
      "metadata": {
        "id": "mSl_CWSObBNe"
      },
      "execution_count": null,
      "outputs": []
    },
    {
      "cell_type": "code",
      "source": [],
      "metadata": {
        "id": "yZiCmogFbBK8"
      },
      "execution_count": null,
      "outputs": []
    },
    {
      "cell_type": "code",
      "source": [],
      "metadata": {
        "id": "RTFhnSg2alVa"
      },
      "execution_count": null,
      "outputs": []
    },
    {
      "cell_type": "markdown",
      "source": [
        "#Additional Material"
      ],
      "metadata": {
        "id": "PgHsVU0OhPRI"
      }
    },
    {
      "cell_type": "markdown",
      "source": [
        "### Tensorboard\n",
        "\n",
        "This utility can be used to visualize the progress of the model throughout the training and testing phases."
      ],
      "metadata": {
        "id": "haUAIm93HtdA"
      }
    },
    {
      "cell_type": "code",
      "source": [
        "# Load the TensorBoard notebook extension\n",
        "%load_ext tensorboard"
      ],
      "metadata": {
        "id": "YRG_9ZHdHwUA"
      },
      "execution_count": null,
      "outputs": []
    },
    {
      "cell_type": "code",
      "source": [
        "%tensorboard --logdir runs"
      ],
      "metadata": {
        "id": "rpJhgSH0Hw6G"
      },
      "execution_count": null,
      "outputs": []
    },
    {
      "cell_type": "markdown",
      "source": [
        "Resources used to make this tutorial: [Neuromatch Academy PyTorch Tutorial](https://deeplearning.neuromatch.io/tutorials/W1D1_BasicsAndPytorch/student/W1D1_Tutorial1.html), [PyTorch - Learn The Basics](https://pytorch.org/tutorials/beginner/basics/intro.html)"
      ],
      "metadata": {
        "id": "NESIXEmzEOAz"
      }
    }
  ],
  "metadata": {
    "kernelspec": {
      "display_name": "Python 3",
      "name": "python3"
    },
    "language_info": {
      "codemirror_mode": {
        "name": "ipython",
        "version": 3
      },
      "file_extension": ".py",
      "mimetype": "text/x-python",
      "name": "python",
      "nbconvert_exporter": "python",
      "pygments_lexer": "ipython3",
      "version": "3.8.18"
    },
    "colab": {
      "provenance": [],
      "toc_visible": true,
      "gpuType": "T4"
    },
    "accelerator": "GPU"
  },
  "nbformat": 4,
  "nbformat_minor": 0
}