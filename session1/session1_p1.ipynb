{
  "cells": [
    {
      "cell_type": "markdown",
      "metadata": {
        "id": "NeCqaRQ1o-uT"
      },
      "source": [
        "# Python Basics\n",
        "\n",
        "Python is an open-source programming language known for its simplicity and readability. It is quite versatile, and can be used for both scripting applications and standalone programs. It is a popular choice for almost all data analysis and machine learning projects.\n",
        "\n",
        "In this section, we will give a very brief overview of some fundamental Python concepts."
      ]
    },
    {
      "cell_type": "markdown",
      "metadata": {
        "id": "s4XYfFZODAVC"
      },
      "source": [
        "## The Very Basics: Variables, Syntax, and Data Types"
      ]
    },
    {
      "cell_type": "markdown",
      "metadata": {
        "id": "U73eypFwrwBo"
      },
      "source": [
        "Like any other programming language, Python can be used as a calculator.\n",
        "\n",
        "To test this, just position your cursor in the below cell and hit Ctrl+Enter (Command+Enter on Mac). Alternatively, you can click the play button on the left gutter of the cell."
      ]
    },
    {
      "cell_type": "code",
      "execution_count": 1,
      "metadata": {
        "colab": {
          "base_uri": "https://localhost:8080/"
        },
        "id": "DrNHncZRr53q",
        "outputId": "b01df989-65e4-48fc-e9a1-00c82c7702ca"
      },
      "outputs": [
        {
          "data": {
            "text/plain": [
              "5"
            ]
          },
          "execution_count": 1,
          "metadata": {},
          "output_type": "execute_result"
        }
      ],
      "source": [
        "2 + 3"
      ]
    },
    {
      "cell_type": "markdown",
      "metadata": {
        "id": "F-UXJyU1s3wi"
      },
      "source": [
        "A standard programming practice is to store our values in variables."
      ]
    },
    {
      "cell_type": "code",
      "execution_count": null,
      "metadata": {
        "colab": {
          "base_uri": "https://localhost:8080/"
        },
        "id": "qNdKaFGFtdNb",
        "outputId": "67716b12-6bc3-48e2-c99c-54ab118f4777"
      },
      "outputs": [
        {
          "data": {
            "text/plain": [
              "15"
            ]
          },
          "execution_count": 2,
          "metadata": {},
          "output_type": "execute_result"
        }
      ],
      "source": [
        "x = 12\n",
        "y = 3\n",
        "x + y"
      ]
    },
    {
      "cell_type": "markdown",
      "metadata": {
        "id": "58X18WQpuM74"
      },
      "source": [
        "In the above cell, numbers `12` and `3` are stored in variables `x` and `y` respectively. Each variable is automatically assigned a type. In this case, both `x` and `y` are integers (`int`).\n",
        "\n",
        "Below is a list of some of the basic data types in Python:\n",
        "\n",
        "* `int`: an integer, like `123`.\n",
        "* `float`: a floating-point number, like `1.23`.\n",
        "* `str`: a string, like `\"Hello, world!\"`.\n",
        "* `bool`: a boolean value, like `True` or `False`.\n",
        "\n",
        "\n"
      ]
    },
    {
      "cell_type": "markdown",
      "metadata": {
        "id": "Wzi5QZkLxLAh"
      },
      "source": [
        "You can use the `type()` function to get the data type of a variable."
      ]
    },
    {
      "cell_type": "code",
      "execution_count": null,
      "metadata": {
        "colab": {
          "base_uri": "https://localhost:8080/"
        },
        "id": "iihPZE1GxbBm",
        "outputId": "103bf72a-bbfe-4b22-b818-ba7454b9f090"
      },
      "outputs": [
        {
          "data": {
            "text/plain": [
              "str"
            ]
          },
          "execution_count": 3,
          "metadata": {},
          "output_type": "execute_result"
        }
      ],
      "source": [
        "name = \"Alice\"\n",
        "type(name)"
      ]
    },
    {
      "cell_type": "markdown",
      "metadata": {
        "id": "OcIqTS-Q0cdg"
      },
      "source": [
        "Python also allows you to convert from one data type to another. This can sometimes help resolve value errors when working with real datasets."
      ]
    },
    {
      "cell_type": "code",
      "execution_count": null,
      "metadata": {
        "colab": {
          "base_uri": "https://localhost:8080/"
        },
        "id": "zr9fLTDd0_MX",
        "outputId": "ad84a611-010b-4c1d-8927-7b9b4192871c"
      },
      "outputs": [
        {
          "data": {
            "text/plain": [
              "10.0"
            ]
          },
          "execution_count": 4,
          "metadata": {},
          "output_type": "execute_result"
        }
      ],
      "source": [
        "z = 10\n",
        "float(10)"
      ]
    },
    {
      "cell_type": "markdown",
      "metadata": {
        "id": "jgfraiT-zLRK"
      },
      "source": [
        "Finally, you can use the `print` function to write the value of a variable to the screen."
      ]
    },
    {
      "cell_type": "code",
      "execution_count": null,
      "metadata": {
        "colab": {
          "base_uri": "https://localhost:8080/"
        },
        "id": "1wek5WUzz70R",
        "outputId": "0895f062-a6d5-4275-aa43-a2dcf6142f61"
      },
      "outputs": [
        {
          "name": "stdout",
          "output_type": "stream",
          "text": [
            "12\n",
            "3\n",
            "15 9 36 4.0 9\n",
            "My name is Alice\n"
          ]
        }
      ],
      "source": [
        "print(x)\n",
        "print(y)\n",
        "print(x+y, x-y, x*y, x/y, y**2)\n",
        "print(f\"My name is {name}\")"
      ]
    },
    {
      "cell_type": "markdown",
      "metadata": {},
      "source": [
        "## Conditionals and Loops"
      ]
    },
    {
      "cell_type": "markdown",
      "metadata": {},
      "source": [
        "Conditionals and loops are essential tools for any programmer. They allow us to automate tasks and build complex logic into our programs.\n",
        "\n",
        "In Python, we use the `if`, `elif`, and `else` keywords to define conditional statements. The `elif` and `else` blocks are optional, and you can include as many `elif` blocks as you want.\n",
        "\n",
        "As for loops, we use the `for` keyword to define a loop. The `range()` function is a convenient way to generate a sequence of numbers that can be used to iterate over a `for` loop."
      ]
    },
    {
      "cell_type": "code",
      "execution_count": 66,
      "metadata": {},
      "outputs": [
        {
          "name": "stdout",
          "output_type": "stream",
          "text": [
            "x is greater than 10\n"
          ]
        }
      ],
      "source": [
        "x = 15\n",
        "if x > 10:\n",
        "    print(\"x is greater than 10\")"
      ]
    },
    {
      "cell_type": "code",
      "execution_count": 84,
      "metadata": {},
      "outputs": [
        {
          "name": "stdout",
          "output_type": "stream",
          "text": [
            "0 1 2 3 4 5 6 7 8 9 "
          ]
        }
      ],
      "source": [
        "for i in range(10):\n",
        "    print(i, end = ' ')"
      ]
    },
    {
      "cell_type": "code",
      "execution_count": 83,
      "metadata": {},
      "outputs": [],
      "source": [
        "# Exercise 1. Extend the first example to print only if between 10 and 13: $ x \\in (10, 13)$\n",
        "x = 13\n",
        "if 10 < x < 13: \n",
        "    print(\"x is between 10 and 13\")"
      ]
    },
    {
      "cell_type": "code",
      "execution_count": 72,
      "metadata": {},
      "outputs": [
        {
          "data": {
            "text/plain": [
              "120"
            ]
          },
          "execution_count": 72,
          "metadata": {},
          "output_type": "execute_result"
        }
      ],
      "source": [
        "# Exercise 2. Implement the factorial function using a for loop. Remember the factorial of a number n is the product of all the numbers from 1 to n. For example, the factorial of 5 is 5*4*3*2*1 = 120.\n",
        "def factorial(n):\n",
        "    prod = 1\n",
        "    for i in range(1, n+1):\n",
        "        prod *= i\n",
        "    return prod\n",
        "\n",
        "factorial(5)"
      ]
    },
    {
      "cell_type": "markdown",
      "metadata": {
        "id": "uMPxF_BGGz2B"
      },
      "source": [
        "## Lists and Dictionaries\n",
        "\n",
        "Apart from the basic built-in data types introduced in the previous sub-section, there are a few more interesting data types in Python.\n",
        "\n",
        "Let us look at lists and dictionaries, the two data types that you will almost always encounter while working on any machine learning project. Lists are one of 4 built-in data types in Python used to store collections of data, the other 3 are Tuple, Set, and Dictionary, all with different qualities and usage."
      ]
    },
    {
      "cell_type": "markdown",
      "metadata": {
        "id": "Gwnig1TkaEzf"
      },
      "source": [
        "**Lists**\n",
        "\n",
        "A list is an ordered collection of elements. Here is how you can create a list in python\n"
      ]
    },
    {
      "cell_type": "code",
      "execution_count": 2,
      "metadata": {
        "colab": {
          "base_uri": "https://localhost:8080/"
        },
        "id": "nR8zdhtFymhP",
        "outputId": "fd599030-2560-4dd5-8f73-c45897fe7c17"
      },
      "outputs": [
        {
          "data": {
            "text/plain": [
              "list"
            ]
          },
          "execution_count": 2,
          "metadata": {},
          "output_type": "execute_result"
        }
      ],
      "source": [
        "# Creating a list\n",
        "my_list = [1,2,3,4,5]\n",
        "type(my_list)"
      ]
    },
    {
      "cell_type": "markdown",
      "metadata": {
        "id": "-kmn9bEDdx6X"
      },
      "source": [
        "Every item in a list is assigned an index. Keep in mind that indices in Python always start with 0. In other words, the first item in a list has index 0, the second item has index 1, and so on.\n",
        "\n",
        "You can access any item in a list by its index using square brackets `[]`. For instance:\n",
        "\n"
      ]
    },
    {
      "cell_type": "code",
      "execution_count": 4,
      "metadata": {
        "colab": {
          "base_uri": "https://localhost:8080/"
        },
        "id": "jnZ7NUEefA10",
        "outputId": "db5b66a7-293c-499a-ae56-5e574a545ed9"
      },
      "outputs": [
        {
          "name": "stdout",
          "output_type": "stream",
          "text": [
            "Original List: [1, 2, 3, 4, 5]\n",
            "First Element: 1\n",
            "Last Element: 5\n"
          ]
        }
      ],
      "source": [
        "# Accessing list items\n",
        "first_element = my_list[0]\n",
        "last_element = my_list[-1]\n",
        "\n",
        "print(\"Original List:\", my_list)\n",
        "print(\"First Element:\", first_element)\n",
        "print(\"Last Element:\", last_element)\n"
      ]
    },
    {
      "cell_type": "markdown",
      "metadata": {
        "id": "t80OOc7wfg3B"
      },
      "source": [
        "Apart from accessing single elements in a list, it is also possible to access any sub-part of a list. You can achieve this using a techinque called *list slicing*."
      ]
    },
    {
      "cell_type": "code",
      "execution_count": 5,
      "metadata": {
        "colab": {
          "base_uri": "https://localhost:8080/"
        },
        "id": "kBnkAzz0f95M",
        "outputId": "0d2e6785-db47-400a-9778-886122703431"
      },
      "outputs": [
        {
          "data": {
            "text/plain": [
              "[2, 3, 4]"
            ]
          },
          "execution_count": 5,
          "metadata": {},
          "output_type": "execute_result"
        }
      ],
      "source": [
        "# Slicing\n",
        "subset = my_list[1:4]\n",
        "subset"
      ]
    },
    {
      "cell_type": "markdown",
      "metadata": {
        "id": "pa6DYJ_QgJPg"
      },
      "source": [
        "Lists are changable. This means that you can change, add or remove items from a list after it has been created.\n",
        "\n"
      ]
    },
    {
      "cell_type": "code",
      "execution_count": 9,
      "metadata": {},
      "outputs": [
        {
          "data": {
            "text/plain": [
              "[6, 2, 3, 4, 5]"
            ]
          },
          "execution_count": 9,
          "metadata": {},
          "output_type": "execute_result"
        }
      ],
      "source": [
        "my_list[0] = 6\n",
        "my_list"
      ]
    },
    {
      "cell_type": "markdown",
      "metadata": {
        "id": "hxbI8aP1Z6n_"
      },
      "source": [
        "List items allow duplicate values.\n"
      ]
    },
    {
      "cell_type": "code",
      "execution_count": 13,
      "metadata": {
        "colab": {
          "base_uri": "https://localhost:8080/"
        },
        "id": "v4sN5BlLF-fd",
        "outputId": "20bb2407-a04b-4dd1-96dc-8f4d49fcff50"
      },
      "outputs": [
        {
          "name": "stdout",
          "output_type": "stream",
          "text": [
            "List After Appending: [6, 2, 3, 4, 5, 6, 7, 8, 9, 6, 7, 8, 9, 6, 7, 8, 9, 6]\n",
            "Extended List: [6, 2, 3, 4, 5, 6, 7, 8, 9, 6, 7, 8, 9, 6, 7, 8, 9, 6, 7, 8, 9]\n",
            "List After Removing: [6, 2, 3, 5, 6, 7, 8, 9, 6, 7, 8, 9, 6, 7, 8, 9, 6, 7, 8, 9]\n",
            "Popped Element: 5\n",
            "List After Popping: [6, 2, 3, 6, 7, 8, 9, 6, 7, 8, 9, 6, 7, 8, 9, 6, 7, 8, 9]\n",
            "Index of 8: 5\n",
            "Is 6 present in the list? True\n",
            "Reversed List: [9, 8, 7, 6, 9, 8, 7, 6, 9, 8, 7, 6, 9, 8, 7, 6, 3, 2, 6]\n",
            "Sorted List: [2, 3, 6, 6, 6, 6, 6, 7, 7, 7, 7, 8, 8, 8, 8, 9, 9, 9, 9]\n"
          ]
        }
      ],
      "source": [
        "# Appending elements\n",
        "my_list.append(6)\n",
        "print(\"List After Appending:\", my_list)\n",
        "\n",
        "# Extending with another list\n",
        "another_list = [7, 8, 9]\n",
        "my_list.extend(another_list)\n",
        "print(\"Extended List:\", my_list)\n",
        "\n",
        "# Removing elements\n",
        "my_list.remove(4)\n",
        "print(\"List After Removing:\", my_list)\n",
        "\n",
        "# Popping an element\n",
        "popped_element = my_list.pop(3)\n",
        "print(\"Popped Element:\", popped_element)\n",
        "print(\"List After Popping:\", my_list)\n",
        "\n",
        "# Finding the index of an element\n",
        "index_of_8 = my_list.index(8)\n",
        "print(\"Index of 8:\", index_of_8)\n",
        "\n",
        "# Checking if an element is in the list\n",
        "is_present = 6 in my_list\n",
        "print(\"Is 6 present in the list?\", is_present)\n",
        "\n",
        "# Reversing the list\n",
        "my_list.reverse()\n",
        "print(\"Reversed List:\", my_list)\n",
        "\n",
        "# Sorting the list\n",
        "my_list.sort()\n",
        "print(\"Sorted List:\", my_list)\n"
      ]
    },
    {
      "cell_type": "markdown",
      "metadata": {},
      "source": [
        "__Dictionaries__ Another key data-structure is the dictionary. It is similar to a list, but each element is a key-value pair. The key can be used to retrieve the corresponding value from the dictionary. Here is how you can create and manipulate a dictionary in Python."
      ]
    },
    {
      "cell_type": "code",
      "execution_count": 15,
      "metadata": {
        "colab": {
          "base_uri": "https://localhost:8080/"
        },
        "id": "i0wTZmhtcerv",
        "outputId": "f7cd8a69-480b-4646-c03d-81b4849e1c59"
      },
      "outputs": [
        {
          "name": "stdout",
          "output_type": "stream",
          "text": [
            "Original Dictionary: {'name': 'John', 'age': 25, 'city': 'New York', 'is_student': False}\n",
            "Name: John\n",
            "Age: 25\n",
            "Modified Dictionary: {'name': 'John', 'age': 26, 'city': 'New York', 'is_student': True, 'occupation': 'Engineer'}\n",
            "Dictionary After Removals: {'name': 'John', 'age': 26, 'occupation': 'Engineer'}\n",
            "Removed City Value: New York\n",
            "Is 'occupation' present? True\n",
            "Keys: dict_keys(['name', 'age', 'occupation'])\n",
            "Values: dict_values(['John', 26, 'Engineer'])\n",
            "Items: dict_items([('name', 'John'), ('age', 26), ('occupation', 'Engineer')])\n",
            "Copied Dictionary: {'name': 'John', 'age': 26, 'occupation': 'Engineer'}\n",
            "Cleared Dictionary: {}\n"
          ]
        }
      ],
      "source": [
        "# Dictionary 'dict': key-value pairs\n",
        "\n",
        "# Creating a dictionary\n",
        "my_dict = {\n",
        "    'name': 'John',\n",
        "    'age': 25,\n",
        "    'city': 'New York',\n",
        "    'is_student': False\n",
        "}\n",
        "\n",
        "# Accessing values\n",
        "name_value = my_dict['name']\n",
        "age_value = my_dict.get('age', 'N/A')  # Using get() to handle missing keys\n",
        "\n",
        "print(\"Original Dictionary:\", my_dict)\n",
        "print(\"Name:\", name_value)\n",
        "print(\"Age:\", age_value)\n",
        "\n",
        "# Modifying values\n",
        "my_dict['age'] = 26\n",
        "my_dict['is_student'] = True\n",
        "my_dict['occupation'] = 'Engineer'  # Adding a new key-value pair\n",
        "\n",
        "print(\"Modified Dictionary:\", my_dict)\n",
        "\n",
        "# Removing key-value pairs\n",
        "removed_value = my_dict.pop('city', 'N/A')  # Using pop() to remove and retrieve\n",
        "del my_dict['is_student']  # Using del to remove a key-value pair\n",
        "\n",
        "print(\"Dictionary After Removals:\", my_dict)\n",
        "print(\"Removed City Value:\", removed_value)\n",
        "\n",
        "# Checking if a key is present\n",
        "is_present = 'occupation' in my_dict\n",
        "print(\"Is 'occupation' present?\", is_present)\n",
        "\n",
        "# Getting keys, values, and items\n",
        "keys = my_dict.keys()\n",
        "values = my_dict.values()\n",
        "items = my_dict.items()\n",
        "\n",
        "print(\"Keys:\", keys)\n",
        "print(\"Values:\", values)\n",
        "print(\"Items:\", items)\n",
        "\n",
        "# Copying a dictionary\n",
        "copied_dict = my_dict.copy()\n",
        "print(\"Copied Dictionary:\", copied_dict)\n",
        "\n",
        "# Clearing a dictionary\n",
        "my_dict.clear()\n",
        "print(\"Cleared Dictionary:\", my_dict)\n"
      ]
    },
    {
      "cell_type": "markdown",
      "metadata": {
        "id": "GhmVMaBH5Y37"
      },
      "source": [
        "## Hands-On Exercise: Python Basics\n"
      ]
    },
    {
      "cell_type": "markdown",
      "metadata": {
        "id": "jbZXn6ORH3WD"
      },
      "source": [
        "Use list comprehension to create two lists\n",
        "1. First 10 multiples of 2\n",
        "2. First 10 multiple of 3\n",
        "\n",
        "3. Now count the number of common multiples of 2 and 3 in the above lists\n",
        "\n",
        "Did you solve 3. using for loops? Can you also solve it using list comprehensions?"
      ]
    },
    {
      "cell_type": "code",
      "execution_count": 48,
      "metadata": {
        "colab": {
          "base_uri": "https://localhost:8080/"
        },
        "id": "eEj6a-oWKh3G",
        "outputId": "729d3771-a7b2-428e-b482-ccd8c4be03c0"
      },
      "outputs": [
        {
          "data": {
            "text/plain": [
              "[6, 12, 18]"
            ]
          },
          "execution_count": 48,
          "metadata": {},
          "output_type": "execute_result"
        }
      ],
      "source": [
        "# TODO Solution remove\n",
        "lst_1 = [2*(i+1) for i in range(10)]\n",
        "lst_2 = [3*(i+1) for i in range(10)]\n",
        "[each for each in lst_1 if each in lst_2]"
      ]
    },
    {
      "cell_type": "markdown",
      "metadata": {
        "id": "O25kL_WbN0XT"
      },
      "source": [
        "## Python Functions and Classes"
      ]
    },
    {
      "cell_type": "markdown",
      "metadata": {},
      "source": [
        "We can create reusable code in Python using functions and classes. Let's start with functions.\n",
        "\n",
        "We can define a function using the `def` keyword. Here is an example of a function that takes two numbers as input and returns their sum."
      ]
    },
    {
      "cell_type": "code",
      "execution_count": 49,
      "metadata": {
        "id": "k_cgRE5FOzfo"
      },
      "outputs": [
        {
          "data": {
            "text/plain": [
              "3"
            ]
          },
          "execution_count": 49,
          "metadata": {},
          "output_type": "execute_result"
        }
      ],
      "source": [
        "def add_numbers(x, y):\n",
        "    return x + y\n",
        "\n",
        "add_numbers(1, 2)"
      ]
    },
    {
      "cell_type": "code",
      "execution_count": 52,
      "metadata": {},
      "outputs": [
        {
          "data": {
            "text/plain": [
              "-1"
            ]
          },
          "execution_count": 52,
          "metadata": {},
          "output_type": "execute_result"
        }
      ],
      "source": [
        "# Exercise: create a function to subtract two numbers\n",
        "# TODO Solution remove\n",
        "def subtract_numbers(x, y):\n",
        "    return x - y\n",
        "\n",
        "subtract_numbers(1, 2)"
      ]
    },
    {
      "cell_type": "markdown",
      "metadata": {},
      "source": [
        "We can also create classes in Python. Here is an example of a class that represents a Person. A class can contain data in the form of attributes as well as functions in the form of methods."
      ]
    },
    {
      "cell_type": "code",
      "execution_count": 61,
      "metadata": {},
      "outputs": [
        {
          "name": "stdout",
          "output_type": "stream",
          "text": [
            "Hello, my name is John and I'm 25 years old. "
          ]
        }
      ],
      "source": [
        "class Person:\n",
        "    def __init__(self, name, age):\n",
        "        self.name = name\n",
        "        self.age = age\n",
        "\n",
        "    def greet(self):\n",
        "        print(f\"Hello, my name is {self.name} and I'm {self.age} years old.\", end = \" \")\n",
        "\n",
        "person = Person(\"John\", 25)\n",
        "person.greet()"
      ]
    },
    {
      "cell_type": "markdown",
      "metadata": {},
      "source": [
        "Classes can also inherit from other classes. Here is an example of a class that inherits from the Person class and adds a new attribute."
      ]
    },
    {
      "cell_type": "code",
      "execution_count": 64,
      "metadata": {},
      "outputs": [
        {
          "name": "stdout",
          "output_type": "stream",
          "text": [
            "Hello, my name is Alice and I'm 20 years old. "
          ]
        }
      ],
      "source": [
        "# Exercise: add a new attribute major to the Student class and print it in the greet() method.\n",
        "\n",
        "# TODO Solution remove\n",
        "class Student(Person):\n",
        "    def __init__(self, name, age, major):\n",
        "        super().__init__(name, age)\n",
        "        #self.major = major\n",
        "            \n",
        "    def greet(self):\n",
        "        super().greet()\n",
        "        #print(f\"I'm a student majoring in {self.major}.\")\n",
        "\n",
        "student = Student(\"Alice\", 20, \"Computer Science\")\n",
        "student.greet()"
      ]
    },
    {
      "cell_type": "markdown",
      "metadata": {
        "id": "QwQV9S6JN_Jo"
      },
      "source": [
        "## Hands-On Exercise: Python Functions and Classes"
      ]
    },
    {
      "cell_type": "markdown",
      "metadata": {
        "id": "sHgrDxyo5ag_"
      },
      "source": [
        "# Introduction to NumPy\n",
        "\n"
      ]
    },
    {
      "cell_type": "markdown",
      "metadata": {
        "id": "7mnTNP3E5eHx"
      },
      "source": [
        "## NumPy Overview\n",
        "- Fundamental library for numerical operations.\n",
        "- Creating arrays, basic operations, and indexing.\n",
        "- Advantages of NumPy arrays over traditional lists.\n",
        "- Illustrate vectorized operations for efficiency.\n",
        "\n"
      ]
    },
    {
      "cell_type": "markdown",
      "metadata": {
        "id": "4nBxBjW7g8kO"
      },
      "source": [
        "Importing NumPy"
      ]
    },
    {
      "cell_type": "code",
      "execution_count": 27,
      "metadata": {
        "id": "a6awbJM7hAak"
      },
      "outputs": [],
      "source": [
        "import numpy as np"
      ]
    },
    {
      "cell_type": "code",
      "execution_count": 28,
      "metadata": {},
      "outputs": [
        {
          "name": "stdout",
          "output_type": "stream",
          "text": [
            "Array A:\n",
            " [[1 2 3]\n",
            " [4 5 6]]\n",
            "Array B:\n",
            " [[ 7  8  9]\n",
            " [10 11 12]]\n"
          ]
        }
      ],
      "source": [
        "# Creating NumPy arrays\n",
        "array_a = np.array([[1, 2, 3], [4, 5, 6]])\n",
        "array_b = np.array([[7, 8, 9], [10, 11, 12]])\n",
        "print(\"Array A:\\n\", array_a)\n",
        "print(\"Array B:\\n\", array_b)"
      ]
    },
    {
      "cell_type": "code",
      "execution_count": 29,
      "metadata": {},
      "outputs": [
        {
          "name": "stdout",
          "output_type": "stream",
          "text": [
            "\n",
            "Element-wise Sum:\n",
            " [[ 8 10 12]\n",
            " [14 16 18]]\n"
          ]
        }
      ],
      "source": [
        "# Element-wise operations\n",
        "elementwise_sum = array_a + array_b\n",
        "elementwise_difference = array_a - array_b\n",
        "elementwise_product = array_a * array_b\n",
        "elementwise_division = array_a / array_b\n",
        "print(\"\\nElement-wise Sum:\\n\", elementwise_sum)"
      ]
    },
    {
      "cell_type": "code",
      "execution_count": 30,
      "metadata": {},
      "outputs": [
        {
          "name": "stdout",
          "output_type": "stream",
          "text": [
            "Dot Product:\n",
            " [[ 50  68]\n",
            " [122 167]]\n",
            "\n",
            "Transposed Array A:\n",
            " [[1 4]\n",
            " [2 5]\n",
            " [3 6]]\n",
            "\n",
            "Broadcasted Array A:\n",
            " [[11 12 13]\n",
            " [14 15 16]]\n"
          ]
        }
      ],
      "source": [
        "# Dot product\n",
        "dot_product = np.dot(array_a, array_b.T)\n",
        "print(\"Dot Product:\\n\", dot_product)\n",
        "\n",
        "# Transposing an array\n",
        "transposed_array_a = array_a.T\n",
        "\n",
        "# Broadcasting\n",
        "broadcasted_array = array_a + 10\n",
        "\n",
        "print(\"\\nTransposed Array A:\\n\", transposed_array_a)\n",
        "print(\"\\nBroadcasted Array A:\\n\", broadcasted_array)"
      ]
    },
    {
      "cell_type": "code",
      "execution_count": 31,
      "metadata": {
        "colab": {
          "base_uri": "https://localhost:8080/"
        },
        "id": "Y6KC5sTghQp4",
        "outputId": "5810f419-97d3-45d8-859c-594237f524fc"
      },
      "outputs": [
        {
          "name": "stdout",
          "output_type": "stream",
          "text": [
            "\n",
            "Logarithm Values:\n",
            " [[0.         0.69314718 1.09861229]\n",
            " [1.38629436 1.60943791 1.79175947]]\n",
            "Square Root Values:\n",
            " [[1.         1.41421356 1.73205081]\n",
            " [2.         2.23606798 2.44948974]]\n",
            "\n",
            "Mean Value: 3.5\n",
            "Sum Value: 21\n",
            "Max Value: 6\n",
            "\n",
            "First Row:\n",
            " [1 2 3]\n",
            "Second Column:\n",
            " [2 5]\n",
            "\n",
            "Reshaped Array:\n",
            " [[1 2]\n",
            " [3 4]\n",
            " [5 6]]\n",
            "\n",
            "Horizontally Stacked:\n",
            " [[ 1  2  3  7  8  9]\n",
            " [ 4  5  6 10 11 12]]\n",
            "Vertically Stacked:\n",
            " [[ 1  2  3]\n",
            " [ 4  5  6]\n",
            " [ 7  8  9]\n",
            " [10 11 12]]\n",
            "\n",
            "Random Array:\n",
            " [[0.53739752 0.61644625 0.66236946]\n",
            " [0.45795849 0.37323453 0.8730773 ]]\n"
          ]
        }
      ],
      "source": [
        "# Universal functions (ufunc)\n",
        "logarithm_values = np.log(array_a)\n",
        "square_root_values = np.sqrt(array_a)\n",
        "print(\"\\nLogarithm Values:\\n\", logarithm_values)\n",
        "print(\"Square Root Values:\\n\", square_root_values)\n",
        "\n",
        "# Aggregation functions\n",
        "mean_value = np.mean(array_a)\n",
        "sum_value = np.sum(array_a)\n",
        "max_value = np.max(array_a)\n",
        "print(\"\\nMean Value:\", mean_value)\n",
        "print(\"Sum Value:\", sum_value)\n",
        "print(\"Max Value:\", max_value)\n",
        "\n",
        "# Indexing and slicing\n",
        "first_row = array_a[0, :]\n",
        "second_column = array_a[:, 1]\n",
        "print(\"\\nFirst Row:\\n\", first_row)\n",
        "print(\"Second Column:\\n\", second_column)\n",
        "\n",
        "# Reshaping arrays\n",
        "reshaped_array = array_a.reshape((3, 2))\n",
        "print(\"\\nReshaped Array:\\n\", reshaped_array)\n",
        "\n",
        "# Stacking arrays\n",
        "stacked_horizontally = np.hstack((array_a, array_b))\n",
        "stacked_vertically = np.vstack((array_a, array_b))\n",
        "print(\"\\nHorizontally Stacked:\\n\", stacked_horizontally)\n",
        "print(\"Vertically Stacked:\\n\", stacked_vertically)\n",
        "\n",
        "# Random number generation\n",
        "random_array = np.random.rand(2, 3)\n",
        "print(\"\\nRandom Array:\\n\", random_array)"
      ]
    },
    {
      "cell_type": "markdown",
      "metadata": {
        "id": "FbGid41S5fCT"
      },
      "source": [
        "## 2.2 Hands-On Exercise: NumPy Basics\n",
        "\n",
        "Now we understand the basics of NumPy. Let us try to solve a few problems using NumPy.\n",
        "\n",
        "1. Convert the temperature values from Fahrenheit to Celsius. The formula for conversion is: `C = (F - 32) * 5/9`. You can use the `numpy.array()` function to create a NumPy array from a Python list."
      ]
    },
    {
      "cell_type": "code",
      "execution_count": 87,
      "metadata": {},
      "outputs": [
        {
          "ename": "NotImplementedError",
          "evalue": "TODO: Implement the conversion from farenheit to celcius",
          "output_type": "error",
          "traceback": [
            "\u001b[0;31m---------------------------------------------------------------------------\u001b[0m",
            "\u001b[0;31mNotImplementedError\u001b[0m                       Traceback (most recent call last)",
            "Cell \u001b[0;32mIn[87], line 5\u001b[0m\n\u001b[1;32m      2\u001b[0m farenheit \u001b[38;5;241m=\u001b[39m np\u001b[38;5;241m.\u001b[39marray([\u001b[38;5;241m0\u001b[39m,\u001b[38;5;241m-\u001b[39m\u001b[38;5;241m10\u001b[39m,\u001b[38;5;241m-\u001b[39m\u001b[38;5;241m5\u001b[39m,\u001b[38;5;241m-\u001b[39m\u001b[38;5;241m15\u001b[39m,\u001b[38;5;241m0\u001b[39m])\n\u001b[1;32m      4\u001b[0m \u001b[38;5;66;03m# TODO: Convert farenheit to celcius\u001b[39;00m\n\u001b[0;32m----> 5\u001b[0m \u001b[38;5;28;01mraise\u001b[39;00m \u001b[38;5;167;01mNotImplementedError\u001b[39;00m(\u001b[38;5;124m\"\u001b[39m\u001b[38;5;124mTODO: Implement the conversion from farenheit to celcius\u001b[39m\u001b[38;5;124m\"\u001b[39m)\n\u001b[1;32m      6\u001b[0m \u001b[38;5;66;03m#celcius = (farenheit - 31) * (5/9)\u001b[39;00m\n\u001b[1;32m      7\u001b[0m \u001b[38;5;66;03m#celcius\u001b[39;00m\n",
            "\u001b[0;31mNotImplementedError\u001b[0m: TODO: Implement the conversion from farenheit to celcius"
          ]
        }
      ],
      "source": [
        "# Let's create an array of typical winter farenheit values\n",
        "farenheit = np.array([0,-10,-5,-15,0])\n",
        "\n",
        "# TODO: Convert farenheit to celcius\n",
        "raise NotImplementedError(\"TODO: Implement the conversion from farenheit to celcius\")\n",
        "#celcius = (farenheit - 31) * (5/9)\n",
        "#celcius"
      ]
    },
    {
      "cell_type": "code",
      "execution_count": 88,
      "metadata": {},
      "outputs": [],
      "source": [
        "# 2. Given a NumPy array, find out the mean, median, standard deviation, and variance of its values. You can use the `numpy.mean()`, `numpy.median()`, `numpy.std()`, and `numpy.var()` functions respectively.\n",
        "a = np.array([1,2,3,4,5,6,7,8,9,10])\n",
        "#raise NotImplementedError(\"TODO: Implement this!\")\n",
        "#print(a.mean())\n",
        "#print(a.median())\n",
        "#print(a.std())"
      ]
    },
    {
      "cell_type": "code",
      "execution_count": 90,
      "metadata": {},
      "outputs": [
        {
          "data": {
            "text/plain": [
              "array([ 1,  2,  3,  4,  5,  6,  7,  8,  9, 10])"
            ]
          },
          "execution_count": 90,
          "metadata": {},
          "output_type": "execute_result"
        }
      ],
      "source": [
        "# 3. Given a NumPy array, normalize it so that all values are between 0 and 1. Implement min-max normalization using the equation below:\n",
        "# x = (x - min(x)) / (max(x) - min(x))\n",
        "\n",
        "a = np.array([1,2,3,4,5,6,7,8,9,10])\n",
        "#raise NotImplementedError(\"TODO: Implement min-max normalization\")\n",
        "#a = (a - a.min()) / (a.max() - a.min())\n",
        "a"
      ]
    },
    {
      "cell_type": "markdown",
      "metadata": {},
      "source": [
        "# Introduction to Matplotlib"
      ]
    },
    {
      "cell_type": "markdown",
      "metadata": {},
      "source": [
        "# BONUS: Linear Regression with NumPy"
      ]
    },
    {
      "cell_type": "markdown",
      "metadata": {},
      "source": [
        "\n",
        "Remember that the key goal of machine learning is to, given some training data, develop an accurate model of the data that can be used to make predictions about new data. Linear regression is an example of such a method. This notebook explores the basics of linear regression using NumPy and Matplotlib. You will learn how to implement the method from scratch and use it to fit a line to a set of data points.\n",
        "\n",
        "We now invite you to review the material in https://compneuro.neuromatch.io/tutorials/W1D2_ModelFitting/student/W1D2_Tutorial1.html#. Proceed by opening the notebook in Colab and running the code cells.\n",
        "\n",
        "\n"
      ]
    },
    {
      "cell_type": "markdown",
      "metadata": {
        "id": "0ZkwJ9O6bLhV"
      },
      "source": [
        "# Resources\n",
        "\n",
        "- python basics: https://developers.google.com/edu/python AND https://mbakker7.github.io/exploratory_computing_with_python/\n",
        "- Official python documentation: https://docs.python.org/3/\n",
        "- For linear regression: https://compneuro.neuromatch.io/tutorials/W1D2_ModelFitting/student/W1D2_Tutorial1.html#"
      ]
    }
  ],
  "metadata": {
    "colab": {
      "provenance": [],
      "toc_visible": true
    },
    "kernelspec": {
      "display_name": "Python 3",
      "name": "python3"
    },
    "language_info": {
      "codemirror_mode": {
        "name": "ipython",
        "version": 3
      },
      "file_extension": ".py",
      "mimetype": "text/x-python",
      "name": "python",
      "nbconvert_exporter": "python",
      "pygments_lexer": "ipython3",
      "version": "3.11.4"
    }
  },
  "nbformat": 4,
  "nbformat_minor": 0
}
