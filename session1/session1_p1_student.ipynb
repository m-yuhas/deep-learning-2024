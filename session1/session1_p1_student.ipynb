{
  "cells": [
    {
      "cell_type": "markdown",
      "metadata": {
        "id": "bXD2y872fh6S"
      },
      "source": [
        "<a href=\"https://colab.research.google.com/github/ntu-dl-bootcamp/deep-learning-2024/blob/main/session1/session1_p1.ipynb\" target=\"_blank\"><img alt=\"Open In Colab\" src=\"https://colab.research.google.com/assets/colab-badge.svg\"/></a>"
      ]
    },
    {
      "cell_type": "markdown",
      "metadata": {
        "id": "NeCqaRQ1o-uT"
      },
      "source": [
        "# 1. Python Basics\n",
        "\n",
        "Python is an open-source programming language known for its simplicity and readibility. It is quite versatile, and can be used for both scripting applications and standalone programs. It is a popular choice for almost all data analysis and machine learning projects.\n",
        "\n",
        "In this section, we will give a very brief overview of some fundamental Python concepts."
      ]
    },
    {
      "cell_type": "markdown",
      "metadata": {
        "id": "s4XYfFZODAVC"
      },
      "source": [
        "## 1.1 The Very Basics: Variables, Syntax, and Data Types"
      ]
    },
    {
      "cell_type": "markdown",
      "metadata": {
        "id": "U73eypFwrwBo"
      },
      "source": [
        "Like any other programming language, Python can be used as a calculator.\n",
        "\n",
        "To test this, just position your cursor in the below cell and hit Ctrl+Enter (Command+Enter on Mac). Alternatively, you can click the play button on the left gutter of the cell."
      ]
    },
    {
      "cell_type": "code",
      "execution_count": null,
      "metadata": {
        "colab": {
          "base_uri": "https://localhost:8080/"
        },
        "id": "DrNHncZRr53q",
        "outputId": "0aaf2075-d490-4b3f-a916-c2625e399002"
      },
      "outputs": [],
      "source": [
        "2 + 3"
      ]
    },
    {
      "cell_type": "markdown",
      "metadata": {
        "id": "F-UXJyU1s3wi"
      },
      "source": [
        "A standard programming practice is to store our values in variables."
      ]
    },
    {
      "cell_type": "code",
      "execution_count": null,
      "metadata": {
        "colab": {
          "base_uri": "https://localhost:8080/"
        },
        "id": "qNdKaFGFtdNb",
        "outputId": "6a64bd95-1cf9-4fba-c124-10ef21fc0370"
      },
      "outputs": [],
      "source": [
        "x = 12\n",
        "y = 3\n",
        "x + y"
      ]
    },
    {
      "cell_type": "markdown",
      "metadata": {
        "id": "58X18WQpuM74"
      },
      "source": [
        "In the above cell, numbers `12` and `3` are stored in variables `x` and `y` respectively. Each variable is automatically assigned a type. In this case, both `x` and `y` are integers (`int`).\n",
        "\n",
        "Below is a list of some of the basic data types in Python:\n",
        "\n",
        "* `int`: an integer, like `123`.\n",
        "* `float`: a floating-point number, like `1.23`.\n",
        "* `str`: a string, like `\"Hello, world!\"`.\n",
        "* `bool`: a boolean value, like `True` or `False`.\n",
        "\n",
        "\n"
      ]
    },
    {
      "cell_type": "markdown",
      "metadata": {
        "id": "Wzi5QZkLxLAh"
      },
      "source": [
        "You can use the `type()` function to get the data type of a variable."
      ]
    },
    {
      "cell_type": "code",
      "execution_count": null,
      "metadata": {
        "colab": {
          "base_uri": "https://localhost:8080/"
        },
        "id": "iihPZE1GxbBm",
        "outputId": "ca51b614-0875-44b5-e3c4-df844d31d0b0"
      },
      "outputs": [],
      "source": [
        "name = \"Alice\"\n",
        "type(name)"
      ]
    },
    {
      "cell_type": "markdown",
      "metadata": {
        "id": "OcIqTS-Q0cdg"
      },
      "source": [
        "Python also allows you to convert from one data type to another. This can sometimes help resolve value errors when working with real datasets."
      ]
    },
    {
      "cell_type": "code",
      "execution_count": null,
      "metadata": {
        "colab": {
          "base_uri": "https://localhost:8080/"
        },
        "id": "zr9fLTDd0_MX",
        "outputId": "1600fa72-820e-49ea-9ec8-c9b77404d08e"
      },
      "outputs": [],
      "source": [
        "z = 10\n",
        "float(10)"
      ]
    },
    {
      "cell_type": "markdown",
      "metadata": {
        "id": "jgfraiT-zLRK"
      },
      "source": [
        "Finally, you can use the `print` function to write the value of a variable to the screen."
      ]
    },
    {
      "cell_type": "code",
      "execution_count": null,
      "metadata": {
        "colab": {
          "base_uri": "https://localhost:8080/"
        },
        "id": "1wek5WUzz70R",
        "outputId": "3d7154e8-1fbb-480e-c65c-c6604a17e258"
      },
      "outputs": [],
      "source": [
        "print(x)\n",
        "print(y)\n",
        "print(x+y, x-y, x*y, x/y, y**2)\n",
        "print(f\"My name is {name}\")"
      ]
    },
    {
      "cell_type": "markdown",
      "metadata": {
        "id": "uMPxF_BGGz2B"
      },
      "source": [
        "## 1.2 Lists and Dictionaries\n",
        "\n",
        "Apart from the basic built-in data types introduced in the previous sub-section, there are a few more interesting data types in Python.\n",
        "\n",
        "Let us look at lists and dictionaries,\n",
        "\n",
        "the two data types that you will almost always encounter while working on any machine learning project\n",
        "\n",
        "Lists are one of 4 built-in data types in Python used to store collections of data, the other 3 are Tuple, Set, and Dictionary, all with different qualities and usage."
      ]
    },
    {
      "cell_type": "markdown",
      "metadata": {
        "id": "Gwnig1TkaEzf"
      },
      "source": [
        "**Lists**\n",
        "\n",
        "A list is an ordered collection of elements. Here is how you can create a list in python\n"
      ]
    },
    {
      "cell_type": "code",
      "execution_count": null,
      "metadata": {
        "colab": {
          "base_uri": "https://localhost:8080/"
        },
        "id": "nR8zdhtFymhP",
        "outputId": "528be4b4-94af-4dc2-bc4e-2c7368d6b9c5"
      },
      "outputs": [],
      "source": [
        "# Creating a list\n",
        "my_list = [1,2,3,4,5]\n",
        "type(my_list)"
      ]
    },
    {
      "cell_type": "markdown",
      "metadata": {
        "id": "-kmn9bEDdx6X"
      },
      "source": [
        "Every item in a list is assigned an index. Keep in mind that indices in Python always start with 0. In other words, the first item in a list has index 0, the second item has index 1, and so on.\n",
        "\n",
        "You can access any item in a list by its index using square brackets `[]`. For instance:\n",
        "\n"
      ]
    },
    {
      "cell_type": "code",
      "execution_count": null,
      "metadata": {
        "colab": {
          "base_uri": "https://localhost:8080/"
        },
        "id": "jnZ7NUEefA10",
        "outputId": "ed95f75f-cabf-4438-cb68-b22174f72b19"
      },
      "outputs": [],
      "source": [
        "# Accessing list items\n",
        "first_element = my_list[0]\n",
        "last_element = my_list[-1]\n",
        "\n",
        "print(\"Original List:\", my_list)\n",
        "print(\"First Element:\", first_element)\n",
        "print(\"Last Element:\", last_element)\n"
      ]
    },
    {
      "cell_type": "markdown",
      "metadata": {
        "id": "t80OOc7wfg3B"
      },
      "source": [
        "Apart from accessing single elements in a list, it is also possible to access any sub-part of a list. You can achieve this using a techinque called *list slicing*."
      ]
    },
    {
      "cell_type": "code",
      "execution_count": null,
      "metadata": {
        "colab": {
          "base_uri": "https://localhost:8080/"
        },
        "id": "kBnkAzz0f95M",
        "outputId": "42a3ea40-ebbc-4003-b58f-2c808d466733"
      },
      "outputs": [],
      "source": [
        "# Slicing\n",
        "subset = my_list[1:4]\n",
        "subset"
      ]
    },
    {
      "cell_type": "markdown",
      "metadata": {
        "id": "pa6DYJ_QgJPg"
      },
      "source": [
        "Lists are changable. This means that you can change, add or remove items from a list after it has been created.\n",
        "\n"
      ]
    },
    {
      "cell_type": "code",
      "execution_count": null,
      "metadata": {
        "colab": {
          "base_uri": "https://localhost:8080/"
        },
        "id": "4HQTllAVm0tP",
        "outputId": "0010802b-1b7e-4aae-b7c3-ccbde600ca57"
      },
      "outputs": [],
      "source": [
        "# Modifying elements\n",
        "my_list[2] = 10\n",
        "my_list"
      ]
    },
    {
      "cell_type": "markdown",
      "metadata": {
        "id": "GZoHAsELnXv_"
      },
      "source": [
        "Now there are several ways to add elements to a list. First, you can add an element at a specified index"
      ]
    },
    {
      "cell_type": "code",
      "execution_count": null,
      "metadata": {
        "colab": {
          "base_uri": "https://localhost:8080/"
        },
        "id": "FIbaPVkKnnpK",
        "outputId": "08e65787-6618-43c9-f2fc-dd9f7ddc8969"
      },
      "outputs": [],
      "source": [
        "my_list.insert(2, 100)\n",
        "my_list"
      ]
    },
    {
      "cell_type": "markdown",
      "metadata": {
        "id": "s3Jq3Gy0nzHR"
      },
      "source": [
        "Second, you can append an element at the end of a list"
      ]
    },
    {
      "cell_type": "code",
      "execution_count": null,
      "metadata": {
        "colab": {
          "base_uri": "https://localhost:8080/"
        },
        "id": "mm2-xiwKn5qd",
        "outputId": "d2887c6d-c484-4622-9d6c-00729619d17b"
      },
      "outputs": [],
      "source": [
        "# Appending elements\n",
        "my_list.append(6)\n",
        "my_list"
      ]
    },
    {
      "cell_type": "markdown",
      "metadata": {
        "id": "Via9ZCVOn_TO"
      },
      "source": [
        "Third, you can extend a list by merging it with another list."
      ]
    },
    {
      "cell_type": "code",
      "execution_count": null,
      "metadata": {
        "colab": {
          "base_uri": "https://localhost:8080/"
        },
        "id": "wK0Suku1oGyq",
        "outputId": "f8aafd6a-ad07-47e8-eaad-506fd7ed31a7"
      },
      "outputs": [],
      "source": [
        "# Extending with another list\n",
        "another_list = [7, 8, 9]\n",
        "my_list.extend(another_list)\n",
        "my_list"
      ]
    },
    {
      "cell_type": "markdown",
      "metadata": {
        "id": "yzpiKyyCoQNR"
      },
      "source": [
        "There are also three different methods to remove an element from a list.\n"
      ]
    },
    {
      "cell_type": "markdown",
      "metadata": {
        "id": "PD2BJV6Mom7p"
      },
      "source": [
        "The `remove()` method removes the first matching value, not a specific index."
      ]
    },
    {
      "cell_type": "code",
      "execution_count": null,
      "metadata": {
        "colab": {
          "base_uri": "https://localhost:8080/"
        },
        "id": "EOXzvorwpUWb",
        "outputId": "73636055-ab16-4297-9407-b0b3e8392e69"
      },
      "outputs": [],
      "source": [
        "a = [11, 1, 1 , 2, 3]\n",
        "a.remove(1)\n",
        "a"
      ]
    },
    {
      "cell_type": "markdown",
      "metadata": {
        "id": "rizJd53Zo7Kw"
      },
      "source": [
        "The `del` statement removes the item at a specific index."
      ]
    },
    {
      "cell_type": "code",
      "execution_count": null,
      "metadata": {
        "colab": {
          "base_uri": "https://localhost:8080/"
        },
        "id": "xO_qfIA1pU7h",
        "outputId": "63b31b2a-2f5e-4739-846b-0177552c16e3"
      },
      "outputs": [],
      "source": [
        "a = [11, 1, 1 , 2, 3]\n",
        "del a[3]\n",
        "a"
      ]
    },
    {
      "cell_type": "markdown",
      "metadata": {
        "id": "HViLO2xXo7fF"
      },
      "source": [
        "The `pop()` method removes the item at a specific index and returns it."
      ]
    },
    {
      "cell_type": "code",
      "execution_count": null,
      "metadata": {
        "colab": {
          "base_uri": "https://localhost:8080/"
        },
        "id": "Y_StRD2xpVzv",
        "outputId": "0ae4c19d-bf7e-46ba-ad55-ee043277dcb6"
      },
      "outputs": [],
      "source": [
        "a = [11, 1, 1 , 2, 3]\n",
        "a.pop(3)"
      ]
    },
    {
      "cell_type": "markdown",
      "metadata": {
        "id": "aDrQHF3mp82I"
      },
      "source": [
        "There are a few other list operations you should probably keep in mind."
      ]
    },
    {
      "cell_type": "markdown",
      "metadata": {
        "id": "I7YZIdZ8qJxR"
      },
      "source": [
        "Finding the index of an element"
      ]
    },
    {
      "cell_type": "code",
      "execution_count": null,
      "metadata": {
        "colab": {
          "base_uri": "https://localhost:8080/"
        },
        "id": "2AE-W4c7qKQQ",
        "outputId": "39487be6-e8d9-4069-d652-d4214c9de214"
      },
      "outputs": [],
      "source": [
        "animals = [\"cat\", \"dog\", \"antler\", \"cobra\", \"mouse\"]\n",
        "animals.index(\"cobra\")"
      ]
    },
    {
      "cell_type": "markdown",
      "metadata": {
        "id": "N9l1jbqSqK2H"
      },
      "source": [
        "Checking if an element is in the list\n"
      ]
    },
    {
      "cell_type": "code",
      "execution_count": null,
      "metadata": {
        "colab": {
          "base_uri": "https://localhost:8080/"
        },
        "id": "jIzqQdXNqLxk",
        "outputId": "7dc93b5b-43cd-4199-9aa7-e5bd8173426c"
      },
      "outputs": [],
      "source": [
        "is_present = \"tiger\" in animals\n",
        "print(\"Is tiger present in the list?\", is_present)\n"
      ]
    },
    {
      "cell_type": "markdown",
      "metadata": {
        "id": "OKjOaclMqMPR"
      },
      "source": [
        "Reversing the list"
      ]
    },
    {
      "cell_type": "code",
      "execution_count": null,
      "metadata": {
        "colab": {
          "base_uri": "https://localhost:8080/"
        },
        "id": "7IDJDDapqMtD",
        "outputId": "2d3a528a-9598-4969-9359-036e9dbf87fd"
      },
      "outputs": [],
      "source": [
        "my_list = [12, 45, 256, 42, 90]\n",
        "my_list.reverse()\n",
        "my_list"
      ]
    },
    {
      "cell_type": "markdown",
      "metadata": {
        "id": "K_dl3iwOrINE"
      },
      "source": [
        "Sorting the list"
      ]
    },
    {
      "cell_type": "code",
      "execution_count": null,
      "metadata": {
        "colab": {
          "base_uri": "https://localhost:8080/"
        },
        "id": "v4sN5BlLF-fd",
        "outputId": "aafd0828-16b5-44e0-d116-8a89fbae1031"
      },
      "outputs": [],
      "source": [
        "my_list.sort()\n",
        "my_list"
      ]
    },
    {
      "cell_type": "markdown",
      "metadata": {
        "id": "IdAYlb9frqGb"
      },
      "source": [
        "**Dictionaries**\n",
        "\n",
        "Python also allows for an effecient hash table structure called dictionary.\n",
        "\n",
        "You can write the contents of a dictionary as a series of key:value pairs within braces `{}`, e.g. `dict = {key1:value1, key2:value2, ... }`. The \"empty dictionary\" is just an empty pair of curly braces `{}`.\n",
        "\n",
        "Typically, strings, numbers, and tuples work as keys, and any type can be a value."
      ]
    },
    {
      "cell_type": "code",
      "execution_count": null,
      "metadata": {
        "colab": {
          "base_uri": "https://localhost:8080/"
        },
        "id": "N58igIkwuep2",
        "outputId": "8b77a50b-4863-447c-83dc-b0e2a80371d3"
      },
      "outputs": [],
      "source": [
        "my_dict = {}\n",
        "my_dict['a'] = 'alpha'\n",
        "my_dict['g'] = 'gamma'\n",
        "my_dict['o'] = 'omega'\n",
        "\n",
        "print(my_dict)\n",
        "print(type(my_dict))"
      ]
    },
    {
      "cell_type": "markdown",
      "metadata": {
        "id": "O01-Ys-bvVOz"
      },
      "source": [
        "You can perform simple lookups in a dictionary."
      ]
    },
    {
      "cell_type": "code",
      "execution_count": null,
      "metadata": {
        "colab": {
          "base_uri": "https://localhost:8080/",
          "height": 35
        },
        "id": "074JFOEgvU9n",
        "outputId": "177114ef-5d27-49ec-f900-4368ad598a27"
      },
      "outputs": [],
      "source": [
        "my_dict['a']"
      ]
    },
    {
      "cell_type": "markdown",
      "metadata": {
        "id": "8ppHSMA2vTrS"
      },
      "source": [
        "You can also change the value of any key in a dictionary, for example"
      ]
    },
    {
      "cell_type": "code",
      "execution_count": null,
      "metadata": {
        "colab": {
          "base_uri": "https://localhost:8080/"
        },
        "id": "-2cfLbwTvTYi",
        "outputId": "b266511a-0e38-4928-e9de-f5b7bdcfc223"
      },
      "outputs": [],
      "source": [
        "my_dict['a'] = 1\n",
        "my_dict"
      ]
    },
    {
      "cell_type": "markdown",
      "metadata": {
        "id": "H84DF7FXvSg4"
      },
      "source": [
        "You can use the methods `keys()` and `values()` to return lists of the keys or values explicitly.\n",
        "\n",
        "There's also an `items()` method which returns a list of (key, value) tuples which is the most efficient way to examine all the key value data in the dictionary."
      ]
    },
    {
      "cell_type": "code",
      "execution_count": null,
      "metadata": {
        "colab": {
          "base_uri": "https://localhost:8080/"
        },
        "id": "V4yQZ5Z_wnv_",
        "outputId": "21a8ebe5-7ac3-46f3-a5ff-4ece138f477c"
      },
      "outputs": [],
      "source": [
        "print(my_dict.keys())\n",
        "print(my_dict.values())\n",
        "print(my_dict.items())"
      ]
    },
    {
      "cell_type": "markdown",
      "metadata": {
        "id": "OthtEMgZxE3j"
      },
      "source": [
        "## 1.3 Control Structures: `for` loops and `if/else` statements\n"
      ]
    },
    {
      "cell_type": "markdown",
      "metadata": {
        "id": "I0LQQW9_xNAY"
      },
      "source": [
        "**The `for` loop**\n",
        "\n",
        "You can use loops to execute a command repeatedly. The syntax for a loop is as follows"
      ]
    },
    {
      "cell_type": "code",
      "execution_count": null,
      "metadata": {
        "colab": {
          "base_uri": "https://localhost:8080/"
        },
        "id": "vkgK4Q7I5bfS",
        "outputId": "1f089f03-c3dd-4a8f-a711-059bb8b3f377"
      },
      "outputs": [],
      "source": [
        "for i in [0, 1, 2, 3, 4]:\n",
        "    print('Hello world, the value of i is', i)"
      ]
    },
    {
      "cell_type": "markdown",
      "metadata": {
        "id": "60F_Abcs5bVM"
      },
      "source": [
        "In the above example, we run the `for` loop on five elements in the list `[0,1,2,3,4]`.\n",
        "\n",
        "\n",
        "However, it is rather inconvenient if you have to specify a list to loop through when the list is very long. For example, if you want to do something 1000 times, you don't want to type a list of values from 0 up to 1000. Instead, Python has a convenient function called `range`. Let us see how it can be used for the above example"
      ]
    },
    {
      "cell_type": "code",
      "execution_count": null,
      "metadata": {
        "colab": {
          "base_uri": "https://localhost:8080/"
        },
        "id": "wmbq8xXm5bIn",
        "outputId": "57b6913f-b9c7-4893-8816-e28327a757e3"
      },
      "outputs": [],
      "source": [
        "for i in range(5):\n",
        "    print('Hello world, the value of i is', i)"
      ]
    },
    {
      "cell_type": "markdown",
      "metadata": {
        "id": "qkaH7Lbx5a_Z"
      },
      "source": [
        "**The `if/else` statement**\n",
        "\n",
        "Become familiar with the syntax of `if/else` statements with the following example."
      ]
    },
    {
      "cell_type": "code",
      "execution_count": null,
      "metadata": {
        "colab": {
          "base_uri": "https://localhost:8080/"
        },
        "id": "q7BlvFq45a1A",
        "outputId": "24f94152-9f84-47e7-ed06-132ebc0478e4"
      },
      "outputs": [],
      "source": [
        "a = 4\n",
        "if a < 3:\n",
        "    print('a is smaller than 3')\n",
        "else:\n",
        "    print('a is not smaller than 3')"
      ]
    },
    {
      "cell_type": "markdown",
      "metadata": {
        "id": "rUSCUTo5xPJo"
      },
      "source": [
        "## 1.4 List Comprehensions\n"
      ]
    },
    {
      "cell_type": "markdown",
      "metadata": {
        "id": "pxU6unzaWrAo"
      },
      "source": [
        "Let us try to create a list of squares of first 10 non-negative integers"
      ]
    },
    {
      "cell_type": "code",
      "execution_count": null,
      "metadata": {
        "colab": {
          "base_uri": "https://localhost:8080/"
        },
        "id": "gXP8D0NjWrkk",
        "outputId": "5c6845b4-93f6-4b7e-c06d-31abdf3a47d2"
      },
      "outputs": [],
      "source": [
        "squares = []\n",
        "for i in range(10):\n",
        "  squares.append(i**2)\n",
        "squares"
      ]
    },
    {
      "cell_type": "markdown",
      "metadata": {
        "id": "7HBUq-vqWtMy"
      },
      "source": [
        "Interestingly, Python provides a way to perform the above operation in just one line of code. This can be done using list comprehensions, like"
      ]
    },
    {
      "cell_type": "code",
      "execution_count": null,
      "metadata": {
        "colab": {
          "base_uri": "https://localhost:8080/"
        },
        "id": "Ea9Qi_iKWtDg",
        "outputId": "39f8f8fe-b161-44d2-d415-3b05688bb8d0"
      },
      "outputs": [],
      "source": [
        "squares_new = [i**2 for i in range(10)]\n",
        "squares_new"
      ]
    },
    {
      "cell_type": "markdown",
      "metadata": {
        "id": "0qEzf5y9Ws4b"
      },
      "source": [
        "Now suppose we only want a list of squares of numbers that are divisible by 3."
      ]
    },
    {
      "cell_type": "code",
      "execution_count": null,
      "metadata": {
        "colab": {
          "base_uri": "https://localhost:8080/"
        },
        "id": "wLnBptseWstf",
        "outputId": "ed077a1d-fa91-422b-8503-c8a296962b3e"
      },
      "outputs": [],
      "source": [
        "squares_div_3 = [i**2 for i in range(10) if i%3==0]\n",
        "squares_div_3"
      ]
    },
    {
      "cell_type": "markdown",
      "metadata": {
        "id": "O25kL_WbN0XT"
      },
      "source": [
        "## 1.5 Functions and Classes in Python"
      ]
    },
    {
      "cell_type": "markdown",
      "metadata": {
        "id": "fPYwflcwdHiK"
      },
      "source": [
        "Functions are an essential part of any programming language. In the previous sections, we have already used two in-built python functions `len()` and `range()`.\n",
        "\n",
        "But you can also define your own functions using the `def` command. After `def`, you write the name of the function, and then you write the input arguments of the function in the parenthesis. Then, you add a colon. From the next line onwards, you may add one or several lines of codes that will form the basis of your function. Finally, note that your function should also have an output. For this, you can add `return` in the last line of your function, followed by whatever you want to return. If you do not want to return anything, you can skip the `return` statement.\n",
        "\n",
        "Now let us try to define a quadratic function of the form $ax^2 + bx + c$, where $x$ is the input variable, and $a=3$, $b=2$, $c=1$ are the fixed parameters."
      ]
    },
    {
      "cell_type": "code",
      "execution_count": null,
      "metadata": {
        "id": "k_cgRE5FOzfo"
      },
      "outputs": [],
      "source": [
        "def quad_func(x):\n",
        "  a = 3\n",
        "  b = 2\n",
        "  c = 1\n",
        "  y = a*x**2 + b*x + c\n",
        "  return y"
      ]
    },
    {
      "cell_type": "markdown",
      "metadata": {
        "id": "w4PolfMxdLXs"
      },
      "source": [
        "Let us test the above function with $x=1$ and $x=2$ as inputs. Make sure that the outputs are indeed correct."
      ]
    },
    {
      "cell_type": "code",
      "execution_count": null,
      "metadata": {
        "colab": {
          "base_uri": "https://localhost:8080/"
        },
        "id": "goPR-XvPdLNr",
        "outputId": "c18cdfbe-afe8-4e5e-8d3f-c1ff532491b9"
      },
      "outputs": [],
      "source": [
        "print(quad_func(1))\n",
        "print(quad_func(2))"
      ]
    },
    {
      "cell_type": "markdown",
      "metadata": {
        "id": "qqkWVEvbdKzx"
      },
      "source": [
        "Notice that `a`, `b` and `c` are fixed parameters that uniquely define our quadratic function. Now if we want to define a general quadratic function, where the parameters can take any real value, we can simply assign `a`, `b`, and `c` as additional arguments to our function."
      ]
    },
    {
      "cell_type": "code",
      "execution_count": null,
      "metadata": {
        "colab": {
          "base_uri": "https://localhost:8080/"
        },
        "id": "mgJ_Kv57dKqI",
        "outputId": "4e986cbc-9d30-4888-f366-b1cf29fdeb94"
      },
      "outputs": [],
      "source": [
        "def gen_quad_func(x, a, b, c):\n",
        "  return a*x**2 + b*x + c\n",
        "\n",
        "gen_quad_func(x=2, a=3, b=2, c=1)"
      ]
    },
    {
      "cell_type": "markdown",
      "metadata": {
        "id": "C9mkR8GBdKfx"
      },
      "source": [
        "There are two types of variables that can be defined in a function.\n",
        "\n",
        "First, we have the variables passed into the function through the arguments list. For example, in our function `quad_func`, the input variable is `x`, whereas in `gen_quad_func`, we have 4 input variables `x`, `a`, `b` and `c`.\n",
        "\n",
        "Second, we have variables that are defined during the execution of the function itself. For example, `quad_func` has four local variables `a`, `b`, `c` and `y`, whereas `gen_quad_func` has non local variables.\n",
        "\n",
        "Additionally, we also have a third type of variable, known as global variable, which is defined outside a function, but is not passed into the function through the arguments list. A good coding practice is to pass variables to a function when they are needed *inside* a function, rather than letting Python find the variable *outside* the function. This can lead to fewer coding errors and may even help you debug your code efficiently."
      ]
    },
    {
      "cell_type": "markdown",
      "metadata": {
        "id": "i9WL6xNnjDkH"
      },
      "source": [
        "**A bit about Keyword Arguments**\n",
        "\n",
        "Now suppose in the `gen_quad_func` function, we want to fix default values for arguments `a`, `b` and `c`. This way, even if we do not assign input values for these arguments while calling the function, it can still run with the default values. Such arguments are known as keyword arguments.\n",
        "\n",
        "You will routinely encounter keyword arguments when dealing with functions from Python pacakges such as numpy, pandas scikit-learn, PyTorch, etc."
      ]
    },
    {
      "cell_type": "code",
      "execution_count": null,
      "metadata": {
        "colab": {
          "base_uri": "https://localhost:8080/"
        },
        "id": "dQjUZAqPdKWN",
        "outputId": "12e14125-8387-4b09-b23c-dad120ade1dd"
      },
      "outputs": [],
      "source": [
        "def gen_quad_func(x, a=3, b=2, c=1):\n",
        "  return a*x**2 + b*x + c\n",
        "\n",
        "gen_quad_func(x=2)"
      ]
    },
    {
      "cell_type": "markdown",
      "metadata": {
        "id": "uDigvQ8Gfh6t"
      },
      "source": [
        "**Classes**\n",
        "\n",
        "We can also create classes in Python. Here is an example of a class that represents a Person. A class can contain data in the form of attributes as well as functions in the form of methods."
      ]
    },
    {
      "cell_type": "code",
      "execution_count": null,
      "metadata": {
        "colab": {
          "base_uri": "https://localhost:8080/"
        },
        "id": "4JoEKLEEfh6t",
        "outputId": "d2da4ab1-e40b-4b5b-e0b0-bdf3630c7e94"
      },
      "outputs": [],
      "source": [
        "class Person:\n",
        "    def __init__(self, name, age):\n",
        "        self.name = name\n",
        "        self.age = age\n",
        "\n",
        "    def greet(self):\n",
        "        print(f\"Hello, my name is {self.name} and I'm {self.age} years old.\", end = \" \")\n",
        "\n",
        "person = Person(\"John\", 25)\n",
        "person.greet()"
      ]
    },
    {
      "cell_type": "markdown",
      "metadata": {
        "id": "IozZ9DJEkrm7"
      },
      "source": [
        "**QUICK NOTE:** Python is dynamic programming language. So both variable types and functions can change during runtime.\n",
        "\n",
        "Now that we have seen some basic Python data-structures and commands, let us try to put these concepts into practice using a couple of **hands-on exercises**."
      ]
    },
    {
      "cell_type": "markdown",
      "metadata": {
        "id": "GhmVMaBH5Y37"
      },
      "source": [
        "## 1.6 Hands-On Exercise: Python Basics\n"
      ]
    },
    {
      "cell_type": "markdown",
      "metadata": {
        "id": "jbZXn6ORH3WD"
      },
      "source": [
        "### Exercise 1\n",
        "\n",
        "Use list comprehension to create two lists\n",
        "*   `lst_1`: first 10 multiples of 2\n",
        "*   `lst_2` first 10 multiples of 3"
      ]
    },
    {
      "cell_type": "code",
      "execution_count": null,
      "metadata": {
        "colab": {
          "base_uri": "https://localhost:8080/"
        },
        "id": "k-GjdQLfaB_h",
        "outputId": "f1a4b2d5-6f4f-4af1-8a5a-d163d81b3867"
      },
      "outputs": [],
      "source": [
        "raise NotImplementedError(\"Write your answer here\")\n",
        "lst_1 = ... # Write your answer here\n",
        "lst_2 = ... # Write your answer here\n",
        "print(lst_1)\n",
        "print(lst_2)"
      ]
    },
    {
      "cell_type": "markdown",
      "metadata": {
        "id": "NpbiUmZSaC9m"
      },
      "source": [
        "Now make use of for loops and if statement to count the number of common multiples of 2 and 3. Try assign this count to the `count` variable\n",
        "\n"
      ]
    },
    {
      "cell_type": "code",
      "execution_count": null,
      "metadata": {
        "colab": {
          "base_uri": "https://localhost:8080/"
        },
        "id": "eEj6a-oWKh3G",
        "outputId": "c8e9e15d-dd0f-4d62-8753-c3f24b7fd9bf"
      },
      "outputs": [],
      "source": [
        "count = 0\n",
        "\"\"\"\n",
        "Write your code below\n",
        "\"\"\"\n",
        "raise NotImplementedError(\"Write your answer here\")\n",
        "\n",
        "count"
      ]
    },
    {
      "cell_type": "markdown",
      "metadata": {
        "id": "UfK9FOCHbMpm"
      },
      "source": [
        "Can you get the above count using list comprehension?\n",
        "\n",
        "**Hint**: Use list comprehension to create a list `lst_common` of common multiples, and then use the in-built `len()` function to get the length of this list."
      ]
    },
    {
      "cell_type": "code",
      "execution_count": null,
      "metadata": {
        "colab": {
          "base_uri": "https://localhost:8080/"
        },
        "id": "-uZh7-K4bNI3",
        "outputId": "83e3c007-2c7e-4dcb-9d2f-48ff4ddb4372"
      },
      "outputs": [],
      "source": [
        "raise NotImplementedError(\"Write your answer here\")\n",
        "lst_common = ... # Your answer here\n",
        "len(lst_common)"
      ]
    },
    {
      "cell_type": "markdown",
      "metadata": {
        "id": "2XbdxvjHOSX1"
      },
      "source": [
        "### Exercise 2\n",
        "\n",
        "Implement the following function:\n",
        "\n",
        "$f(x) = \\cos(x)$ if $x<0$\n",
        "\n",
        "$f(x) = \\exp(-x)$ otherwise\n",
        "\n",
        "Call the above function `my_func`.\n",
        "\n",
        "**Hint:** To compute the cosine and exponential values, you can use relevant functions from the NumPy package, `np.cos()` and `np.exp()`. We have already imported the NumPy package for you.\n",
        "\n",
        "What does the funcion return for $x=1$? (If you write your function correctly, it should give you the value $0.368$."
      ]
    },
    {
      "cell_type": "code",
      "execution_count": null,
      "metadata": {
        "colab": {
          "base_uri": "https://localhost:8080/"
        },
        "id": "J8x0fXs8z4Ca",
        "outputId": "3098c7b3-f8f3-426d-a88f-17df5b0f7919"
      },
      "outputs": [],
      "source": [
        "import numpy as np\n",
        "\n",
        "def my_func(x):\n",
        "  \"\"\"\n",
        "  Implement your function here\n",
        "  \"\"\"\n",
        "  raise NotImplementedError(\"Write your answer here\")\n",
        "\n",
        "my_func(1)"
      ]
    },
    {
      "cell_type": "markdown",
      "metadata": {
        "id": "oqbkDB8Wfh6t"
      },
      "source": [
        "### Exercise 3\n",
        "\n",
        "Recall the class `Person` that we created earlier, that prints a greeting given the name and age of a person.\n",
        "\n",
        "Interestingly, Classes can also inherit from other Classes. In the below cell, we have created a new Class `Student` that inherits from `Person`. Note the syntax carefully.\n",
        "\n",
        "Add a new attribute `major` to the `Student` class and print a new greeting in the `greet()` method."
      ]
    },
    {
      "cell_type": "code",
      "execution_count": null,
      "metadata": {
        "colab": {
          "base_uri": "https://localhost:8080/"
        },
        "id": "d4M0I3j6fh6t",
        "outputId": "3d62d511-9d18-4f82-b917-83b815d0e477"
      },
      "outputs": [],
      "source": [
        "# TODO Solution remove\n",
        "class Student(Person):\n",
        "    def __init__(self, name, age, major):\n",
        "        super().__init__(name, age)\n",
        "        raise NotImplementedError(\"Write your answer here\")\n",
        "        # Your code here\n",
        "        \n",
        "\n",
        "    def greet(self):\n",
        "        super().greet()\n",
        "        raise NotImplementedError(\"Write your answer here\")\n",
        "        # Your code here\n",
        "    \n",
        "student = Student(\"Alice\", 20, \"Computer Science\")\n",
        "student.greet()"
      ]
    },
    {
      "cell_type": "markdown",
      "metadata": {
        "id": "UoAuDhdekOku"
      },
      "source": [
        "If your code is correct, the output of the above cell should be.\n",
        "\n",
        "`\"Hello, my name is Alice and I'm 20 years old. I'm a student majoring in Computer Science.\"`"
      ]
    },
    {
      "cell_type": "markdown",
      "metadata": {
        "id": "sHgrDxyo5ag_"
      },
      "source": [
        "# 2. NumPy and Matplotlib Basics\n",
        "\n"
      ]
    },
    {
      "cell_type": "markdown",
      "metadata": {
        "id": "7mnTNP3E5eHx"
      },
      "source": [
        "## 2.1 Introduction to Arrays\n",
        "\n",
        "A sequence of values of the same type is called an array (for example an array of integers or floats).\n",
        "\n",
        "In the last hands-on exercise, we used the package NumPy to compute the cosine and exponential functions. However, NumPy is typically used to work with arrays.\n",
        "\n",
        "In the last hand-on exercise, we already imported NumPy and called it `np`, so that any function in the NumPy package can be called as `np.function`\n",
        "\n"
      ]
    },
    {
      "cell_type": "markdown",
      "metadata": {
        "id": "-SlP8dNr6h6e"
      },
      "source": [
        "### Creating an array\n",
        "\n",
        "There are many ways to create arrays. For example, you can enter the individual elements of an array"
      ]
    },
    {
      "cell_type": "code",
      "execution_count": null,
      "metadata": {
        "colab": {
          "base_uri": "https://localhost:8080/"
        },
        "id": "EUvaKkG6yEAR",
        "outputId": "ffdf272a-0d57-48cc-c919-96f336990b45"
      },
      "outputs": [],
      "source": [
        "np.array([1, 7, 2, 12])"
      ]
    },
    {
      "cell_type": "markdown",
      "metadata": {
        "id": "p-itVdn7yBPK"
      },
      "source": [
        "We can also create an array of a specified shape filled with the value 1 using `np.ones(shape)`. Similarly, we can use `np.zeros(shape)` to create an arrays filled with the value 0"
      ]
    },
    {
      "cell_type": "code",
      "execution_count": null,
      "metadata": {
        "colab": {
          "base_uri": "https://localhost:8080/"
        },
        "id": "pOn6HniLyBGJ",
        "outputId": "ecb2dbd3-917e-4a7d-f6c9-01f9fdb10edf"
      },
      "outputs": [],
      "source": [
        "print(np.ones(10))\n",
        "print(np.zeros(3))"
      ]
    },
    {
      "cell_type": "markdown",
      "metadata": {
        "id": "lI2eM_DeyA8K"
      },
      "source": [
        "We also have the `np.arange(start, end, step)` function, which creates an array starting at `start`, taking steps equal to `step` and stopping before it reaches `end`.\n",
        "\n",
        "Note that `step` is a keyword argument with default value 1 (recall keyword arguments from Section 1.5 on Python functions).\n",
        "\n",
        "Further, if you only specify only one input value, you get a sequence starting at 0 and incrementing by 1 until the specified value is reached (but note that it stops before it reaches that value!!)."
      ]
    },
    {
      "cell_type": "code",
      "execution_count": null,
      "metadata": {
        "colab": {
          "base_uri": "https://localhost:8080/"
        },
        "id": "VPYmf6cJyAzC",
        "outputId": "b73a681a-5250-4da5-c046-9898b9c00bdc"
      },
      "outputs": [],
      "source": [
        "print(np.arange(1, 7)) # Takes default steps of 1 and doesn't include 7\n",
        "print(np.arange(5)) # Starts at 0 end ends at 4, giving 5 numbers"
      ]
    },
    {
      "cell_type": "markdown",
      "metadata": {
        "id": "QHtHLwxMyAo4"
      },
      "source": [
        "What if we want to create an array of 5 equally spaced points between `-4` and `4`? In this case, we use the `np.linspace` function. We can also assign arrays to a variable."
      ]
    },
    {
      "cell_type": "code",
      "execution_count": null,
      "metadata": {
        "colab": {
          "base_uri": "https://localhost:8080/"
        },
        "id": "U3wicqT7yAfn",
        "outputId": "5796a7b4-2b20-488b-d699-cbc4b4a20977"
      },
      "outputs": [],
      "source": [
        "x = np.linspace(-4, 4, 5)\n",
        "x"
      ]
    },
    {
      "cell_type": "markdown",
      "metadata": {
        "id": "4x0Cihde6Wik"
      },
      "source": [
        "### Two-dimensional arrays\n",
        "\n",
        "Arrays can have arbitrary dimensions.\n",
        "\n",
        "Many machine learning problems make use of two-dimensional arrays.\n",
        "\n",
        "Similar to their one-dimensional counterparts, two-dimensional arrays can be created in many ways. Let us go through a few of them now.\n",
        "\n"
      ]
    },
    {
      "cell_type": "code",
      "execution_count": null,
      "metadata": {
        "colab": {
          "base_uri": "https://localhost:8080/"
        },
        "id": "Z_GfTOtT-i-r",
        "outputId": "e368d190-e7e9-4d3f-a198-43bdef9d9022"
      },
      "outputs": [],
      "source": [
        "x = np.ones((3, 4)) # An array with 3 rows and 4 columns\n",
        "x"
      ]
    },
    {
      "cell_type": "markdown",
      "metadata": {
        "id": "sAXK-bjc-cQf"
      },
      "source": [
        "Note that the number of rows and columns must be a tuple, so they need to be between parentheses. Check out the official python documentation to learn more about tuples https://docs.python.org/3/tutorial/datastructures.html#tuples-and-sequences . The functions expect only one input argument for the shape of the array, which may be either one number or a tuple of multiple numbers."
      ]
    },
    {
      "cell_type": "markdown",
      "metadata": {
        "id": "NFYwmERU7qzm"
      },
      "source": [
        "You can also create a two-dimensional array by explicitly specifying all the values.\n",
        "\n"
      ]
    },
    {
      "cell_type": "code",
      "execution_count": null,
      "metadata": {
        "colab": {
          "base_uri": "https://localhost:8080/"
        },
        "id": "CfSJ8ytK6WYx",
        "outputId": "ab88c57d-7f9b-47b2-d106-46f3fc51c425"
      },
      "outputs": [],
      "source": [
        "x = np.array([[4, 2, 3, 2],\n",
        "              [2, 4, 3, 1],\n",
        "              [0, 4, 1, 3]])\n",
        "x"
      ]
    },
    {
      "cell_type": "markdown",
      "metadata": {
        "id": "3QiyWVQJ6WO2"
      },
      "source": [
        "In the above example, we pass a list of lists to the `np.array` function, where each list corresponds to a row of the array. Entering the rows in separate lines makes it easier to enter the array, but it is not required."
      ]
    },
    {
      "cell_type": "markdown",
      "metadata": {
        "id": "1b9j6-ar9YPu"
      },
      "source": [
        "Next, let us try to change the shape of our array by using the `reshape` function.\n",
        "\n",
        "While reshaping the array, we need to make sure that the total number of entries doesn't change."
      ]
    },
    {
      "cell_type": "code",
      "execution_count": null,
      "metadata": {
        "colab": {
          "base_uri": "https://localhost:8080/"
        },
        "id": "2Ydix-7b6WFp",
        "outputId": "8fd2b2fd-f028-4ff4-d724-a129adc66f8b"
      },
      "outputs": [],
      "source": [
        "print(np.reshape(x, (2, 6)))  # 2 rows, 6 columns\n",
        "print()\n",
        "print(np.reshape(x, (1, 12)))  # 1 row, 12 columns"
      ]
    },
    {
      "cell_type": "markdown",
      "metadata": {
        "id": "RGlKSRxo6V8T"
      },
      "source": [
        "The index of a two-dimensional array is specified with two values, first the row index, then the column index."
      ]
    },
    {
      "cell_type": "code",
      "execution_count": null,
      "metadata": {
        "colab": {
          "base_uri": "https://localhost:8080/"
        },
        "id": "mUZ3KsWj6Vyv",
        "outputId": "11075302-9394-4174-d8a3-a79b1d28b6b4"
      },
      "outputs": [],
      "source": [
        "x = np.zeros((3, 8))\n",
        "x[0, 0] = 100\n",
        "x[1, 4:] = 200  # Row with index 1, columns starting with 4 to the end\n",
        "x[2, -1:4:-1] = 400  # Row with index 2, columns counting back from the end with steps of 1 and stop before reaching index 4\n",
        "\n",
        "x"
      ]
    },
    {
      "cell_type": "markdown",
      "metadata": {
        "id": "suJR0x67-Ozj"
      },
      "source": [
        "### Using conditions on arrays\n",
        "\n",
        "Similar to basic data types such as `int`, `float` or `str`, you can perform comparison statements on arrays.\n",
        "\n",
        "Doing so will return an array of booleans (True and False values) for each value in the array. For example,"
      ]
    },
    {
      "cell_type": "code",
      "execution_count": null,
      "metadata": {
        "colab": {
          "base_uri": "https://localhost:8080/"
        },
        "id": "ErnkW_OJ6Vgc",
        "outputId": "d433d5a4-229c-475d-91fe-78586b022fbf"
      },
      "outputs": [],
      "source": [
        "data = np.arange(5)\n",
        "print(data)\n",
        "print(data < 3)"
      ]
    },
    {
      "cell_type": "markdown",
      "metadata": {
        "id": "VXSsOAWk6VWi"
      },
      "source": [
        "The statement `data < 3` returns an array of type Boolean that has the same length as the array `data` and for each item in the array it is either `True` or `False`.\n",
        "\n",
        "Interestingly, you can use such an array of Boolean values to filter your original array. For example,"
      ]
    },
    {
      "cell_type": "code",
      "execution_count": null,
      "metadata": {
        "colab": {
          "base_uri": "https://localhost:8080/"
        },
        "id": "-XV_GHBN6VMo",
        "outputId": "5a46172b-33bc-4681-a8d1-a80c37b96398"
      },
      "outputs": [],
      "source": [
        "data[[True, True, False, True, False]]"
      ]
    },
    {
      "cell_type": "markdown",
      "metadata": {
        "id": "U-8PuoiyCg8F"
      },
      "source": [
        "When the indices of an array are specified with a boolean array, only the values of the array where the boolean array is True are selected.\n",
        "\n",
        "This is a very powerful feature offered by NumPy, and you will find yourself using similar operations when dealing with large datasets during your deep learning journey.\n",
        "\n",
        "In our example, if you want to get all values of our `data` array that are less than 3 you can do the following"
      ]
    },
    {
      "cell_type": "code",
      "execution_count": null,
      "metadata": {
        "colab": {
          "base_uri": "https://localhost:8080/"
        },
        "id": "gj52QxONDCmh",
        "outputId": "b6fbb7d6-99ca-4539-efe8-d667c65099cc"
      },
      "outputs": [],
      "source": [
        "data[data<3]"
      ]
    },
    {
      "cell_type": "markdown",
      "metadata": {
        "id": "7REbq9XkyAWJ"
      },
      "source": [
        "### Hands-on exercise\n",
        "\n",
        "Create an array `arr` of zeros with length 20. Change the first 5 values to 10. Change the next 10 values to a sequence starting at 12 and increasing with steps of 2 to 30 (do this with one command). Set the final 5 values to 30."
      ]
    },
    {
      "cell_type": "code",
      "execution_count": null,
      "metadata": {
        "colab": {
          "base_uri": "https://localhost:8080/"
        },
        "id": "MHHQAQiEyANS",
        "outputId": "b2a38189-7ace-40ef-ff7c-3af609fc567c"
      },
      "outputs": [],
      "source": [
        "\"\"\"\n",
        "Your answer here\n",
        "\"\"\"\n",
        "raise NotImplementedError(\"Write your answer here\")\n",
        "arr = ... # Your answer here"
      ]
    },
    {
      "cell_type": "markdown",
      "metadata": {
        "id": "FbGid41S5fCT"
      },
      "source": [
        "## 2.2 Making Simple Plots\n",
        "\n",
        "Let us now try to plot the values of the array `arr` on the y-axis vs. the corresponding indices on the x-axis.\n",
        "\n",
        "For this purpose, we will use a standard Python graphics package called `matplotlib`\n",
        "First, let us import the plotting part of `matplotlib` and call it `plt`."
      ]
    },
    {
      "cell_type": "code",
      "execution_count": null,
      "metadata": {
        "id": "ukzD-LtRGR0F"
      },
      "outputs": [],
      "source": [
        "import matplotlib.pyplot as plt"
      ]
    },
    {
      "cell_type": "markdown",
      "metadata": {
        "id": "WnAbndqVGWJv"
      },
      "source": [
        "Let us now make the actual plot."
      ]
    },
    {
      "cell_type": "code",
      "execution_count": null,
      "metadata": {
        "colab": {
          "base_uri": "https://localhost:8080/",
          "height": 447
        },
        "id": "x6JzM60gGmPH",
        "outputId": "2be88e8c-e2a1-4de9-d0f2-2128a2120757"
      },
      "outputs": [],
      "source": [
        "plt.plot(arr)"
      ]
    },
    {
      "cell_type": "markdown",
      "metadata": {
        "id": "FlT8sW4pG73u"
      },
      "source": [
        "## Bonus: Vectorizing a function\n",
        "\n",
        "Recall the function `my_func` that you create in Exercise 2 of Python Basics.\n",
        "\n",
        "$f(x) = \\cos(x)$ if $x<0$\n",
        "\n",
        "$f(x) = \\exp(-x)$ otherwise\n",
        "\n",
        "Let us print the outputs of certain $x$ values."
      ]
    },
    {
      "cell_type": "code",
      "execution_count": null,
      "metadata": {
        "colab": {
          "base_uri": "https://localhost:8080/"
        },
        "id": "f31OxJ9CKWUq",
        "outputId": "12c5ba3f-3e3f-4b19-e2e2-a49b1764a7d2"
      },
      "outputs": [],
      "source": [
        "my_func(0), my_func(-1), my_func(1), my_func(0.5)"
      ]
    },
    {
      "cell_type": "markdown",
      "metadata": {
        "id": "YFpaAY0HKfvR"
      },
      "source": [
        "Now suppose we want to get outputs for 100 values of $x$ between -6 and 6. That is,"
      ]
    },
    {
      "cell_type": "code",
      "execution_count": null,
      "metadata": {
        "id": "JnW4ofhuKgUw"
      },
      "outputs": [],
      "source": [
        "x_vals = np.linspace(-6,6,100)"
      ]
    },
    {
      "cell_type": "markdown",
      "metadata": {
        "id": "V4007hFlK6xg"
      },
      "source": [
        "What would happen if you use `x_vals` as an input to `my_func`? Will you get an error? Let's try it out."
      ]
    },
    {
      "cell_type": "code",
      "execution_count": null,
      "metadata": {
        "id": "YPJJou6xLTwJ"
      },
      "outputs": [],
      "source": [
        "# Run the below line after removing # to get an error message. Then put # back on\n",
        "# my_func(x_vals)"
      ]
    },
    {
      "cell_type": "markdown",
      "metadata": {
        "id": "z9Y8izW5LlFg"
      },
      "source": [
        "To resolve this error, you can vectorize the function `my_func`. This vectorized function can then be called with an array as its argument. Let us define this vectorized function and plot it."
      ]
    },
    {
      "cell_type": "code",
      "execution_count": null,
      "metadata": {
        "colab": {
          "base_uri": "https://localhost:8080/",
          "height": 430
        },
        "id": "yOu-wqM-MJMJ",
        "outputId": "ed7b46a6-19f4-418e-f177-339a1b252db9"
      },
      "outputs": [],
      "source": [
        "funcvec = np.vectorize(my_func)\n",
        "x = np.linspace(-6, 6, 100)\n",
        "y = funcvec(x)\n",
        "plt.plot(x, y)"
      ]
    },
    {
      "cell_type": "markdown",
      "metadata": {
        "id": "A3oTkETDlm3X"
      },
      "source": [
        "## 2.3 Hands-on exercise: Numpy and Matplotlib Basics"
      ]
    },
    {
      "cell_type": "markdown",
      "metadata": {
        "id": "wQEI4cz2Mptb"
      },
      "source": [
        "### Exercise 1\n",
        "Create an array for variable $x$ consisting of 100 values from 0 to 20.\n",
        "\n",
        "Compute $y=\\sin(x)$ and plot $y$ vs. $x$ with a blue line. Next, replace all values of $y$ that are larger than $0.5$ by $0.5$, and all values that are smaller than $−0.75$ by $−0.75$, and plot the modified $y$ values vs. $x$ using a red line on the same graph.\n",
        "\n",
        "**Hint:**\n",
        "You can call `plt.plot()` twice, once before and after modifying the $y$ values. For plotting with a blue line you can use  `plt.plot(x, y, 'b')`. Replace `b` with `r` to plot with a red line.\n",
        "\n",
        "Also check out the official Matplotlib color guide if you want to experiment with colors of your choice!\n",
        "https://matplotlib.org/stable/gallery/color/named_colors.html"
      ]
    },
    {
      "cell_type": "code",
      "execution_count": null,
      "metadata": {
        "colab": {
          "base_uri": "https://localhost:8080/",
          "height": 447
        },
        "id": "643H-BqiNdMM",
        "outputId": "e6b1b791-fa4c-4a33-860c-0bb2bb61e16e"
      },
      "outputs": [],
      "source": [
        "\"\"\"\n",
        "You solution here\n",
        "\"\"\"\n",
        "raise NotImplementedError(\"Write your answer here\")\n",
        "x = np.linspace(0, ..., ...)\n",
        "y = np.sin(x)\n",
        "# plot the graph\n",
        "y[...] = 0.5\n",
        "y[...] = -0.75\n",
        "# plot the graph\n",
        "\n",
        "\n",
        "# ADD FIGURE"
      ]
    },
    {
      "cell_type": "markdown",
      "metadata": {
        "id": "s-dOV5Y9lbms"
      },
      "source": [
        "### Exercise 2\n",
        "\n",
        "Given a list of two-dimensional NumPy arrays `array_list` each with the same number of columns, we want to write a function `sort_by_column`that takes as input `array_list`, and vertically stacks the arrays in the `array_list`.\n",
        "\n",
        "This function also sorts in an ascending order the stacked array by the values in column (specified by the specified `column_idx` argument), and returns the indices that would sort the array in ascending order.\n",
        "\n"
      ]
    },
    {
      "cell_type": "code",
      "execution_count": null,
      "metadata": {
        "colab": {
          "base_uri": "https://localhost:8080/"
        },
        "id": "xJh5d1XHlb87",
        "outputId": "8acd6b56-121d-41c2-8f98-e96e47603f81"
      },
      "outputs": [],
      "source": [
        "def sort_by_column(array_list, column_idx, ascending=True):\n",
        "    raise NotImplementedError(\"Write your answer here\")\n",
        "    stacked_array = ...\n",
        "    sorted_indices = np.argsort(stacked_array[:, column_idx])\n",
        "    return stacked_array, sorted_indices\n",
        "\n",
        "array_list = [np.array([[1, 4], [3, 2]]), np.array([[5, 6], [7, 8]])]\n",
        "column_idx = 1\n",
        "stacked_array, sorted_indices = sort_by_column(array_list, column_idx, ascending=False)\n",
        "stacked_array, sorted_indices"
      ]
    },
    {
      "cell_type": "markdown",
      "metadata": {
        "id": "9LVWzA6kqleB"
      },
      "source": [
        "If you code above is correct, you should get the following output\n",
        "\n",
        "\n",
        "```\n",
        "(array([[1, 4],\n",
        "        [3, 2],\n",
        "        [5, 6],\n",
        "        [7, 8]]),\n",
        " array([1, 0, 2, 3]))\n",
        "```\n",
        "\n"
      ]
    },
    {
      "cell_type": "markdown",
      "metadata": {
        "id": "SfoT4R0MP4KI"
      },
      "source": [
        "## Moving Forward\n",
        "\n",
        "It is important to note that both NumPy and Matplotlib offer numerous attractive functionalities. Unfortunatelly, it is not possible to cover all of them in such a short session. But the good news is that only a few functionalties are routinely used for deep learning applications, so you don't really need to learn all of them. In most cases, you will encounter them one at a time while solving any deep learning problem. And finally, remember that you can always use Google (or even ChatGPT) to find a function that best suits your purpose!\n",
        "\n",
        "With the above approach in mind, let us now try to apply the the functions and commands we covered so far by fitting a certain model on a dataset (and possibly learn a couple more in the process). In the next section, we will learn simple linear regression using least squares optimization."
      ]
    },
    {
      "cell_type": "markdown",
      "metadata": {
        "id": "vP60Gz_5txzn"
      },
      "source": [
        "# 3. First Machine Learning Problem: Linear Regression with Least Squares Optimization"
      ]
    },
    {
      "cell_type": "markdown",
      "metadata": {
        "id": "lrMf8DUQuBYM"
      },
      "source": [
        "In this tutorial, we will learn how to fit simple linear models to data.\n",
        "- Learn how to calculate the mean-squared error (MSE)\n",
        "- Explore how model parameters (slope) influence the MSE\n",
        "- Learn how to find the optimal model parameter using least-squares optimization\n",
        "\n",
        "<br>\n",
        "\n",
        "**Acknowledgement:**\n",
        "This section is largely based on the Tutorial on Linear Regression using MSE, offered by the **Neuromatch computational neuroscience course**.\n",
        "https://compneuro.neuromatch.io/tutorials/W1D2_ModelFitting/student/W1D2_Tutorial1.html#\n"
      ]
    },
    {
      "cell_type": "markdown",
      "metadata": {
        "execution": {},
        "id": "vvH2OYVvrxlv"
      },
      "source": [
        "---\n",
        "## Setup"
      ]
    },
    {
      "cell_type": "code",
      "execution_count": null,
      "metadata": {
        "colab": {
          "base_uri": "https://localhost:8080/"
        },
        "execution": {},
        "id": "PazBHxLprxlv",
        "outputId": "b3a04c30-a59d-4745-cc73-ca2afd47fc66"
      },
      "outputs": [],
      "source": [
        "# @title Install and import feedback gadget\n",
        "\n",
        "!pip3 install vibecheck datatops --quiet\n",
        "\n",
        "from vibecheck import DatatopsContentReviewContainer\n",
        "def content_review(notebook_section: str):\n",
        "    return DatatopsContentReviewContainer(\n",
        "        \"\",  # No text prompt\n",
        "        notebook_section,\n",
        "        {\n",
        "            \"url\": \"https://pmyvdlilci.execute-api.us-east-1.amazonaws.com/klab\",\n",
        "            \"name\": \"neuromatch_cn\",\n",
        "            \"user_key\": \"y1x3mpx5\",\n",
        "        },\n",
        "    ).render()\n",
        "\n",
        "\n",
        "feedback_prefix = \"W1D2_T1\""
      ]
    },
    {
      "cell_type": "code",
      "execution_count": null,
      "metadata": {
        "cellView": "both",
        "execution": {},
        "id": "jzcQOIIOrxlv"
      },
      "outputs": [],
      "source": [
        "import numpy as np\n",
        "import matplotlib.pyplot as plt"
      ]
    },
    {
      "cell_type": "code",
      "execution_count": null,
      "metadata": {
        "cellView": "form",
        "execution": {},
        "id": "fNC4WBamrxlv"
      },
      "outputs": [],
      "source": [
        "# @title Figure Settings\n",
        "import logging\n",
        "logging.getLogger('matplotlib.font_manager').disabled = True\n",
        "\n",
        "import ipywidgets as widgets  # interactive display\n",
        "%config InlineBackend.figure_format = 'retina'\n",
        "plt.style.use(\"https://raw.githubusercontent.com/NeuromatchAcademy/course-content/main/nma.mplstyle\")"
      ]
    },
    {
      "cell_type": "code",
      "execution_count": null,
      "metadata": {
        "cellView": "form",
        "execution": {},
        "id": "d0U-7Q_Erxlv"
      },
      "outputs": [],
      "source": [
        "# @title Plotting Functions\n",
        "\n",
        "def plot_observed_vs_predicted(x, y, y_hat, theta_hat):\n",
        "  \"\"\" Plot observed vs predicted data\n",
        "\n",
        "  Args:\n",
        "    x (ndarray): observed x values\n",
        "    y (ndarray): observed y values\n",
        "    y_hat (ndarray): predicted y values\n",
        "    theta_hat (ndarray):\n",
        "  \"\"\"\n",
        "  fig, ax = plt.subplots()\n",
        "  ax.scatter(x, y, label='Observed')  # our data scatter plot\n",
        "  ax.plot(x, y_hat, color='r', label='Fit')  # our estimated model\n",
        "  # plot residuals\n",
        "  ymin = np.minimum(y, y_hat)\n",
        "  ymax = np.maximum(y, y_hat)\n",
        "  ax.vlines(x, ymin, ymax, 'g', alpha=0.5, label='Residuals')\n",
        "  ax.set(\n",
        "      title=fr\"$\\hat{{\\theta}}$ = {theta_hat:0.2f}, MSE = {np.mean((y - y_hat)**2):.2f}\",\n",
        "      xlabel='x',\n",
        "      ylabel='y'\n",
        "  )\n",
        "  ax.legend()\n",
        "  plt.show()"
      ]
    },
    {
      "cell_type": "markdown",
      "metadata": {
        "id": "i4K1yNVAwgjr"
      },
      "source": [
        "## 3.1 Linear Regression and Mean Squared Error (MSE)\n",
        "\n",
        "**Linear least squares regression** is an old but gold  optimization procedure that we are going to use for data fitting. Least squares (LS) optimization problems are those in which the objective function is a quadratic function of the\n",
        "parameter(s) being optimized.\n",
        "\n",
        "Suppose you have a set of measurements: for each data point or measurement, you have $y_{i}$ (the \"dependent\" variable) obtained for a different input value, $x_{i}$ (the \"independent\" or \"explanatory\" variable).  Suppose we believe the measurements are proportional to the input values, but are corrupted by some (random) measurement errors, $\\epsilon_{i}$, that is:\n",
        "\n",
        "\\begin{equation}\n",
        "y_{i}= \\theta x_{i}+\\epsilon_{i}\n",
        "\\end{equation}\n",
        "\n",
        "for some unknown slope parameter $\\theta.$ The least squares regression problem uses **mean squared error (MSE)** as its objective function, it aims to find the value of the parameter $\\theta$ by minimizing the average of squared errors:\n",
        "\n",
        "\\begin{equation}\n",
        "\\min _{\\theta} \\frac{1}{N}\\sum_{i=1}^{N}\\left(y_{i}-\\theta x_{i}\\right)^{2}\n",
        "\\end{equation}\n",
        "\n",
        "</br>\n",
        "\n",
        "**We highly recommend that you check out the following video by Dr. Anqi Wu** </br>\n",
        "https://www.youtube.com/watch?v=HumajfjJ37E"
      ]
    },
    {
      "cell_type": "markdown",
      "metadata": {
        "id": "94qEcDXexZ04"
      },
      "source": [
        "We will now explore how MSE is used in fitting a linear regression model to data. For illustrative purposes, we will create a simple synthetic dataset where we know the true underlying model. This will allow us to see how our estimation efforts compare in uncovering the real model (though in practice we rarely have this luxury).\n",
        "\n",
        "First we will generate some noisy samples $x$ from [0, 10) along the line $y = 1.2x$ as our dataset we wish to fit a model to.\n"
      ]
    },
    {
      "cell_type": "markdown",
      "metadata": {
        "id": "FtK7myvXxezy"
      },
      "source": [
        "Go through the code in the below cell, and execute it to generate some simulated data"
      ]
    },
    {
      "cell_type": "code",
      "execution_count": null,
      "metadata": {
        "id": "AxROp4NXx8H1"
      },
      "outputs": [],
      "source": [
        "# setting a fixed seed to our random number generator ensures we will always\n",
        "# get the same psuedorandom number sequence\n",
        "np.random.seed(121)\n",
        "\n",
        "# Let's set some parameters\n",
        "theta = 1.2\n",
        "n_samples = 30\n",
        "\n",
        "# Draw x and then calculate y\n",
        "x = 10 * np.random.rand(n_samples)  # sample from a uniform distribution over [0,10)\n",
        "noise = np.random.randn(n_samples)  # sample from a standard normal distribution\n",
        "y = theta * x + noise"
      ]
    },
    {
      "cell_type": "markdown",
      "metadata": {
        "id": "D_4POjBQyRwv"
      },
      "source": [
        "Let us plot our simulated data"
      ]
    },
    {
      "cell_type": "code",
      "execution_count": null,
      "metadata": {
        "colab": {
          "base_uri": "https://localhost:8080/",
          "height": 592
        },
        "id": "OymUQVz0yIzG",
        "outputId": "0903689e-0539-4efb-92f6-ec217fbeb8d0"
      },
      "outputs": [],
      "source": [
        "fig, ax = plt.subplots()\n",
        "ax.scatter(x, y)  # produces a scatter plot\n",
        "ax.set(xlabel='x', ylabel='y');"
      ]
    },
    {
      "cell_type": "markdown",
      "metadata": {
        "id": "t0hkn_tnyeAV"
      },
      "source": [
        "### Hand-On Exercise: Compute MSE\n",
        "\n",
        "In this exercise you will implement a method to compute the mean squared error for a set of inputs $\\mathbf{x}$, measurements $\\mathbf{y}$, and slope estimate $\\hat{\\theta}$. Here, $\\mathbf{x}$ and $\\mathbf{y}$ are vectors of data points. We will then compute and print the mean squared error for 3 different choices of theta.\n",
        "\n",
        "As a reminder, the equation for computing the estimated y for a single data point is:\n",
        "\n",
        "\\begin{equation}\n",
        "\\hat{y}_{i}= \\theta x_{i}\n",
        "\\end{equation}\n",
        "\n",
        "and for mean squared error is:\n",
        "\n",
        "\\begin{equation}\n",
        "\\min _{\\theta} \\frac{1}{N}\\sum_{i=1}^{N}\\left(y_{i}-\\hat{y}_i\\right)^{2}\n",
        "\\end{equation}"
      ]
    },
    {
      "cell_type": "code",
      "execution_count": null,
      "metadata": {
        "colab": {
          "base_uri": "https://localhost:8080/"
        },
        "id": "rHrqi9g5ypTG",
        "outputId": "3d20d0db-2169-4e25-a6eb-51a8b82a1875"
      },
      "outputs": [],
      "source": [
        "def mse(x, y, theta_hat):\n",
        "  \"\"\"Compute the mean squared error\n",
        "\n",
        "  Args:\n",
        "    x (ndarray): An array of shape (samples,) that contains the input values.\n",
        "    y (ndarray): An array of shape (samples,) that contains the corresponding\n",
        "      measurement values to the inputs.\n",
        "    theta_hat (float): An estimate of the slope parameter\n",
        "\n",
        "  Returns:\n",
        "    float: The mean squared error of the data with the estimated parameter.\n",
        "  \"\"\"\n",
        "  ####################################################\n",
        "  ## TODO for students: compute the mean squared error\n",
        "  # Fill out function and remove\n",
        "  raise NotImplementedError(\"Student exercise: compute the mean squared error\")\n",
        "  ####################################################\n",
        "\n",
        "  # Compute the estimated y\n",
        "  y_hat = ...\n",
        "\n",
        "  # Compute mean squared error\n",
        "  mse = ...\n",
        "\n",
        "  return mse\n",
        "\n",
        "\n",
        "theta_hats = [0.75, 1.0, 1.5]\n",
        "for theta_hat in theta_hats:\n",
        "  print(f\"theta_hat of {theta_hat} has an MSE of {mse(x, y, theta_hat):.2f}\")"
      ]
    },
    {
      "cell_type": "markdown",
      "metadata": {
        "execution": {},
        "id": "dQeG9Gb0rxlw"
      },
      "source": [
        "The result should be:\n",
        "\n",
        "```\n",
        "theta_hat of 0.75 has an MSE of 9.08\\\n",
        "theta_hat of 1.0 has an MSE of 3.0\\\n",
        "theta_hat of 1.5 has an MSE of 4.52\n",
        "```\n",
        "\n",
        "\n"
      ]
    },
    {
      "cell_type": "markdown",
      "metadata": {
        "id": "1QvR6-Eny5fi"
      },
      "source": [
        "We see that $\\hat{\\theta} = 1.0$ is our best estimate from the three we tried. Looking just at the raw numbers, however, isn't always satisfying, so let's visualize what our estimated model looks like over the data.\n",
        "\n"
      ]
    },
    {
      "cell_type": "code",
      "execution_count": null,
      "metadata": {
        "colab": {
          "base_uri": "https://localhost:8080/",
          "height": 492
        },
        "id": "n5lVfXfry554",
        "outputId": "3b3007a5-a091-4403-8214-9b40f3e4acd4"
      },
      "outputs": [],
      "source": [
        "fig, axes = plt.subplots(ncols=3, figsize=(15, 5))\n",
        "for theta_hat, ax in zip(theta_hats, axes):\n",
        "\n",
        "  # True data\n",
        "  ax.scatter(x, y, label='Observed')  # our data scatter plot\n",
        "\n",
        "  # Compute and plot predictions\n",
        "  y_hat = theta_hat * x\n",
        "  ax.plot(x, y_hat, color='r', label='Fit')  # our estimated model\n",
        "\n",
        "  ax.set(\n",
        "      title= fr'$\\hat{{\\theta}}$= {theta_hat}, MSE = {np.mean((y - y_hat)**2):.2f}',\n",
        "      xlabel='x',\n",
        "      ylabel='y'\n",
        "  );\n",
        "\n",
        "axes[0].legend()\n",
        "plt.show()"
      ]
    },
    {
      "cell_type": "markdown",
      "metadata": {
        "execution": {},
        "id": "A1upP_Vzrxlx"
      },
      "source": [
        "### Interactive Exploration of MSE\n",
        "\n",
        "Using an interactive widget, we can easily see how changing our slope estimate changes our model fit. We display the **residuals**, the differences between observed and predicted data, as line segments between the data point (observed response) and the corresponding predicted response on the model fit line.\n",
        "\n",
        "- What value of $\\hat{\\theta}$ results in the lowest MSE?\n",
        "- Is this a good way of estimating $\\theta$?\n"
      ]
    },
    {
      "cell_type": "code",
      "execution_count": null,
      "metadata": {
        "cellView": "form",
        "colab": {
          "base_uri": "https://localhost:8080/",
          "height": 624,
          "referenced_widgets": [
            "342559cdc06442b399f2f0867754646d",
            "2350635c29114d909e88f8160aa0c9df",
            "0b7b8ca94c60438c9864b067f5116e10",
            "2e5f499734db42f0ad904e81e261204c",
            "a3d5aeb437ea4f4ca4e49a57c35c2e62",
            "ce7a32cd496e4e90bc92e51263f92f0a",
            "f246468917cb42a780f55e6bfa2d7635"
          ]
        },
        "execution": {},
        "id": "_-PvCwX2rxly",
        "outputId": "8371692a-c785-44aa-c7f8-f71d44f708f9"
      },
      "outputs": [],
      "source": [
        "# @markdown Make sure you execute this cell to enable the widget!\n",
        "@widgets.interact(theta_hat=widgets.FloatSlider(1.0, min=0.0, max=2.0))\n",
        "def plot_data_estimate(theta_hat):\n",
        "  y_hat = theta_hat * x\n",
        "  plot_observed_vs_predicted(x, y, y_hat, theta_hat)"
      ]
    },
    {
      "cell_type": "markdown",
      "metadata": {
        "execution": {},
        "id": "cWXOOX0crxly"
      },
      "source": [
        "While visually exploring several estimates can be instructive, it's not the most efficient for finding the best estimate to fit our data. Another technique we can use is to choose a reasonable range of parameter values and compute the MSE at several values in that interval. This allows us to plot the error against the parameter value (this is also called an **error landscape**, especially when we deal with more than one parameter). We can select the final $\\hat{\\theta}$  ($\\hat{\\theta}_\\textrm{MSE}$) as the one which results in the lowest error."
      ]
    },
    {
      "cell_type": "markdown",
      "metadata": {
        "id": "XGp3I0py0P3J"
      },
      "source": [
        "Execute the cell below to loop over theta_hats, compute MSE, and plot *results*"
      ]
    },
    {
      "cell_type": "code",
      "execution_count": null,
      "metadata": {
        "colab": {
          "base_uri": "https://localhost:8080/",
          "height": 592
        },
        "execution": {},
        "id": "QY5uAVilrxly",
        "outputId": "a54daa69-dcf1-4b02-95eb-7c6d721c24d7"
      },
      "outputs": [],
      "source": [
        "# Loop over different thetas, compute MSE for each\n",
        "theta_hat_grid = np.linspace(-2.0, 4.0)\n",
        "errors = np.zeros(len(theta_hat_grid))\n",
        "for i, theta_hat in enumerate(theta_hat_grid):\n",
        "  errors[i] = mse(x, y, theta_hat)\n",
        "\n",
        "# Find theta that results in lowest error\n",
        "best_error = np.min(errors)\n",
        "theta_hat = theta_hat_grid[np.argmin(errors)]\n",
        "\n",
        "\n",
        "# Plot results\n",
        "fig, ax = plt.subplots()\n",
        "ax.plot(theta_hat_grid, errors, '-o', label='MSE', c='C1')\n",
        "ax.axvline(theta, color='g', ls='--', label=r\"$\\theta_{True}$\")\n",
        "ax.axvline(theta_hat, color='r', ls='-', label=r\"$\\hat{{\\theta}}_{MSE}$\")\n",
        "ax.set(\n",
        "  title=fr\"Best fit: $\\hat{{\\theta}}$ = {theta_hat:.2f}, MSE = {best_error:.2f}\",\n",
        "  xlabel=r\"$\\hat{{\\theta}}$\",\n",
        "  ylabel='MSE')\n",
        "ax.legend()\n",
        "plt.show()"
      ]
    },
    {
      "cell_type": "markdown",
      "metadata": {
        "execution": {},
        "id": "xQau94QOrxly"
      },
      "source": [
        "---\n",
        "## 3.2 Least-squares optimization\n",
        "\n",
        "While the approach detailed above (computing MSE at various values of $\\hat\\theta$) quickly got us to a good estimate, it still relied on evaluating the MSE value across a grid of hand-specified values. If we didn't pick a good range to begin with, or with enough granularity, we might miss the best possible estimator. Let's go one step further, and instead of finding the minimum MSE from a set of candidate estimates, let's solve for it analytically.\n",
        "\n",
        "We can do this by minimizing the cost function. Mean squared error is a convex objective function, therefore we can compute its minimum using calculus. Please see video or Bonus Section 1 for this derivation! After computing the minimum, we find that:\n",
        "\n",
        "\\begin{equation}\n",
        "\\hat\\theta = \\frac{\\mathbf{x}^\\top \\mathbf{y}}{\\mathbf{x}^\\top \\mathbf{x}}\n",
        "\\end{equation}\n",
        "\n",
        "where $\\mathbf{x}$ and $\\mathbf{y}$ are vectors of data points.\n",
        "\n",
        "This is known as solving the normal equations. For different ways of obtaining the solution, see the notes on [Least Squares Optimization](https://www.cns.nyu.edu/~eero/NOTES/leastSquares.pdf) by Eero Simoncelli."
      ]
    },
    {
      "cell_type": "markdown",
      "metadata": {
        "execution": {},
        "id": "kQQgtByFrxly"
      },
      "source": [
        "### Hands-On Exercise: Solve for the Optimal Estimator\n",
        "\n",
        "In this exercise, you will write a function that finds the optimal $\\hat{\\theta}$ value using the least squares optimization approach (the equation above) to solve MSE minimization. It should take arguments $x$ and $y$ and return the solution $\\hat{\\theta}$.\n",
        "\n",
        "We will then use your function to compute $\\hat{\\theta}$ and plot the resulting prediction on top of the data."
      ]
    },
    {
      "cell_type": "code",
      "execution_count": null,
      "metadata": {
        "colab": {
          "base_uri": "https://localhost:8080/",
          "height": 594
        },
        "execution": {},
        "id": "9mOWcEk9rxly",
        "outputId": "de318d6d-745e-4ddf-de78-babcb48106d2"
      },
      "outputs": [],
      "source": [
        "def solve_normal_eqn(x, y):\n",
        "  \"\"\"Solve the normal equations to produce the value of theta_hat that minimizes\n",
        "    MSE.\n",
        "\n",
        "    Args:\n",
        "    x (ndarray): An array of shape (samples,) that contains the input values.\n",
        "    y (ndarray): An array of shape (samples,) that contains the corresponding\n",
        "      measurement values to the inputs.\n",
        "\n",
        "  Returns:\n",
        "    float: the value for theta_hat arrived from minimizing MSE\n",
        "  \"\"\"\n",
        "\n",
        "  ################################################################################\n",
        "  ## TODO for students: solve for the best parameter using least squares\n",
        "  # Fill out function and remove\n",
        "  raise NotImplementedError(\"Student exercise: solve for theta_hat using least squares\")\n",
        "  ################################################################################\n",
        "\n",
        "  # Compute theta_hat analytically\n",
        "  theta_hat = ...\n",
        "\n",
        "  return theta_hat\n",
        "\n",
        "\n",
        "theta_hat = solve_normal_eqn(x, y)\n",
        "y_hat = theta_hat * x\n",
        "plot_observed_vs_predicted(x, y, y_hat, theta_hat)"
      ]
    },
    {
      "cell_type": "markdown",
      "metadata": {
        "execution": {},
        "id": "hgpH2OWYrxly"
      },
      "source": [
        "We see that the analytic solution produces an even better result than our grid search from before, producing $\\hat{\\theta} = 1.21$ with $\\text{MSE} = 1.43$!"
      ]
    },
    {
      "cell_type": "markdown",
      "metadata": {
        "execution": {},
        "id": "n0DRXRx4rxly"
      },
      "source": [
        "---\n",
        "## Summary\n",
        "\n",
        "Linear least squares regression is an optimization procedure that can be used for data fitting:\n",
        "\n",
        "  - Task: predict a value for $y_i$ given $x_i$\n",
        "  - Performance measure: $\\textrm{MSE}$\n",
        "  - Procedure: minimize $\\textrm{MSE}$ by solving the normal equations\n",
        "\n",
        "**Key point**: We fit the model by defining an *objective function* and minimizing it.\n",
        "\n",
        "**Note**: In this case, there is an *analytical* solution to the minimization problem and in practice, this solution can be computed using *linear algebra*. This is *extremely* powerful and forms the basis for much of numerical computation throughout the sciences."
      ]
    },
    {
      "cell_type": "markdown",
      "metadata": {
        "execution": {},
        "id": "ki56hlUSrxly"
      },
      "source": [
        "---\n",
        "### Notation\n",
        "\n",
        "\\begin{align}\n",
        "x_{i} &\\quad \\text{input, independent variable}\\\\\n",
        "y_{i} &\\quad \\text{measurement, dependent variable}\\\\\n",
        "\\mathbf{x} &\\quad \\text{vector of input values}\\\\\n",
        "\\mathbf{y} &\\quad \\text{vector of measurements}\\\\\n",
        "\\hat{y}_{i} &\\quad \\text{estimate of dependent variable}\\\\\n",
        "\\epsilon_{i} &\\quad \\text{measurement error}\\\\\n",
        "\\theta &\\quad \\text{slope parameter}\\\\\n",
        "\\hat{\\theta} &\\quad \\text{estimated slope parameter}\\\\\n",
        "\\hat{\\theta}_\\text{MSE} &\\quad \\text{slope parameter estimated via the mean squared error}\\\\\n",
        "\\textrm{MSE} &\\quad \\text{mean squared error}\\\\\n",
        "\\end{align}"
      ]
    },
    {
      "cell_type": "markdown",
      "metadata": {
        "execution": {},
        "id": "2K1f1g-Erxlz"
      },
      "source": [
        "### Bonus Section: Least Squares Optimization Derivation\n",
        "\n",
        "We will outline here the derivation of the least squares solution.\n",
        "\n",
        "We first set the derivative of the error expression with respect to $\\theta$ equal to zero,\n",
        "\n",
        "\\begin{align}\n",
        "\\frac{d}{d\\theta}\\frac{1}{N}\\sum_{i=1}^N(y_i - \\theta x_i)^2 &= 0 \\\\\n",
        "\\frac{1}{N}\\sum_{i=1}^N-2x_i(y_i - \\theta x_i) &= 0\n",
        "\\end{align}\n",
        "\n",
        "where we used the chain rule. Now solving for $\\theta$, we obtain an optimal value of:\n",
        "\n",
        "\\begin{equation}\n",
        "\\hat\\theta = \\frac{\\sum_{i=1}^N x_i y_i}{\\sum_{i=1}^N x_i^2}\n",
        "\\end{equation}\n",
        "\n",
        "Which we can write in vector notation as:\n",
        "\n",
        "\\begin{equation}\n",
        "\\hat\\theta = \\frac{\\mathbf{x}^\\top \\mathbf{y}}{\\mathbf{x}^\\top \\mathbf{x}}\n",
        "\\end{equation}\n",
        "\n",
        "<br>\n",
        "\n",
        "This is known as solving the *normal equations*. For different ways of obtaining the solution, see the notes on [Least Squares Optimization](https://www.cns.nyu.edu/~eero/NOTES/leastSquares.pdf) by Eero Simoncelli."
      ]
    },
    {
      "cell_type": "markdown",
      "metadata": {
        "execution": {},
        "id": "98WBPr1lrxly"
      },
      "source": [
        "We can see that our best fit is $\\hat{\\theta}=1.18$ with an MSE of 1.45. This is quite close to the original true value $\\theta=1.2$!\n"
      ]
    },
    {
      "cell_type": "markdown",
      "metadata": {
        "id": "0ZkwJ9O6bLhV"
      },
      "source": [
        "# Resources\n",
        "\n",
        "For Python and NumPy basics:\n",
        "\n",
        "* **Google's Python Class** https://developers.google.com/edu/python\n",
        "\n",
        "* **Exploratory computing with Python**, by\n",
        "Mark Bakker, Delft University of Technology https://mbakker7.github.io/exploratory_computing_with_python/\n",
        "\n",
        "* **Official Python documentation** https://docs.python.org/3/\n",
        "\n",
        "For linear regression:\n",
        "\n",
        "* **Linear regression with MSE** by Neuromatch Academy https://compneuro.neuromatch.io/tutorials/W1D2_ModelFitting/student/W1D2_Tutorial1.html#"
      ]
    }
  ],
  "metadata": {
    "colab": {
      "collapsed_sections": [
        "NeCqaRQ1o-uT",
        "sHgrDxyo5ag_",
        "-SlP8dNr6h6e",
        "4x0Cihde6Wik",
        "g6JfT9DvhsUJ"
      ],
      "provenance": [],
      "toc_visible": true
    },
    "kernelspec": {
      "display_name": "Python 3",
      "name": "python3"
    },
    "language_info": {
      "codemirror_mode": {
        "name": "ipython",
        "version": 3
      },
      "file_extension": ".py",
      "mimetype": "text/x-python",
      "name": "python",
      "nbconvert_exporter": "python",
      "pygments_lexer": "ipython3",
      "version": "3.8.18"
    },
    "widgets": {
      "application/vnd.jupyter.widget-state+json": {
        "0b7b8ca94c60438c9864b067f5116e10": {
          "model_module": "@jupyter-widgets/output",
          "model_module_version": "1.0.0",
          "model_name": "OutputModel",
          "state": {
            "_dom_classes": [],
            "_model_module": "@jupyter-widgets/output",
            "_model_module_version": "1.0.0",
            "_model_name": "OutputModel",
            "_view_count": null,
            "_view_module": "@jupyter-widgets/output",
            "_view_module_version": "1.0.0",
            "_view_name": "OutputView",
            "layout": "IPY_MODEL_f246468917cb42a780f55e6bfa2d7635",
            "msg_id": "",
            "outputs": [
              {
                "data": {
                  "image/png": "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\n",
                  "text/plain": "<Figure size 800x600 with 1 Axes>"
                },
                "metadata": {
                  "image/png": {
                    "height": 575,
                    "width": 773
                  }
                },
                "output_type": "display_data"
              }
            ]
          }
        },
        "2350635c29114d909e88f8160aa0c9df": {
          "model_module": "@jupyter-widgets/controls",
          "model_module_version": "1.5.0",
          "model_name": "FloatSliderModel",
          "state": {
            "_dom_classes": [],
            "_model_module": "@jupyter-widgets/controls",
            "_model_module_version": "1.5.0",
            "_model_name": "FloatSliderModel",
            "_view_count": null,
            "_view_module": "@jupyter-widgets/controls",
            "_view_module_version": "1.5.0",
            "_view_name": "FloatSliderView",
            "continuous_update": true,
            "description": "theta_hat",
            "description_tooltip": null,
            "disabled": false,
            "layout": "IPY_MODEL_a3d5aeb437ea4f4ca4e49a57c35c2e62",
            "max": 2,
            "min": 0,
            "orientation": "horizontal",
            "readout": true,
            "readout_format": ".2f",
            "step": 0.1,
            "style": "IPY_MODEL_ce7a32cd496e4e90bc92e51263f92f0a",
            "value": 1
          }
        },
        "2e5f499734db42f0ad904e81e261204c": {
          "model_module": "@jupyter-widgets/base",
          "model_module_version": "1.2.0",
          "model_name": "LayoutModel",
          "state": {
            "_model_module": "@jupyter-widgets/base",
            "_model_module_version": "1.2.0",
            "_model_name": "LayoutModel",
            "_view_count": null,
            "_view_module": "@jupyter-widgets/base",
            "_view_module_version": "1.2.0",
            "_view_name": "LayoutView",
            "align_content": null,
            "align_items": null,
            "align_self": null,
            "border": null,
            "bottom": null,
            "display": null,
            "flex": null,
            "flex_flow": null,
            "grid_area": null,
            "grid_auto_columns": null,
            "grid_auto_flow": null,
            "grid_auto_rows": null,
            "grid_column": null,
            "grid_gap": null,
            "grid_row": null,
            "grid_template_areas": null,
            "grid_template_columns": null,
            "grid_template_rows": null,
            "height": null,
            "justify_content": null,
            "justify_items": null,
            "left": null,
            "margin": null,
            "max_height": null,
            "max_width": null,
            "min_height": null,
            "min_width": null,
            "object_fit": null,
            "object_position": null,
            "order": null,
            "overflow": null,
            "overflow_x": null,
            "overflow_y": null,
            "padding": null,
            "right": null,
            "top": null,
            "visibility": null,
            "width": null
          }
        },
        "342559cdc06442b399f2f0867754646d": {
          "model_module": "@jupyter-widgets/controls",
          "model_module_version": "1.5.0",
          "model_name": "VBoxModel",
          "state": {
            "_dom_classes": [
              "widget-interact"
            ],
            "_model_module": "@jupyter-widgets/controls",
            "_model_module_version": "1.5.0",
            "_model_name": "VBoxModel",
            "_view_count": null,
            "_view_module": "@jupyter-widgets/controls",
            "_view_module_version": "1.5.0",
            "_view_name": "VBoxView",
            "box_style": "",
            "children": [
              "IPY_MODEL_2350635c29114d909e88f8160aa0c9df",
              "IPY_MODEL_0b7b8ca94c60438c9864b067f5116e10"
            ],
            "layout": "IPY_MODEL_2e5f499734db42f0ad904e81e261204c"
          }
        },
        "a3d5aeb437ea4f4ca4e49a57c35c2e62": {
          "model_module": "@jupyter-widgets/base",
          "model_module_version": "1.2.0",
          "model_name": "LayoutModel",
          "state": {
            "_model_module": "@jupyter-widgets/base",
            "_model_module_version": "1.2.0",
            "_model_name": "LayoutModel",
            "_view_count": null,
            "_view_module": "@jupyter-widgets/base",
            "_view_module_version": "1.2.0",
            "_view_name": "LayoutView",
            "align_content": null,
            "align_items": null,
            "align_self": null,
            "border": null,
            "bottom": null,
            "display": null,
            "flex": null,
            "flex_flow": null,
            "grid_area": null,
            "grid_auto_columns": null,
            "grid_auto_flow": null,
            "grid_auto_rows": null,
            "grid_column": null,
            "grid_gap": null,
            "grid_row": null,
            "grid_template_areas": null,
            "grid_template_columns": null,
            "grid_template_rows": null,
            "height": null,
            "justify_content": null,
            "justify_items": null,
            "left": null,
            "margin": null,
            "max_height": null,
            "max_width": null,
            "min_height": null,
            "min_width": null,
            "object_fit": null,
            "object_position": null,
            "order": null,
            "overflow": null,
            "overflow_x": null,
            "overflow_y": null,
            "padding": null,
            "right": null,
            "top": null,
            "visibility": null,
            "width": null
          }
        },
        "ce7a32cd496e4e90bc92e51263f92f0a": {
          "model_module": "@jupyter-widgets/controls",
          "model_module_version": "1.5.0",
          "model_name": "SliderStyleModel",
          "state": {
            "_model_module": "@jupyter-widgets/controls",
            "_model_module_version": "1.5.0",
            "_model_name": "SliderStyleModel",
            "_view_count": null,
            "_view_module": "@jupyter-widgets/base",
            "_view_module_version": "1.2.0",
            "_view_name": "StyleView",
            "description_width": "",
            "handle_color": null
          }
        },
        "f246468917cb42a780f55e6bfa2d7635": {
          "model_module": "@jupyter-widgets/base",
          "model_module_version": "1.2.0",
          "model_name": "LayoutModel",
          "state": {
            "_model_module": "@jupyter-widgets/base",
            "_model_module_version": "1.2.0",
            "_model_name": "LayoutModel",
            "_view_count": null,
            "_view_module": "@jupyter-widgets/base",
            "_view_module_version": "1.2.0",
            "_view_name": "LayoutView",
            "align_content": null,
            "align_items": null,
            "align_self": null,
            "border": null,
            "bottom": null,
            "display": null,
            "flex": null,
            "flex_flow": null,
            "grid_area": null,
            "grid_auto_columns": null,
            "grid_auto_flow": null,
            "grid_auto_rows": null,
            "grid_column": null,
            "grid_gap": null,
            "grid_row": null,
            "grid_template_areas": null,
            "grid_template_columns": null,
            "grid_template_rows": null,
            "height": null,
            "justify_content": null,
            "justify_items": null,
            "left": null,
            "margin": null,
            "max_height": null,
            "max_width": null,
            "min_height": null,
            "min_width": null,
            "object_fit": null,
            "object_position": null,
            "order": null,
            "overflow": null,
            "overflow_x": null,
            "overflow_y": null,
            "padding": null,
            "right": null,
            "top": null,
            "visibility": null,
            "width": null
          }
        }
      }
    }
  },
  "nbformat": 4,
  "nbformat_minor": 0
}
